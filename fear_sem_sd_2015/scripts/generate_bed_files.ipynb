{
 "cells": [
  {
   "cell_type": "markdown",
   "metadata": {
    "code_folding": [
     0
    ]
   },
   "source": [
    "# Generate Sex Determination BED File\n",
    "\n",
    "This script parses Flybase 5.51 gff data to create several different BED files.\n",
    "\n",
    "* sd_coding_sequence.bed: Contains CDS coordiantes for each gene\n",
    "* sd_up_down_mRNA_sequence.bed: Contains 2kb upstream and downstream of each mRNA start\n",
    "* sd_gene_sequence.bed: Contains entire gene region."
   ]
  },
  {
   "cell_type": "code",
   "execution_count": null,
   "metadata": {
    "collapsed": false
   },
   "outputs": [],
   "source": [
    "%run './ipython_startup.py'"
   ]
  },
  {
   "cell_type": "code",
   "execution_count": null,
   "metadata": {
    "collapsed": true
   },
   "outputs": [],
   "source": [
    "import gff as mcgff"
   ]
  },
  {
   "cell_type": "code",
   "execution_count": null,
   "metadata": {
    "code_folding": [
     0
    ],
    "collapsed": false
   },
   "outputs": [],
   "source": [
    "# function to merge overlapping regions\n",
    "def mergeOverlap(cds, gene, chrom):\n",
    "    cds.sort(key=lambda x: x[0])\n",
    "    cds.sort(key=lambda x: x[1])\n",
    "    \n",
    "    out = list()\n",
    "    for i, cs in enumerate(cds):\n",
    "        cstart = cs[0]\n",
    "        cend = cs[1]\n",
    "        \n",
    "        if i == 0:\n",
    "            pstart = cstart\n",
    "            pend = cend\n",
    "        elif cstart <= pend:\n",
    "            pend = cend\n",
    "        else:\n",
    "            out.append((chrom, pstart-1, pend, gene))\n",
    "            pstart = cstart\n",
    "            pend = cend\n",
    "    out.append((chrom, pstart-1, pend, gene))\n",
    "    \n",
    "    return out"
   ]
  },
  {
   "cell_type": "code",
   "execution_count": null,
   "metadata": {
    "collapsed": true
   },
   "outputs": [],
   "source": [
    "# Connect to GFF data base\n",
    "fly = mcgff.FlyGff(os.path.join(MCLAB, 'useful_dmel_data/flybase551/flybase_files/dmel-all-no-analysis-r5.51.gff'))"
   ]
  },
  {
   "cell_type": "code",
   "execution_count": null,
   "metadata": {
    "code_folding": [
     0
    ],
    "collapsed": true
   },
   "outputs": [],
   "source": [
    "# list of genes in sex determination hierarchy\n",
    "sdGenes = ['B52', 'Psi', 'Rbp1', 'Spf45', 'Sxl', 'Yp1', 'Yp2', 'Yp3', \n",
    "         'dsx', 'fl(2)d', 'fru', 'her', 'ix', 'mub', 'ps', 'snf', \n",
    "         'sqd', 'tra', 'tra2', 'vir']"
   ]
  },
  {
   "cell_type": "code",
   "execution_count": null,
   "metadata": {
    "code_folding": [
     0
    ],
    "collapsed": false
   },
   "outputs": [],
   "source": [
    "# Generate CDS bed file\n",
    "out = list()\n",
    "for gene in sdGenes:\n",
    "    fbgn = fly.symbol2fbgn[gene]\n",
    "    chrom = fly.db[fbgn].chrom\n",
    "    CDS = [(min(x.start, x.end), max(x.start, x.end)) for x in fly.db.children(fbgn, featuretype='CDS')]    \n",
    "    merged = mergeOverlap(CDS, gene, chrom)\n",
    "    out.extend(merged)\n",
    "    \n",
    "with open(os.path.join(PROJ, 'exported_data/sd_coding_sequence.bed'), 'w') as OUT:\n",
    "    for row in out:\n",
    "        OUT.write('\\t'.join([str(x) for x in row]) + \"\\n\")"
   ]
  },
  {
   "cell_type": "code",
   "execution_count": null,
   "metadata": {
    "code_folding": [],
    "collapsed": false
   },
   "outputs": [],
   "source": [
    "# Generate 2kb up-down of mRNA start site bed file\n",
    "\n",
    "out = list()\n",
    "for gene in sdGenes:\n",
    "    fbgn = fly.symbol2fbgn[gene]\n",
    "    chrom = fly.db[fbgn].chrom\n",
    "    strand = fly.db[fbgn].strand\n",
    "    mRNA = fly.db.children(fbgn, featuretype='mRNA')\n",
    "    \n",
    "    if strand == '+':\n",
    "        TSS = [(ts.start - 2000, ts.start + 2000) for ts in mRNA]\n",
    "    elif strand == '-':\n",
    "        TSS = [(ts.end - 2000, ts.end + 2000) for ts in mRNA]\n",
    "            \n",
    "    merged = mergeOverlap(TSS, gene, chrom)\n",
    "    out.extend(merged)\n",
    "    \n",
    "with open(os.path.join(PROJ, 'exported_data/sd_up_down_mRNA_sequence.bed'), 'w') as OUT:\n",
    "    for row in out:\n",
    "        OUT.write('\\t'.join([str(x) for x in row]) + \"\\n\")\n"
   ]
  },
  {
   "cell_type": "code",
   "execution_count": null,
   "metadata": {
    "code_folding": [],
    "collapsed": false
   },
   "outputs": [],
   "source": [
    "# Generate Gene Region bed file\n",
    "out = list()\n",
    "for name in sdGenes:\n",
    "    fbgn = fly.symbol2fbgn[name]\n",
    "    gene = fly.db[fbgn]\n",
    "    chrom = gene.chrom\n",
    "    start = gene.start\n",
    "    end = gene.end\n",
    "    \n",
    "    out.append((chrom, start - 1, end, name))\n",
    "    \n",
    "with open(os.path.join(PROJ, 'exported_data/sd_gene_sequence.bed'), 'w') as OUT:\n",
    "    for row in out:\n",
    "        OUT.write('\\t'.join([str(x) for x in row]) + \"\\n\")"
   ]
  },
  {
   "cell_type": "code",
   "execution_count": null,
   "metadata": {
    "collapsed": true
   },
   "outputs": [],
   "source": []
  }
 ],
 "metadata": {
  "kernelspec": {
   "display_name": "Python 2",
   "language": "python",
   "name": "python2"
  },
  "language_info": {
   "codemirror_mode": {
    "name": "ipython",
    "version": 2
   },
   "file_extension": ".py",
   "mimetype": "text/x-python",
   "name": "python",
   "nbconvert_exporter": "python",
   "pygments_lexer": "ipython2",
   "version": "2.7.6"
  }
 },
 "nbformat": 4,
 "nbformat_minor": 0
}
