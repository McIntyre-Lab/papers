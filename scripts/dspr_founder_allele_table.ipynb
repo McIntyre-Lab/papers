{
 "cells": [
  {
   "cell_type": "code",
   "execution_count": null,
   "metadata": {
    "collapsed": false
   },
   "outputs": [],
   "source": [
    "%run './ipython_startup.py'"
   ]
  },
  {
   "cell_type": "code",
   "execution_count": null,
   "metadata": {
    "collapsed": true
   },
   "outputs": [],
   "source": [
    "import bed as mcbed"
   ]
  },
  {
   "cell_type": "markdown",
   "metadata": {},
   "source": [
    "## CDS"
   ]
  },
  {
   "cell_type": "code",
   "execution_count": null,
   "metadata": {
    "collapsed": true
   },
   "outputs": [],
   "source": [
    "# Import bed file of genes of interest\n",
    "bedName = os.path.join(PROJ, 'exported_data/sd_coding_sequence.bed')\n",
    "bed = mcbed.Bed(bedName)\n",
    "\n",
    "# Create data frame with positions of interest (poi)\n",
    "poi = list()\n",
    "for row in bed:\n",
    "    start = min(row[1], row[2])\n",
    "    end = max(row[1], row[2])\n",
    "    poi.append(pd.DataFrame([(row[3], row[0], x) for x in xrange(start, end)], columns=['gene', 'chrom', 'pos']))\n",
    "\n",
    "dfPoi = pd.concat(poi)\n",
    "# Import Parental RIL SNP calls\n",
    "fname = '/home/jfear/sandbox/cegs_sem_sd_paper/from_matt/SD-pathway_files/format_SNP_files/SNPtableBWA.txt'\n",
    "\n",
    "# Ignore following founders\n",
    "ignore = ['3RA2', 'B5XSAM', 'B5XSS']\n",
    "\n",
    "out = list()\n",
    "with open(fname, 'r') as FH:\n",
    "    for row in FH:\n",
    "        chrom, pos, minor, major, founderID, minorFreq, readCnt = row.strip().split('\\t')\n",
    "        if founderID not in ignore:\n",
    "            pos = int(pos)\n",
    "            minorFreq = float(minorFreq)\n",
    "            if minorFreq > 0:\n",
    "                out.append((chrom, pos, founderID, minor))\n",
    "            else:\n",
    "                out.append((chrom, pos, founderID, major))\n",
    "df = pd.DataFrame(out, columns=['chrom', 'pos', 'founderID', 'base'])"
   ]
  },
  {
   "cell_type": "code",
   "execution_count": null,
   "metadata": {
    "collapsed": false
   },
   "outputs": [],
   "source": [
    "# Import Parental RIL SNP calls\n",
    "fname = '/home/jfear/sandbox/cegs_sem_sd_paper/from_matt/SD-pathway_files/format_SNP_files/SNPtableBWA.txt'\n",
    "\n",
    "# Ignore following founders\n",
    "ignore = ['3RA2', 'B5XSAM', 'B5XSS']\n",
    "\n",
    "out = list()\n",
    "with open(fname, 'r') as FH:\n",
    "    for row in FH:\n",
    "        chrom, pos, minor, major, founderID, minorFreq, readCnt = row.strip().split('\\t')\n",
    "        if founderID not in ignore:\n",
    "            pos = int(pos)\n",
    "            minorFreq = float(minorFreq)\n",
    "            if minorFreq > 0:\n",
    "                out.append((chrom, pos, founderID, minor))\n",
    "            else:\n",
    "                out.append((chrom, pos, founderID, major))\n",
    "df = pd.DataFrame(out, columns=['chrom', 'pos', 'founderID', 'base'])"
   ]
  },
  {
   "cell_type": "code",
   "execution_count": null,
   "metadata": {
    "collapsed": false
   },
   "outputs": [],
   "source": [
    "# Merge positions of interest to SNP data\n",
    "dfFilter = df.merge(dfPoi, how='inner', on=['chrom', 'pos'])\n",
    "\n",
    "# Make wide data set of filtered data\n",
    "dfFilter.set_index(['gene', 'chrom', 'pos', 'founderID'], inplace=True)\n",
    "dfWide = dfFilter.unstack(level='founderID')\n",
    "\n",
    "# Iterate over gene and count the number of haplotypes\n",
    "grp = dfWide.groupby(level='gene')\n",
    "out = list()\n",
    "for name, g in grp:\n",
    "    uniq = set([tuple(x) for x in g.T.values])\n",
    "    out.append([name, len(uniq)])\n",
    "\n",
    "cds_out = pd.DataFrame(out, columns=['gene', 'cds_dspr'])\n",
    "cds_out.set_index('gene', inplace=True)"
   ]
  },
  {
   "cell_type": "markdown",
   "metadata": {
    "collapsed": true
   },
   "source": [
    "## Upstream and Downstream of TSS\n",
    "\n"
   ]
  },
  {
   "cell_type": "code",
   "execution_count": null,
   "metadata": {
    "collapsed": true
   },
   "outputs": [],
   "source": [
    "# Import bed file of genes of interest\n",
    "bedName = os.path.join(PROJ, 'exported_data/sd_up_down_mRNA_sequence.bed')\n",
    "bed = mcbed.Bed(bedName)\n",
    "\n",
    "# Create data frame with positions of interest (poi)\n",
    "poi = list()\n",
    "for row in bed:\n",
    "    start = min(row[1], row[2])\n",
    "    end = max(row[1], row[2])\n",
    "    poi.append(pd.DataFrame([(row[3], row[0], x) for x in xrange(start, end)], columns=['gene', 'chrom', 'pos']))\n",
    "\n",
    "dfPoi = pd.concat(poi)"
   ]
  },
  {
   "cell_type": "code",
   "execution_count": null,
   "metadata": {
    "collapsed": true
   },
   "outputs": [],
   "source": [
    "# Import Parental RIL SNP calls\n",
    "fname = '/home/jfear/sandbox/cegs_sem_sd_paper/from_matt/SD-pathway_files/format_SNP_files/SNPtableBWA.txt'\n",
    "\n",
    "# Ignore following founders\n",
    "ignore = ['3RA2', 'B5XSAM', 'B5XSS']\n",
    "\n",
    "out = list()\n",
    "with open(fname, 'r') as FH:\n",
    "    for row in FH:\n",
    "        chrom, pos, minor, major, founderID, minorFreq, readCnt = row.strip().split('\\t')\n",
    "        if founderID not in ignore:\n",
    "            pos = int(pos)\n",
    "            minorFreq = float(minorFreq)\n",
    "            if minorFreq > 0:\n",
    "                out.append((chrom, pos, founderID, minor))\n",
    "            else:\n",
    "                out.append((chrom, pos, founderID, major))\n",
    "df = pd.DataFrame(out, columns=['chrom', 'pos', 'founderID', 'base'])"
   ]
  },
  {
   "cell_type": "code",
   "execution_count": null,
   "metadata": {
    "collapsed": true
   },
   "outputs": [],
   "source": [
    "# Merge positions of interest to SNP data\n",
    "dfFilter = df.merge(dfPoi, how='inner', on=['chrom', 'pos'])\n",
    "\n",
    "# Make wide data set of filtered data\n",
    "dfFilter.set_index(['gene', 'chrom', 'pos', 'founderID'], inplace=True)\n",
    "dfWide = dfFilter.unstack(level='founderID')\n",
    "\n",
    "# Iterate over gene and count the number of haplotypes\n",
    "grp = dfWide.groupby(level='gene')\n",
    "out = list()\n",
    "for name, g in grp:\n",
    "    uniq = set([tuple(x) for x in g.T.values])\n",
    "    out.append([name, len(uniq)])\n",
    "\n",
    "mRNA_out = pd.DataFrame(out, columns=['gene', 'mRNA_dspr'])\n",
    "mRNA_out.set_index('gene', inplace=True)"
   ]
  },
  {
   "cell_type": "code",
   "execution_count": null,
   "metadata": {
    "collapsed": false
   },
   "outputs": [],
   "source": [
    "dspr = pd.concat([cds_out, mRNA_out], axis=1)"
   ]
  },
  {
   "cell_type": "code",
   "execution_count": null,
   "metadata": {
    "collapsed": true
   },
   "outputs": [],
   "source": []
  }
 ],
 "metadata": {
  "kernelspec": {
   "display_name": "Python 2",
   "language": "python",
   "name": "python2"
  },
  "language_info": {
   "codemirror_mode": {
    "name": "ipython",
    "version": 2
   },
   "file_extension": ".py",
   "mimetype": "text/x-python",
   "name": "python",
   "nbconvert_exporter": "python",
   "pygments_lexer": "ipython2",
   "version": "2.7.6"
  }
 },
 "nbformat": 4,
 "nbformat_minor": 0
}
