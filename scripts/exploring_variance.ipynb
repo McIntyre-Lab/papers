{
 "cells": [
  {
   "cell_type": "markdown",
   "metadata": {
    "code_folding": []
   },
   "source": [
    "# Exploring Variation\n",
    "\n",
    "One surprising finding from the adding genes SEM was that we were not able to \n",
    "add genes to the DSPR data. This suggests that the DSPR SEM is overfit. Here I \n",
    "want to explore the covariance structure of both data sets to see if I can \n",
    "narrow down the possibilities.\n",
    "\n",
    "There are two big differences between the CEGS and DSPR populations:\n",
    "\n",
    "1) The technology used (RNA-seq vs microarray)\n",
    "\n",
    "2) The structure of the population (Tester-cross with 75 founders vs RIL-cross \n",
    "   with 15 diverse founders)\n",
    "\n",
    "By exploring the variance patterns I hope to see what the difference look like \n",
    "in the data, and potentially figure out if these can be separated with the data \n",
    "that I have in hand."
   ]
  },
  {
   "cell_type": "code",
   "execution_count": null,
   "metadata": {
    "code_folding": [
     0
    ],
    "collapsed": false
   },
   "outputs": [],
   "source": [
    "%run 'ipython_startup.py'"
   ]
  },
  {
   "cell_type": "code",
   "execution_count": null,
   "metadata": {
    "collapsed": true
   },
   "outputs": [],
   "source": [
    "import seaborn as sns"
   ]
  },
  {
   "cell_type": "markdown",
   "metadata": {},
   "source": [
    "## The Data\n",
    "\n",
    "I have created two datasets for running in MMC, which contain just the sex \n",
    "hierarchy genes. **Note: because I made these data sets for mmc the rows are \n",
    "genes and the columns are lines.**"
   ]
  },
  {
   "cell_type": "code",
   "execution_count": null,
   "metadata": {
    "code_folding": [
     0
    ],
    "collapsed": true
   },
   "outputs": [],
   "source": [
    "dspr = pd.read_csv(os.path.join(PROJ, 'analysis_output/mmc/dsrp_sex_det_genes_for_mmc.csv'), index_col='_NAME_')\n",
    "cegs = pd.read_csv(os.path.join(PROJ, 'analysis_output/mmc/cegsV_sex_det_gene_for_mmc.csv'), index_col='_NAME_')"
   ]
  },
  {
   "cell_type": "code",
   "execution_count": null,
   "metadata": {
    "collapsed": false
   },
   "outputs": [],
   "source": [
    "dspr.drop('Rm62', inplace=True)"
   ]
  },
  {
   "cell_type": "markdown",
   "metadata": {
    "code_folding": []
   },
   "source": [
    "# Variation among genes in sex hierarchy\n",
    "\n",
    "## Variance Structure\n",
    "\n",
    "How do genes covary in the sex hierarchy? Look at covariance and correlation structure among genes in SD. \n",
    "\n",
    "### Covariance\n",
    "\n",
    "$cov(x, y) = \\frac{\\sum^n_{i=1} (x - \\bar x) (y - \\bar y)}{N-1}$\n",
    "\n",
    "The DSPR data has a more extreme pattern of covariance. Both the DSPR and CEGS show strong relationship among the *Yolk proteins*."
   ]
  },
  {
   "cell_type": "code",
   "execution_count": null,
   "metadata": {
    "code_folding": [
     0
    ],
    "collapsed": false
   },
   "outputs": [],
   "source": [
    "# Plot of Covaraince Matrix\n",
    "fig, (ax1, ax2) = plt.subplots(1, 2, figsize=(10, 10))\n",
    "d = sns.heatmap(dspr.T.cov(), vmin=-1, vmax=1, square=True, ax=ax1, cbar=False)\n",
    "ax1.set_title('DSPR')\n",
    "ax1.set_xlabel(''); ax1.set_ylabel('')\n",
    "c = sns.heatmap(cegs.T.cov(), vmin=-1, vmax=1, square=True, ax=ax2, cbar=False)\n",
    "ax2.set_title('CEGS')\n",
    "ax2.set_xlabel(''); ax2.set_ylabel('')\n",
    "plt.tight_layout()\n",
    "plt.savefig(os.path.join(PROJ, 'analysis_output/correlation/covariance_dspr_cegs.png'), dpi=300)"
   ]
  },
  {
   "cell_type": "code",
   "execution_count": null,
   "metadata": {
    "code_folding": [],
    "collapsed": false
   },
   "outputs": [],
   "source": [
    "# DSPR plot of distribution of covariance\n",
    "p = dspr.T.cov().plot(kind='hist', subplots=True, layout=(5, 4), sharex=True, \n",
    "                      sharey=True, figsize=(8, 8), rot=90, \n",
    "                      title='DSPR Distribution of Covariances')\n",
    "#plt.tight_layout(rect=[0, 0, 1, .98])"
   ]
  },
  {
   "cell_type": "code",
   "execution_count": null,
   "metadata": {
    "code_folding": [
     0
    ],
    "collapsed": false
   },
   "outputs": [],
   "source": [
    "# CEGS plot of distribution of covariance\n",
    "p = cegs.T.cov().plot(kind='hist', subplots=True, layout=(5, 4), sharex=True, \n",
    "                      sharey=True, figsize=(8, 8), rot=90, \n",
    "                      title='CEGS Distribution of Covariances')\n",
    "plt.tight_layout(rect=[0, 0, 1, .98])"
   ]
  },
  {
   "cell_type": "markdown",
   "metadata": {},
   "source": [
    "### Correlation\n",
    "\n",
    "$\\rho = \\frac{cov(x, y)}{\\sqrt{var(x)var(y)}}$\n",
    "\n",
    "After scaling the covariance to get the correlation, we can see that CEGS has more distinct patterns. The distribution of correlations in CEGS are also wider."
   ]
  },
  {
   "cell_type": "code",
   "execution_count": null,
   "metadata": {
    "code_folding": [],
    "collapsed": false
   },
   "outputs": [],
   "source": [
    "# Plot of Correlation Matrix\n",
    "fig, (ax1, ax2) = plt.subplots(1, 2, figsize=(10, 10))\n",
    "d = sns.heatmap(dspr.T.corr(), vmin=-1, vmax=1, square=True, ax=ax1, cbar=False)\n",
    "ax1.set_title('DSPR')\n",
    "ax1.set_xlabel(''); ax1.set_ylabel('')\n",
    "c = sns.heatmap(cegs.T.corr(), vmin=-1, vmax=1, square=True, ax=ax2, cbar=False)\n",
    "ax2.set_title('CEGS')\n",
    "ax2.set_xlabel(''); ax2.set_ylabel('')\n",
    "plt.tight_layout()\n",
    "plt.savefig(os.path.join(PROJ, 'analysis_output/correlation/correlation_dspr_cegs.png'), dpi=300)"
   ]
  },
  {
   "cell_type": "code",
   "execution_count": null,
   "metadata": {
    "collapsed": false
   },
   "outputs": [],
   "source": [
    "dspr.T.var()"
   ]
  },
  {
   "cell_type": "code",
   "execution_count": null,
   "metadata": {
    "collapsed": false
   },
   "outputs": [],
   "source": [
    "cegs.T.var()"
   ]
  },
  {
   "cell_type": "code",
   "execution_count": null,
   "metadata": {
    "code_folding": [
     0
    ],
    "collapsed": false
   },
   "outputs": [],
   "source": [
    "# DSPR plot of distribution of correlation\n",
    "p = dspr.T.corr().plot(kind='hist', subplots=True, layout=(5, 4), sharex=True, \n",
    "                       sharey=True, figsize=(8, 8), rot=90, \n",
    "                       title='DSPR Distribution of Correlation')\n",
    "#plt.tight_layout(rect=[0, 0, 1, .98])"
   ]
  },
  {
   "cell_type": "code",
   "execution_count": null,
   "metadata": {
    "code_folding": [
     0
    ],
    "collapsed": false
   },
   "outputs": [],
   "source": [
    "# CEGS plot of distribution of correlation\n",
    "p = cegs.T.corr().plot(kind='hist', subplots=True, layout=(5, 4), sharex=True, \n",
    "                       sharey=True, figsize=(8, 8), rot=90, \n",
    "                       title='CEGS Distribution of Correlation')\n",
    "plt.tight_layout(rect=[0, 0, 1, .98])"
   ]
  },
  {
   "cell_type": "code",
   "execution_count": null,
   "metadata": {
    "collapsed": false
   },
   "outputs": [],
   "source": [
    "print dspr.T.corr().max().max(), dspr.T.corr().min().min()\n",
    "print cegs.T.corr().max().max(), cegs.T.corr().min().min()\n",
    "\n",
    "covMax = max(dspr.T.cov().max().max(), cegs.T.cov().max().max())\n",
    "covMax"
   ]
  },
  {
   "cell_type": "code",
   "execution_count": null,
   "metadata": {
    "code_folding": [
     0
    ],
    "collapsed": false
   },
   "outputs": [],
   "source": [
    "# Plot of Covaraince Matrix\n",
    "fig, (ax1, ax2) = plt.subplots(1, 2, figsize=(10, 10))\n",
    "d = sns.heatmap(dspr.T.cov(), vmin=covMin, vmax=covMax, square=True, ax=ax1, cbar=False)\n",
    "ax1.set_title('DSPR')\n",
    "c = sns.heatmap(cegs.T.cov(), vmin=covMin, vmax=covMax, square=True, ax=ax2, cbar=False)\n",
    "ax2.set_title('CEGS')\n",
    "plt.tight_layout()\n",
    "plt.savefig(os.path.join(PROJ, 'analysis_output/correlation/covariance_dspr_cegs.png'), dpi=300)"
   ]
  },
  {
   "cell_type": "code",
   "execution_count": null,
   "metadata": {
    "collapsed": false
   },
   "outputs": [],
   "source": [
    "print dspr.T.corr().max().max(), dspr.T.corr().min().min()\n",
    "print cegs.T.corr().max().max(), cegs.T.corr().min().min()"
   ]
  },
  {
   "cell_type": "code",
   "execution_count": null,
   "metadata": {
    "collapsed": true
   },
   "outputs": [],
   "source": []
  }
 ],
 "metadata": {
  "kernelspec": {
   "display_name": "Python 2",
   "language": "python",
   "name": "python2"
  },
  "language_info": {
   "codemirror_mode": {
    "name": "ipython",
    "version": 2
   },
   "file_extension": ".py",
   "mimetype": "text/x-python",
   "name": "python",
   "nbconvert_exporter": "python",
   "pygments_lexer": "ipython2",
   "version": "2.7.6"
  }
 },
 "nbformat": 4,
 "nbformat_minor": 0
}
