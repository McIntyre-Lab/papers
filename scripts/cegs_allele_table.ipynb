{
 "cells": [
  {
   "cell_type": "code",
   "execution_count": null,
   "metadata": {
    "code_folding": [
     0
    ],
    "collapsed": false
   },
   "outputs": [],
   "source": [
    "%run './ipython_startup.py'\n",
    "%run './allele_cnt_table.py'"
   ]
  },
  {
   "cell_type": "markdown",
   "metadata": {},
   "source": [
    "## CDS\n",
    "\n",
    "What is the number of unique haplotypes when looking in the CDS regions."
   ]
  },
  {
   "cell_type": "code",
   "execution_count": null,
   "metadata": {
    "code_folding": [],
    "collapsed": true
   },
   "outputs": [],
   "source": [
    "# CDS BED\n",
    "bedName = os.path.join(PROJ, 'exported_data/sd_coding_sequence.bed')"
   ]
  },
  {
   "cell_type": "code",
   "execution_count": null,
   "metadata": {
    "code_folding": [],
    "collapsed": false
   },
   "outputs": [],
   "source": [
    "# CDS, not imputed -- assume ref base, (Full 75 Lines)\n",
    "\n",
    "# Create list of all 75 lines\n",
    "with open(os.path.join(PROJ, 'design_file/cegsV_line_list.csv'), 'r') as FH:\n",
    "    lineList = [convertLine(x) for x in FH]\n",
    "    lineList.append('w1118_w118')\n",
    "\n",
    "# Filtered VCF\n",
    "vcfName = '/home/jfear/storage/cegs_variants/CEGS.216.NO_DPGP4.GATK.SNP.HETS.FILTERED.vcf.gz'\n",
    "\n",
    "# Create table\n",
    "out = cegsAlleleCnt(bedName, vcfName, lineList)\n",
    "out1 = pd.DataFrame(out, columns=['gene', 'CDS_75_ref'])\n",
    "out1.set_index('gene', inplace=True)"
   ]
  },
  {
   "cell_type": "code",
   "execution_count": null,
   "metadata": {
    "code_folding": [
     1
    ],
    "collapsed": false
   },
   "outputs": [],
   "source": [
    "# CDS, not imputed -- asume ref base, (Random 35 Lines)\n",
    "lines = ['r101', 'r21', 'r286', 'r309', 'r324', 'r335', 'r358', 'r362', 'r365', 'r371', 'r374', 'r377',\n",
    "         'r380', 'r392', 'r486', 'r502', 'r535', 'r555', 'r705', 'r714', 'r732', 'r737', 'r790', 'r799',\n",
    "         'r808', 'r85', 'r850', 'r853', 'w23', 'w36', 'w52', 'w54', 'w62', 'w68', 'w79']\n",
    "\n",
    "lineList = [convertLine(x) for x in lines]\n",
    "lineList.append('w1118_w118')\n",
    "\n",
    "# Filtered VCF\n",
    "vcfName = '/home/jfear/storage/cegs_variants/CEGS.216.NO_DPGP4.GATK.SNP.HETS.FILTERED.vcf.gz'\n",
    "\n",
    "# Create table\n",
    "out = cegsAlleleCnt(bedName, vcfName, lineList)\n",
    "out2 = pd.DataFrame(out, columns=['gene', 'CDS_35_ref'])\n",
    "out2.set_index('gene', inplace=True)"
   ]
  },
  {
   "cell_type": "code",
   "execution_count": null,
   "metadata": {
    "code_folding": [],
    "collapsed": false
   },
   "outputs": [],
   "source": [
    "# CDS, imputed, (Full 75 Lines)\n",
    "with open(os.path.join(PROJ, 'design_file/cegsV_line_list.csv'), 'r') as FH:\n",
    "    lineList = [convertLine(x) for x in FH]\n",
    "    lineList.append('w1118_w118')\n",
    "\n",
    "# Imputed VCF\n",
    "vcfName = '/home/jfear/storage/cegs_variants/CEGS.216.lines.NO_DPGP4.GATK.SNP.HETS.FILTERED.11-6-13_imputed.vcf.gz'\n",
    "\n",
    "# Create table\n",
    "out = cegsAlleleCnt(bedName, vcfName, lineList)\n",
    "out3 = pd.DataFrame(out, columns=['gene', 'CDS_75_impute'])\n",
    "out3.set_index('gene', inplace=True)"
   ]
  },
  {
   "cell_type": "code",
   "execution_count": null,
   "metadata": {
    "code_folding": [],
    "collapsed": false,
    "scrolled": true
   },
   "outputs": [],
   "source": [
    "# CDS, imputed, (Random 35 Lines)\n",
    "lines = ['r101', 'r21', 'r286', 'r309', 'r324', 'r335', 'r358', 'r362', 'r365', 'r371', 'r374', 'r377',\n",
    "         'r380', 'r392', 'r486', 'r502', 'r535', 'r555', 'r705', 'r714', 'r732', 'r737', 'r790', 'r799',\n",
    "         'r808', 'r85', 'r850', 'r853', 'w23', 'w36', 'w52', 'w54', 'w62', 'w68', 'w79']\n",
    "\n",
    "lineList = [convertLine(x) for x in lines]\n",
    "lineList.append('w1118_w118')\n",
    "\n",
    "# Imputed VCF\n",
    "vcfName = '/home/jfear/storage/cegs_variants/CEGS.216.lines.NO_DPGP4.GATK.SNP.HETS.FILTERED.11-6-13_imputed.vcf.gz'\n",
    "\n",
    "# Create table\n",
    "out = cegsAlleleCnt(bedName, vcfName, lineList)\n",
    "out4 = pd.DataFrame(out, columns=['gene', 'CDS_35_impute'])\n",
    "out4.set_index('gene', inplace=True)"
   ]
  },
  {
   "cell_type": "code",
   "execution_count": null,
   "metadata": {
    "code_folding": [],
    "collapsed": false
   },
   "outputs": [],
   "source": [
    "cds_out = pd.concat([out1, out2, out3, out4], axis=1)\n",
    "cds_out"
   ]
  },
  {
   "cell_type": "markdown",
   "metadata": {
    "code_folding": [],
    "collapsed": true
   },
   "source": [
    "## Upstream and Downstream of TSS\n",
    "\n",
    "What is the number of unique haplotypes when looking at 2kb up and downstream of mRNA starts."
   ]
  },
  {
   "cell_type": "code",
   "execution_count": null,
   "metadata": {
    "code_folding": [],
    "collapsed": true
   },
   "outputs": [],
   "source": [
    "# mRNA BED\n",
    "bedName = os.path.join(PROJ, 'exported_data/sd_up_down_mRNA_sequence.bed')"
   ]
  },
  {
   "cell_type": "code",
   "execution_count": null,
   "metadata": {
    "code_folding": [],
    "collapsed": false
   },
   "outputs": [],
   "source": [
    "# Up Down, not imputed -- assume ref base, (Full 75 Lines)\n",
    "\n",
    "# Create list of all 75 lines\n",
    "with open(os.path.join(PROJ, 'design_file/cegsV_line_list.csv'), 'r') as FH:\n",
    "    lineList = [convertLine(x) for x in FH]\n",
    "    lineList.append('w1118_w118')\n",
    "\n",
    "# Filtered VCF\n",
    "vcfName = '/home/jfear/storage/cegs_variants/CEGS.216.NO_DPGP4.GATK.SNP.HETS.FILTERED.vcf.gz'\n",
    "\n",
    "# Create table\n",
    "out = cegsAlleleCnt(bedName, vcfName, lineList)\n",
    "out1 = pd.DataFrame(out, columns=['gene', 'mRNA_75_ref'])\n",
    "out1.set_index('gene', inplace=True)"
   ]
  },
  {
   "cell_type": "code",
   "execution_count": null,
   "metadata": {
    "code_folding": [],
    "collapsed": false
   },
   "outputs": [],
   "source": [
    "# Up Down, not imputed -- asume ref base, (Random 35 Lines)\n",
    "lines = ['r101', 'r21', 'r286', 'r309', 'r324', 'r335', 'r358', 'r362', 'r365', 'r371', 'r374', 'r377',\n",
    "         'r380', 'r392', 'r486', 'r502', 'r535', 'r555', 'r705', 'r714', 'r732', 'r737', 'r790', 'r799',\n",
    "         'r808', 'r85', 'r850', 'r853', 'w23', 'w36', 'w52', 'w54', 'w62', 'w68', 'w79']\n",
    "\n",
    "lineList = [convertLine(x) for x in lines]\n",
    "lineList.append('w1118_w118')\n",
    "\n",
    "# Filtered VCF\n",
    "vcfName = '/home/jfear/storage/cegs_variants/CEGS.216.NO_DPGP4.GATK.SNP.HETS.FILTERED.vcf.gz'\n",
    "\n",
    "# Create table\n",
    "out = cegsAlleleCnt(bedName, vcfName, lineList)\n",
    "out2 = pd.DataFrame(out, columns=['gene', 'mRNA_35_ref'])\n",
    "out2.set_index('gene', inplace=True)"
   ]
  },
  {
   "cell_type": "code",
   "execution_count": null,
   "metadata": {
    "code_folding": [
     0
    ],
    "collapsed": false
   },
   "outputs": [],
   "source": [
    "# Up Down, imputed, (Full 75 Lines)\n",
    "with open(os.path.join(PROJ, 'design_file/cegsV_line_list.csv'), 'r') as FH:\n",
    "    lineList = [convertLine(x) for x in FH]\n",
    "    lineList.append('w1118_w118')\n",
    "\n",
    "# Imputed VCF\n",
    "vcfName = '/home/jfear/storage/cegs_variants/CEGS.216.lines.NO_DPGP4.GATK.SNP.HETS.FILTERED.11-6-13_imputed.vcf.gz'\n",
    "\n",
    "# Create table\n",
    "out = cegsAlleleCnt(bedName, vcfName, lineList)\n",
    "out3 = pd.DataFrame(out, columns=['gene', 'mRNA_75_impute'])\n",
    "out3.set_index('gene', inplace=True)"
   ]
  },
  {
   "cell_type": "code",
   "execution_count": null,
   "metadata": {
    "code_folding": [
     0
    ],
    "collapsed": true
   },
   "outputs": [],
   "source": [
    "# Up Down, imputed, (Random 35 Lines)\n",
    "lines = ['r101', 'r21', 'r286', 'r309', 'r324', 'r335', 'r358', 'r362', 'r365', 'r371', 'r374', 'r377',\n",
    "         'r380', 'r392', 'r486', 'r502', 'r535', 'r555', 'r705', 'r714', 'r732', 'r737', 'r790', 'r799',\n",
    "         'r808', 'r85', 'r850', 'r853', 'w23', 'w36', 'w52', 'w54', 'w62', 'w68', 'w79']\n",
    "\n",
    "lineList = [convertLine(x) for x in lines]\n",
    "lineList.append('w1118_w118')\n",
    "\n",
    "# Imputed VCF\n",
    "vcfName = '/home/jfear/storage/cegs_variants/CEGS.216.lines.NO_DPGP4.GATK.SNP.HETS.FILTERED.11-6-13_imputed.vcf.gz'\n",
    "\n",
    "# Create table\n",
    "out = cegsAlleleCnt(bedName, vcfName, lineList)\n",
    "out4 = pd.DataFrame(out, columns=['gene', 'mRNA_35_impute'])\n",
    "out4.set_index('gene', inplace=True)"
   ]
  },
  {
   "cell_type": "code",
   "execution_count": null,
   "metadata": {
    "code_folding": [
     0
    ],
    "collapsed": false
   },
   "outputs": [],
   "source": [
    "mRNA_out = pd.concat([out1, out2, out3, out4], axis=1)\n",
    "mRNA_out"
   ]
  }
 ],
 "metadata": {
  "kernelspec": {
   "display_name": "Python 2",
   "language": "python",
   "name": "python2"
  },
  "language_info": {
   "codemirror_mode": {
    "name": "ipython",
    "version": 2
   },
   "file_extension": ".py",
   "mimetype": "text/x-python",
   "name": "python",
   "nbconvert_exporter": "python",
   "pygments_lexer": "ipython2",
   "version": "2.7.6"
  }
 },
 "nbformat": 4,
 "nbformat_minor": 0
}
