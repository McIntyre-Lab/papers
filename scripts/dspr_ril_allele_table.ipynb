{
 "cells": [
  {
   "cell_type": "markdown",
   "metadata": {
    "code_folding": [
     0
    ]
   },
   "source": [
    "# DSPR RIL Allele Table\n",
    "\n",
    "I have made allele tables for the DSPR founder strains, but want to look at the \n",
    "RILS and see if there is any interesting patterns. The DSPR population has 15 \n",
    "founder strains from around the world. These were mixed for 50 generations in \n",
    "two subpopulations, RILs were created by inbreeding for an additional 25 \n",
    "gnerations, for a total of 1700 RILs. In other words, each RIL is a combination \n",
    "of alleles from up to 8 founder strains. \n",
    "\n",
    "We are arguing that the DSPR does not add any genes to the SD pathway, because \n",
    "it has less allelic variation than the CEGS population. As reviewer 1 points \n",
    "out, it is really the combination of alleles that matters. Are genes in the SD \n",
    "made up of a few combinations of founder alleles? Or is each RIL a unique \n",
    "combination of alleles?\n",
    "\n",
    "This notebook is trying to get to the bottom of these question."
   ]
  },
  {
   "cell_type": "code",
   "execution_count": null,
   "metadata": {
    "collapsed": false
   },
   "outputs": [],
   "source": [
    "%run 'ipython_startup.py'"
   ]
  },
  {
   "cell_type": "markdown",
   "metadata": {},
   "source": [
    "## Figure out RIL make up \n",
    "\n",
    "First I want to count to estimate the number of haplotypes present by looking \n",
    "at SNPs in the coding sequence. I am guessing SNP density for the RILs is low \n",
    "because of the expense, so later I will use King's founder assignment of 10kb \n",
    "blocks.\n",
    "\n",
    "### RIL SNP table\n",
    "\n",
    "King et al. 2014 provide SNPs for each RIL.\n",
    "\n",
    "#### Allelic varaition in the coding sequence of genes in SD\n",
    "\n",
    "Here I import SNP information from King et al. and pull out genomic regions \n",
    "that correspond to coding sequence for genes in the sex hierarchy. I then count \n",
    "the number of unique haplotypes present across the RIL population."
   ]
  },
  {
   "cell_type": "code",
   "execution_count": null,
   "metadata": {
    "code_folding": [
     0
    ],
    "collapsed": true
   },
   "outputs": [],
   "source": [
    "import bed as mcbed\n",
    "from collections import defaultdict"
   ]
  },
  {
   "cell_type": "code",
   "execution_count": null,
   "metadata": {
    "code_folding": [
     0
    ],
    "collapsed": false
   },
   "outputs": [],
   "source": [
    "# Import bed with CDS for genes in sd\n",
    "bedName = os.path.join(PROJ, 'exported_data/sd_coding_sequence.bed')\n",
    "bed = mcbed.Bed(bedName)\n",
    "\n",
    "# Create data frame with positions of interest (poi)\n",
    "poi = list()\n",
    "for row in bed:\n",
    "    start = min(row[1], row[2])\n",
    "    end = max(row[1], row[2])\n",
    "    poi.append(pd.DataFrame([(row[3], row[0], x) for x in xrange(start, end)], columns=['gene', 'chrom', 'pos']))\n",
    "\n",
    "dfPoi = pd.concat(poi)"
   ]
  },
  {
   "cell_type": "code",
   "execution_count": null,
   "metadata": {
    "code_folding": [
     0
    ],
    "collapsed": false
   },
   "outputs": [],
   "source": [
    "# Create a list of RILs used in the F1-hybrid population\n",
    "hybName = os.path.join(MCLAB, 'dspr_data/mel_expression_head_F/FemaleHeadExpression.txt')\n",
    "RILs = list()\n",
    "with open(hybName, 'r') as FH:\n",
    "    for row in FH:\n",
    "        cols = row.strip().split('\\t')\n",
    "        RILs.append(cols[0])\n",
    "        RILs.append(cols[1])\n",
    "        \n",
    "hybRILs = set(RILs)"
   ]
  },
  {
   "cell_type": "code",
   "execution_count": null,
   "metadata": {
    "code_folding": [
     0
    ],
    "collapsed": true
   },
   "outputs": [],
   "source": [
    "# Import RIL SNP calls\n",
    "fname = '/home/jfear/storage/dspr_variants/RILSNP_R2.txt'\n",
    "\n",
    "out = list()\n",
    "with open(fname, 'r') as FH:\n",
    "    for row in FH:\n",
    "        chrom, pos, RILID, minor, major, minorCnt, majorCnt = row.strip().split('\\t')\n",
    "        \n",
    "        if RILID in hybRILs:\n",
    "            # Only keep the RILs that were in the Expression experiment\n",
    "            pos = int(pos)\n",
    "            minorCnt = int(minorCnt)\n",
    "            majorCnt = int(majorCnt)\n",
    "\n",
    "            if minorCnt > 0:\n",
    "                out.append((chrom, pos, RILID, minor))\n",
    "            else:\n",
    "                out.append((chrom, pos, RILID, major))\n",
    "df = pd.DataFrame(out, columns=['chrom', 'pos', 'RILID', 'base'])"
   ]
  },
  {
   "cell_type": "code",
   "execution_count": null,
   "metadata": {
    "code_folding": [
     0
    ],
    "collapsed": false
   },
   "outputs": [],
   "source": [
    "# Merge positions of interest to SNP data\n",
    "dfFilter = df.merge(dfPoi, how='inner', on=['chrom', 'pos'])\n",
    "\n",
    "# Make wide data set of filtered data\n",
    "dfFilter.set_index(['gene', 'chrom', 'pos', 'RILID'], inplace=True)\n",
    "dfWide = dfFilter.unstack(level='RILID')\n",
    "\n",
    "# Iterate over gene and count the number of haplotypes\n",
    "grp = dfWide.groupby(level='gene')\n",
    "out = list()\n",
    "for name, g in grp:\n",
    "    uniq = set([tuple(x) for x in g.T.values])\n",
    "    out.append([name, len(uniq)])\n",
    "    \n",
    "dspr_ril_cds = pd.DataFrame(out, columns=['gene', 'dspr_ril_cds'])\n",
    "dspr_ril_cds.set_index('gene', inplace=True)"
   ]
  },
  {
   "cell_type": "markdown",
   "metadata": {
    "code_folding": [],
    "collapsed": true
   },
   "source": [
    "There are a lot of missing values present in this dataset. Unfortunately, I \n",
    "don't have easy access to the reference base, instead I will set missing values \n",
    "to the most frequent base in that row. This has a lot of caveats, but will give \n",
    "me a better estimate of haplotype frequency."
   ]
  },
  {
   "cell_type": "code",
   "execution_count": null,
   "metadata": {
    "code_folding": [
     0
    ],
    "collapsed": false
   },
   "outputs": [],
   "source": [
    "# Fill missing values with most frequent value\n",
    "dfFull = dfWide.apply(lambda x: x.fillna(x.mode()[0]), axis=1)\n",
    "\n",
    "# Iterate over gene and count the number of haplotypes\n",
    "grp = dfFull.groupby(level='gene')\n",
    "out = list()\n",
    "for name, g in grp:\n",
    "    uniq = set([tuple(x) for x in g.T.values])\n",
    "    out.append([name, len(uniq)])\n",
    "    \n",
    "dspr_ril_cds_no_miss = pd.DataFrame(out, columns=['gene', 'dspr_ril_cds_no_miss'])\n",
    "dspr_ril_cds_no_miss.set_index('gene', inplace=True)"
   ]
  },
  {
   "cell_type": "code",
   "execution_count": null,
   "metadata": {
    "collapsed": false
   },
   "outputs": [],
   "source": [
    "# merge results\n",
    "dspr_ril_cds.join(dspr_ril_cds_no_miss)"
   ]
  },
  {
   "cell_type": "markdown",
   "metadata": {},
   "source": [
    "Most genes were not present in the SNP calls. The RIL SNP density is very low. \n",
    "Fru is the only gene that appears to have a signal, and its haplotype count is \n",
    "similar to the CEGS data. I think the other counts are underestimated.\n",
    "\n",
    "Looking at the King et al. paper they use a HMM with a 10kb sliding windows to \n",
    "determine the parent of origin. This may be a better measure.\n",
    "\n",
    "#### Parent of origin for each RIL\n",
    "\n",
    "Here I use King's HMM data to assign parent of origin to each gene in the RIL \n",
    "population. I first identify which 10kb window(s) each gene in the sex \n",
    "hierarchy is in, I then call the RIL genotype based on the HMM results."
   ]
  },
  {
   "cell_type": "code",
   "execution_count": null,
   "metadata": {
    "code_folding": [
     0
    ],
    "collapsed": true
   },
   "outputs": [],
   "source": [
    "# Import bed with Gene Region\n",
    "bedName = os.path.join(PROJ, 'exported_data/sd_gene_sequence.bed')\n",
    "bed = mcbed.Bed(bedName)"
   ]
  },
  {
   "cell_type": "code",
   "execution_count": null,
   "metadata": {
    "code_folding": [
     0
    ],
    "collapsed": false
   },
   "outputs": [],
   "source": [
    "# Create data frame with positions of interest (poi). The HMM results are done on 10kb\n",
    "# chunks. Here I round the start down to the nearest 10kb and round the end up to the nearest\n",
    "# 10kb. I then figure out how many 10kb chunks that gene overlapps and split them up.\n",
    "poi = defaultdict(lambda : defaultdict(list))\n",
    "for row in bed:\n",
    "    # If on minus strand, make sure start is the smallest.\n",
    "    start = min(int(row['start']), int(row['end']))\n",
    "    end = max(int(row['start']), int(row['end']))\n",
    "    \n",
    "    # Round to nearest 10kb\n",
    "    coordLow = np.floor(start / 10000.0) * 10000\n",
    "    coordHigh = np.ceil(end / 10000.0) * 10000\n",
    "\n",
    "    # In a dictionary relate each 10kb chunk to its overlapping genes.\n",
    "    for pos in range(coordLow.astype(int), coordHigh.astype(int) + 1, 10000):\n",
    "        poi[row['chrom']][pos].append(row['name'])"
   ]
  },
  {
   "cell_type": "code",
   "execution_count": null,
   "metadata": {
    "code_folding": [],
    "collapsed": false
   },
   "outputs": [],
   "source": [
    "# Parental combos from http://wfitch.bio.uci.edu/~dspr/DatFILES/Release3README.txt\n",
    "combosA = ['A1A1','A1A2','A1A3','A1A4','A1A5','A1A6','A1A7','A1A8','A2A2','A2A3','A2A4',\n",
    "          'A2A5','A2A6','A2A7','A2A8','A3A3','A3A4','A3A5','A3A6','A3A7','A3A8','A4A4',\n",
    "          'A4A5','A4A6','A4A7','A4A8','A5A5','A5A6','A5A7','A5A8','A6A6','A6A7','A6A8',\n",
    "          'A7A7','A7A8','A8A8']\n",
    "\n",
    "combosB = ['B1B1', 'B1B2', 'B1B3', 'B1B4', 'B1B5', 'B1B6', 'B1B7', 'B1B8', 'B2B2', 'B2B3', \n",
    "           'B2B4', 'B2B5', 'B2B6', 'B2B7', 'B2B8', 'B3B3', 'B3B4', 'B3B5', 'B3B6', 'B3B7', \n",
    "           'B3B8', 'B4B4', 'B4B5', 'B4B6', 'B4B7', 'B4B8', 'B5B5', 'B5B6', 'B5B7', 'B5B8', \n",
    "           'B6B6', 'B6B7', 'B6B8', 'B7B7', 'B7B8', 'B8B8']"
   ]
  },
  {
   "cell_type": "code",
   "execution_count": null,
   "metadata": {
    "code_folding": [
     0
    ],
    "collapsed": true
   },
   "outputs": [],
   "source": [
    "# Create genotype dictionary from HMM results from flyrils.org\n",
    "def genotypeDict(fname, genotypes, combos):\n",
    "    \"\"\" Parse the HMM results.\n",
    "    \n",
    "    Assigns founder strain combo to each gene based \n",
    "    on the 10kb chunks where it is located.\n",
    "    \n",
    "    \"\"\" \n",
    "    with open(fname, 'r') as FH:\n",
    "        # Iterate over HMM file\n",
    "        for row in FH:\n",
    "            cols = row.strip().split('\\t')\n",
    "            chrom = cols[0]\n",
    "            pos = int(cols[1])\n",
    "            \n",
    "            if chrom in poi and pos in poi[chrom]:\n",
    "                gene = poi[chrom][pos]\n",
    "                RILID = cols[2]\n",
    "\n",
    "                # What is the most-likely genotype\n",
    "                best = np.argmax([float(x) for x in cols[3:39]])\n",
    "                geno = combos[best]\n",
    "\n",
    "                # Iterate over genes in the region and assign the genotype\n",
    "                for g in gene:\n",
    "                    genotypes[g][RILID].add(geno)"
   ]
  },
  {
   "cell_type": "code",
   "execution_count": null,
   "metadata": {
    "code_folding": [
     0
    ],
    "collapsed": false
   },
   "outputs": [],
   "source": [
    "# Import HMM results population A\n",
    "genotypesA = defaultdict(lambda : defaultdict(set))\n",
    "genotypeDict('/home/jfear/storage/dspr_variants/HMMregA_R2.txt', genotypesA, combosA)\n",
    "\n",
    "# Import HMM results population B\n",
    "genotypesB = defaultdict(lambda : defaultdict(set))\n",
    "genotypeDict('/home/jfear/storage/dspr_variants/HMMregB_R2.txt', genotypesB, combosB)"
   ]
  },
  {
   "cell_type": "code",
   "execution_count": null,
   "metadata": {
    "code_folding": [
     1
    ],
    "collapsed": false
   },
   "outputs": [],
   "source": [
    "# Count the number of times a gene had a specific genotype.\n",
    "def genoCnt(genotypes, combos):\n",
    "    \"\"\" Count the number of times a gene had a specific genotype.\n",
    "    \n",
    "    For each gene, look at all of the RILS and count the number of times\n",
    "    a RIL had a given genotype. \n",
    "    \n",
    "    \"\"\"\n",
    "    out = list()\n",
    "\n",
    "    for gene in genotypes.keys():\n",
    "        # Create counter Series\n",
    "        cnt = pd.Series(data=[0]*len(combos), index=combos)\n",
    "        cnt.name = gene\n",
    "        for ril in genotypes[gene]:\n",
    "            for geno in genotypes[gene][ril]:\n",
    "                cnt[geno] += 1\n",
    "        out.append(cnt)\n",
    "    return pd.concat(out, axis=1)"
   ]
  },
  {
   "cell_type": "code",
   "execution_count": null,
   "metadata": {
    "code_folding": [],
    "collapsed": false
   },
   "outputs": [],
   "source": [
    "# Plot the number of times a founder strain is ID in SD genes\n",
    "\n",
    "# Count the number of RILS had a given founder strain at a location\n",
    "genoCountsA = genoCnt(genotypesA, combosA)\n",
    "genoCountsB = genoCnt(genotypesB, combosB)\n",
    "\n",
    "# Plot these counts\n",
    "fig, (ax1, ax2) = plt.subplots(2, 1, figsize=(8, 8))\n",
    "\n",
    "genoCountsA.plot(kind='bar', stacked=True, ax=ax1, rot=90, title='Pop A', sharex=False, cmap='Set1')\n",
    "lgd = ax1.get_legend_handles_labels()\n",
    "ax1.legend(lgd[0], lgd[1], loc='center', bbox_to_anchor=(1.1, 0.5), fontsize=9)\n",
    "\n",
    "genoCountsB.plot(kind='bar', stacked=True, ax=ax2, rot=90, title='Pop B', sharex=False, cmap='Set1')\n",
    "lgd = ax2.get_legend_handles_labels()\n",
    "ax2.legend(lgd[0], lgd[1], loc='center', bbox_to_anchor=(1.1, 0.5), fontsize=9)\n",
    "\n",
    "plt.tight_layout()"
   ]
  },
  {
   "cell_type": "markdown",
   "metadata": {
    "code_folding": []
   },
   "source": [
    "It looks like most genes are homozygous for one of the parental lines, this is \n",
    "not surprising in a RIL population. When only looking at the genes in SD, there \n",
    "is not an equal frequency of use of the different parental strains. (A3A3, \n",
    "A4A4, A7A7) are the most common in the A population, while (B1B1, B2B2, B3B3, \n",
    "B6B6, B7B7) are all frequent in the B population.\n",
    "\n",
    "Genes are also not evenly distributed, for example most RILs had *ps* from (A3; \n",
    "A4, B2; B6)."
   ]
  },
  {
   "cell_type": "markdown",
   "metadata": {},
   "source": [
    "### F1-hybrid parent of origin make-up"
   ]
  },
  {
   "cell_type": "code",
   "execution_count": null,
   "metadata": {
    "code_folding": [],
    "collapsed": false
   },
   "outputs": [],
   "source": [
    "# Iterate over each F1-hybrid and Pull genotypes.\n",
    "\n",
    "# Create list of genes in SD\n",
    "genes = genotypesA.keys()\n",
    "\n",
    "# Create a dictionary with F1-hybrid genotypes\n",
    "hybName = os.path.join(MCLAB, 'dspr_data/mel_expression_head_F/FemaleHeadExpression.txt')\n",
    "F1Geno = defaultdict(dict)\n",
    "with open(hybName, 'r') as FH:\n",
    "    # skip header\n",
    "    FH.next()\n",
    "    \n",
    "    for row in FH:\n",
    "        cols = row.strip().split('\\t')\n",
    "        F1ID = '_'.join([str(cols[0]), str(cols[1])])\n",
    "                        \n",
    "        for gene in genes:\n",
    "            g1 = list(genotypesA[gene][cols[1]])[0]\n",
    "            g2 = list(genotypesB[gene][cols[0]])[0]\n",
    "            F1Geno[gene][F1ID] = (g1, g2)"
   ]
  },
  {
   "cell_type": "code",
   "execution_count": null,
   "metadata": {
    "code_folding": [],
    "collapsed": false
   },
   "outputs": [],
   "source": [
    "# For each gene create a set of pA-pB unique combinations\n",
    "\n",
    "outGeno = defaultdict(set)\n",
    "outCnt = list()\n",
    "for gene in genes:\n",
    "    for key in F1Geno[gene]:\n",
    "        outGeno[gene].add(F1Geno[gene][key])\n",
    "    cnt = len(outGeno[gene])\n",
    "    outCnt.append((gene, cnt))\n",
    "dfF1hap = pd.DataFrame(outCnt, columns=['gene', 'haplo_cnt'])\n",
    "dfF1hap.set_index('gene', inplace=True)\n",
    "dfF1hap"
   ]
  },
  {
   "cell_type": "code",
   "execution_count": null,
   "metadata": {
    "collapsed": true
   },
   "outputs": [],
   "source": []
  }
 ],
 "metadata": {
  "kernelspec": {
   "display_name": "Python 2",
   "language": "python",
   "name": "python2"
  },
  "language_info": {
   "codemirror_mode": {
    "name": "ipython",
    "version": 2
   },
   "file_extension": ".py",
   "mimetype": "text/x-python",
   "name": "python",
   "nbconvert_exporter": "python",
   "pygments_lexer": "ipython2",
   "version": "2.7.6"
  }
 },
 "nbformat": 4,
 "nbformat_minor": 0
}
