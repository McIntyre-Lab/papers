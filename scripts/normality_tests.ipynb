{
 "cells": [
  {
   "cell_type": "markdown",
   "metadata": {},
   "source": [
    "# Looking at Normality\n",
    "\n",
    "Structural Equation Modeling (SEM) requires that data is multivariate normal. Here we use normalized data sets for both the DSPR and Tester-cross. Here I am looking at distributions of the data for genes in the sex hierarchy."
   ]
  },
  {
   "cell_type": "code",
   "execution_count": null,
   "metadata": {
    "collapsed": false
   },
   "outputs": [],
   "source": [
    "%run 'ipython_startup.py'"
   ]
  },
  {
   "cell_type": "code",
   "execution_count": null,
   "metadata": {
    "collapsed": false
   },
   "outputs": [],
   "source": [
    "# Import Additional Libs\n",
    "import sas7bdat"
   ]
  },
  {
   "cell_type": "code",
   "execution_count": null,
   "metadata": {
    "collapsed": false
   },
   "outputs": [],
   "source": [
    "# Read in the Tester-cross data\n",
    "with sas7bdat.SAS7BDAT('../sas_data/cegsv_by_gene_sbs.sas7bdat') as F:\n",
    "    dfCEGS = F.to_data_frame()\n",
    "    \n",
    "dfCEGS.set_index('line', inplace=True)"
   ]
  },
  {
   "cell_type": "code",
   "execution_count": null,
   "metadata": {
    "collapsed": false
   },
   "outputs": [],
   "source": [
    "dfCEGSSex = dfCEGS[[x for x in dfCEGS.columns if 'FBgn' not in x]]"
   ]
  },
  {
   "cell_type": "code",
   "execution_count": null,
   "metadata": {
    "collapsed": false
   },
   "outputs": [],
   "source": [
    "dfCEGSSex = dfCEGSSex.apply(lambda x: x - x.mean(), axis=0)\n",
    "fig = dfCEGSSex.plot(kind='hist', subplots=True, layout=(4, 5), figsize=(20, 10))\n",
    "plt.suptitle('Tester-cross F1-hybrid', fontsize=18)\n",
    "plt.savefig('../manuscript/images/cegsV_sex_det_distribution.png', bbox_inches='tight')"
   ]
  },
  {
   "cell_type": "code",
   "execution_count": null,
   "metadata": {
    "collapsed": false
   },
   "outputs": [],
   "source": [
    "# Read in the DSPR data\n",
    "with sas7bdat.SAS7BDAT('../sas_data/dsrp_sbs_gene_level_sym.sas7bdat') as F:\n",
    "    dfDSPR = F.to_data_frame()\n",
    "    \n",
    "dfDSPR.set_index(['matRIL', 'patRIL'], inplace=True)"
   ]
  },
  {
   "cell_type": "code",
   "execution_count": null,
   "metadata": {
    "collapsed": false
   },
   "outputs": [],
   "source": [
    "dfDSPRSex = dfDSPR[[x for x in dfDSPR.columns if 'CG' not in x]]"
   ]
  },
  {
   "cell_type": "code",
   "execution_count": null,
   "metadata": {
    "collapsed": false
   },
   "outputs": [],
   "source": [
    "fig = dfDSPRSex.plot(kind='hist', subplots=True, layout=(4, 5), figsize=(20, 10))\n",
    "plt.suptitle('DSPR F1-hybrid', fontsize=18)\n",
    "plt.savefig('../manuscript/images/dspr_sex_det_distribution.png', bbox_inches='tight')"
   ]
  },
  {
   "cell_type": "code",
   "execution_count": null,
   "metadata": {
    "code_folding": [
     1
    ],
    "collapsed": true
   },
   "outputs": [],
   "source": []
  }
 ],
 "metadata": {
  "kernelspec": {
   "display_name": "Python 2",
   "language": "python",
   "name": "python2"
  },
  "language_info": {
   "codemirror_mode": {
    "name": "ipython",
    "version": 2
   },
   "file_extension": ".py",
   "mimetype": "text/x-python",
   "name": "python",
   "nbconvert_exporter": "python",
   "pygments_lexer": "ipython2",
   "version": "2.7.6"
  }
 },
 "nbformat": 4,
 "nbformat_minor": 0
}
