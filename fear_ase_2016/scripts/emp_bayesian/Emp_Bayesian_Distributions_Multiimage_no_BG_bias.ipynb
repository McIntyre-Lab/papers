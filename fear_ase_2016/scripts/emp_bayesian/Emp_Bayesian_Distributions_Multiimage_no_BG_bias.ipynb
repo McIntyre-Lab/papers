{
 "cells": [
  {
   "cell_type": "code",
   "execution_count": 3,
   "metadata": {
    "collapsed": false
   },
   "outputs": [],
   "source": [
    "import os\n",
    "import sys\n",
    "import numpy as np\n",
    "import pandas as pd\n",
    "import matplotlib.pyplot as plt\n",
    "%matplotlib inline\n",
    "import mpld3\n",
    "mpld3.enable_notebook()"
   ]
  },
  {
   "cell_type": "markdown",
   "metadata": {},
   "source": [
    "## Set up output"
   ]
  },
  {
   "cell_type": "code",
   "execution_count": 4,
   "metadata": {
    "collapsed": false
   },
   "outputs": [],
   "source": [
    "mclab = os.getenv('MCLAB')\n",
    "odir = os.path.join(mclab, 'cegs_ase_paper/pipeline_output/emp_bayesian/PG_model/')"
   ]
  },
  {
   "cell_type": "markdown",
   "metadata": {},
   "source": [
    "## Import data"
   ]
  },
  {
   "cell_type": "code",
   "execution_count": 5,
   "metadata": {
    "collapsed": false
   },
   "outputs": [
    {
     "data": {
      "text/html": [
       "<div style=\"max-height:1000px;max-width:1500px;overflow:auto;\">\n",
       "<table border=\"1\" class=\"dataframe\">\n",
       "  <thead>\n",
       "    <tr style=\"text-align: right;\">\n",
       "      <th></th>\n",
       "      <th>line</th>\n",
       "      <th>ms</th>\n",
       "      <th>fusion_id</th>\n",
       "      <th>q4</th>\n",
       "      <th>q4_q025</th>\n",
       "      <th>q4_q975</th>\n",
       "      <th>q5</th>\n",
       "      <th>q5_q025</th>\n",
       "      <th>q5_q975</th>\n",
       "      <th>q6</th>\n",
       "      <th>q6_q025</th>\n",
       "      <th>q6_q975</th>\n",
       "      <th>flag_q4_AI</th>\n",
       "      <th>flag_q5_AI</th>\n",
       "      <th>flag_q6_AI</th>\n",
       "      <th>flag_all_AI</th>\n",
       "      <th>mean_apn</th>\n",
       "      <th>rank_apn</th>\n",
       "      <th>qsim_line</th>\n",
       "      <th>flag_qsim_bias</th>\n",
       "    </tr>\n",
       "  </thead>\n",
       "  <tbody>\n",
       "    <tr>\n",
       "      <th>0</th>\n",
       "      <td>r101</td>\n",
       "      <td>M</td>\n",
       "      <td>F10001_SI</td>\n",
       "      <td>0.572</td>\n",
       "      <td>0.422</td>\n",
       "      <td>0.723</td>\n",
       "      <td>0.48</td>\n",
       "      <td>0.334</td>\n",
       "      <td>0.624</td>\n",
       "      <td>0.387</td>\n",
       "      <td>0.25</td>\n",
       "      <td>0.529</td>\n",
       "      <td>0</td>\n",
       "      <td>0</td>\n",
       "      <td>0</td>\n",
       "      <td>0</td>\n",
       "      <td>14.255319</td>\n",
       "      <td>1</td>\n",
       "      <td>0.5</td>\n",
       "      <td>0</td>\n",
       "    </tr>\n",
       "  </tbody>\n",
       "</table>\n",
       "</div>"
      ],
      "text/plain": [
       "   line ms  fusion_id     q4  q4_q025  q4_q975    q5  q5_q025  q5_q975     q6  \\\n",
       "0  r101  M  F10001_SI  0.572    0.422    0.723  0.48    0.334    0.624  0.387   \n",
       "\n",
       "   q6_q025  q6_q975  flag_q4_AI  flag_q5_AI  flag_q6_AI  flag_all_AI  \\\n",
       "0     0.25    0.529           0           0           0            0   \n",
       "\n",
       "    mean_apn  rank_apn  qsim_line  flag_qsim_bias  \n",
       "0  14.255319         1        0.5               0  "
      ]
     },
     "execution_count": 5,
     "metadata": {},
     "output_type": "execute_result"
    }
   ],
   "source": [
    "fname = '/home/jfear/mclab/cegs_ase_paper/pipeline_output/emp_bayesian/PG_model/emp_for_plotting.csv'\n",
    "dat = pd.read_csv(fname)\n",
    "dat.head(1)"
   ]
  },
  {
   "cell_type": "code",
   "execution_count": 6,
   "metadata": {
    "collapsed": false
   },
   "outputs": [
    {
     "name": "stdout",
     "output_type": "stream",
     "text": [
      "\n",
      "Orig rows:                 1939828\n",
      "Masked rows:               1772699\n",
      "Orig fusions:              49947\n",
      "Num fusions after masking: 45510\n",
      "\n"
     ]
    }
   ],
   "source": [
    "# Import Background Bias Flags and merge to data\n",
    "bg_bias = pd.read_csv('/home/jfear/mclab/cegs_ase_paper/pipeline_output/100_genome_simulation/fb551_100_genome_flag_bkg_bias.csv')\n",
    "\n",
    "merged = pd.merge(dat, bg_bias, on='fusion_id', how='left')\n",
    "masked = merged[merged['flag_bg_bias'] == 0]\n",
    "\n",
    "print(\"\"\"\n",
    "Orig rows:                 {}\n",
    "Masked rows:               {}\n",
    "Orig fusions:              {}\n",
    "Num fusions after masking: {}\n",
    "\"\"\".format(dat.shape[0], \n",
    "           masked.shape[0], \n",
    "           len(set(dat.fusion_id)), \n",
    "           len(set(masked.fusion_id))))"
   ]
  },
  {
   "cell_type": "markdown",
   "metadata": {},
   "source": [
    "## Generate Plots for Mated and Virgin"
   ]
  },
  {
   "cell_type": "code",
   "execution_count": 7,
   "metadata": {
    "collapsed": false
   },
   "outputs": [],
   "source": [
    "# Split dataset by sex\n",
    "mated = masked[masked['ms'] == 'M'][['fusion_id', 'line','q4', 'q5', 'q6']]\n",
    "mated.set_index('fusion_id', inplace=True)\n",
    "\n",
    "virgin = masked[masked['ms'] == 'V'][['fusion_id', 'line','q4', 'q5', 'q6']]\n",
    "virgin.set_index('fusion_id', inplace=True)"
   ]
  },
  {
   "cell_type": "markdown",
   "metadata": {},
   "source": [
    "### Plot Mated"
   ]
  },
  {
   "cell_type": "code",
   "execution_count": 8,
   "metadata": {
    "collapsed": false
   },
   "outputs": [
    {
     "name": "stderr",
     "output_type": "stream",
     "text": [
      "/home/jfear/.local/lib/python2.7/site-packages/pandas/tools/plotting.py:859: UserWarning: 'colors' is being deprecated. Please use 'color'instead of 'colors'\n",
      "  warnings.warn((\"'colors' is being deprecated. Please use 'color'\"\n"
     ]
    }
   ],
   "source": [
    "# Get group levels\n",
    "mLines = np.array([x for x in set(mated['line'])])\n",
    "mLines.sort()\n",
    "\n",
    "# Create a mask to split into multiple figures of 6x4 plots\n",
    "grp = np.concatenate([np.ones(16), np.ones(16)*2, np.ones(16)*3, np.ones(16)*4, np.ones(4)*5])\n",
    "\n",
    "# Iterate over multi figure groups and plot\n",
    "for g in range(1,6):\n",
    "    curr = mLines[grp == g]\n",
    "    \n",
    "    # Figure out the number of subplots I need\n",
    "    num = int(np.sqrt(curr.shape[0]))\n",
    "    \n",
    "    # Plot figure\n",
    "    fig, axes = plt.subplots(num, num, figsize=(8, 8))\n",
    "    fig.suptitle(u'Distribution of Empirical Thetas\\nMated With No Background Bias', fontsize=12)\n",
    "    axs = np.ravel(axes)\n",
    "    for i, line in enumerate(curr):\n",
    "        p = mated[mated['line'] == line]\n",
    "        p.plot(kind='kde', ax=axs[i], fontsize=8, title=line, legend=False, color=['b', 'r', 'g'])\n",
    "        #axs[i].set_xlabel('Line <------> Tester', fontsize=12)\n",
    "        axs[i].axvline(0.5, lw=1, c='k')\n",
    "        axs[i].get_yaxis().set_visible(False)\n",
    "    \n",
    "    handles, labels = axs[0].get_legend_handles_labels()\n",
    "    plt.legend(handles, labels, bbox_to_anchor = (0.2, 0.06), bbox_transform = plt.gcf().transFigure, fontsize=10)\n",
    "    fig.text(0.5, 0.06, 'Line <------------> Tester', ha='center', fontsize=20)\n",
    "    plt.savefig(os.path.join(odir, 'mated_dist_empirical_theta_g{0}_no_bg.png'.format(str(g))), bbox_inches='tight')\n",
    "    plt.close(fig)\n"
   ]
  },
  {
   "cell_type": "markdown",
   "metadata": {},
   "source": [
    "### Plot Virgin"
   ]
  },
  {
   "cell_type": "code",
   "execution_count": 9,
   "metadata": {
    "collapsed": false
   },
   "outputs": [],
   "source": [
    "# Get group levels\n",
    "vLines = np.array([x for x in set(virgin['line'])])\n",
    "vLines.sort()\n",
    "\n",
    "# Create a mask to split into multiple figures of 6x4 plots\n",
    "grp = np.concatenate([np.ones(16), np.ones(16)*2, np.ones(16)*3, np.ones(16)*4, np.ones(4)*5])\n",
    "\n",
    "# Iterate over multi figure groups and plot\n",
    "for g in range(1,6):\n",
    "    curr = vLines[grp == g]\n",
    "    \n",
    "    # Figure out the number of subplots I need\n",
    "    num = int(np.sqrt(curr.shape[0]))\n",
    "    \n",
    "    # Plot figure\n",
    "    fig, axes = plt.subplots(num, num, figsize=(8,8))\n",
    "    fig.suptitle(u'Distribution of Empirical Thetas\\nVirgin', fontsize=12)\n",
    "\n",
    "    axs = np.ravel(axes)\n",
    "    for i, line in enumerate(curr):\n",
    "        p = virgin[virgin['line'] == line]\n",
    "        p.plot(kind='kde', ax=axs[i], fontsize=8, title=line, legend=False, color=['b','r','g'])\n",
    "        #axs[i].set_xlabel('Line <--- AB ---> Tester', fontsize=12)\n",
    "        axs[i].axvline(0.5, lw=1, c='k')\n",
    "        axs[i].get_yaxis().set_visible(False)\n",
    "        \n",
    "    handles, labels = axs[0].get_legend_handles_labels()\n",
    "    plt.legend(handles, labels, bbox_to_anchor= (0.2, 0.06), bbox_transform = plt.gcf().transFigure, fontsize=10)\n",
    "    fig.text(0.5, 0.06, 'Line <------------> Tester', ha='center', fontsize=20)\n",
    "    plt.savefig(os.path.join(odir, 'virgin_dist_empirical_theta_g{0}_no_bg.png'.format(str(g))), bbox_inches='tight')\n",
    "    plt.close(fig)"
   ]
  },
  {
   "cell_type": "code",
   "execution_count": null,
   "metadata": {
    "collapsed": true
   },
   "outputs": [],
   "source": []
  },
  {
   "cell_type": "code",
   "execution_count": null,
   "metadata": {
    "collapsed": true
   },
   "outputs": [],
   "source": []
  }
 ],
 "metadata": {
  "kernelspec": {
   "display_name": "Python 2",
   "language": "python",
   "name": "python2"
  },
  "language_info": {
   "codemirror_mode": {
    "name": "ipython",
    "version": 2
   },
   "file_extension": ".py",
   "mimetype": "text/x-python",
   "name": "python",
   "nbconvert_exporter": "python",
   "pygments_lexer": "ipython2",
   "version": "2.7.6"
  }
 },
 "nbformat": 4,
 "nbformat_minor": 0
}
