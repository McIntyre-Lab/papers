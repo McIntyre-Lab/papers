{
 "cells": [
  {
   "cell_type": "code",
   "execution_count": 1,
   "metadata": {
    "collapsed": false,
    "run_control": {
     "marked": false
    }
   },
   "outputs": [
    {
     "name": "stdout",
     "output_type": "stream",
     "text": [
      "Importing commonly used libraries: os, sys, numpy as np, scipy as sp, pandas as pd, matplotlib as mp, matplotlib.pyplot as plt, datetime as dt, mclib_Python/flagging as fg\n",
      "Creating project level variables: MCLAB = /home/jfear/mclab, PROJ = /home/jfear/mclab/cegs_ase_paper, TODAY = 20150830\n",
      "Adding ['scripts/mclib_Python', 'scripts/ase_Python'] to PYTHONPATH\n"
     ]
    }
   ],
   "source": [
    "%run '../ipython_startup.py'"
   ]
  },
  {
   "cell_type": "code",
   "execution_count": 2,
   "metadata": {
    "collapsed": true
   },
   "outputs": [],
   "source": [
    "import cPickle as pickle"
   ]
  },
  {
   "cell_type": "markdown",
   "metadata": {
    "run_control": {
     "marked": false
    }
   },
   "source": [
    "# Import Data"
   ]
  },
  {
   "cell_type": "code",
   "execution_count": 3,
   "metadata": {
    "collapsed": false,
    "run_control": {
     "marked": false
    }
   },
   "outputs": [
    {
     "data": {
      "text/html": [
       "<div style=\"max-height:1000px;max-width:1500px;overflow:auto;\">\n",
       "<table border=\"1\" class=\"dataframe\">\n",
       "  <thead>\n",
       "    <tr style=\"text-align: right;\">\n",
       "      <th></th>\n",
       "      <th>line1</th>\n",
       "      <th>line2</th>\n",
       "      <th>line3</th>\n",
       "      <th>line4</th>\n",
       "      <th>line5</th>\n",
       "      <th>line6</th>\n",
       "      <th>line7</th>\n",
       "      <th>line8</th>\n",
       "      <th>line9</th>\n",
       "      <th>line10</th>\n",
       "      <th>...</th>\n",
       "      <th>line91</th>\n",
       "      <th>line92</th>\n",
       "      <th>line93</th>\n",
       "      <th>line94</th>\n",
       "      <th>line95</th>\n",
       "      <th>line96</th>\n",
       "      <th>line97</th>\n",
       "      <th>line98</th>\n",
       "      <th>line99</th>\n",
       "      <th>line100</th>\n",
       "    </tr>\n",
       "    <tr>\n",
       "      <th>fusion_id</th>\n",
       "      <th></th>\n",
       "      <th></th>\n",
       "      <th></th>\n",
       "      <th></th>\n",
       "      <th></th>\n",
       "      <th></th>\n",
       "      <th></th>\n",
       "      <th></th>\n",
       "      <th></th>\n",
       "      <th></th>\n",
       "      <th></th>\n",
       "      <th></th>\n",
       "      <th></th>\n",
       "      <th></th>\n",
       "      <th></th>\n",
       "      <th></th>\n",
       "      <th></th>\n",
       "      <th></th>\n",
       "      <th></th>\n",
       "      <th></th>\n",
       "      <th></th>\n",
       "    </tr>\n",
       "  </thead>\n",
       "  <tbody>\n",
       "    <tr>\n",
       "      <th>F10001_SI</th>\n",
       "      <td>0</td>\n",
       "      <td>0</td>\n",
       "      <td>0</td>\n",
       "      <td>-1</td>\n",
       "      <td>0</td>\n",
       "      <td>0</td>\n",
       "      <td>0</td>\n",
       "      <td>0</td>\n",
       "      <td>0</td>\n",
       "      <td>0</td>\n",
       "      <td>...</td>\n",
       "      <td>0</td>\n",
       "      <td>0</td>\n",
       "      <td>0</td>\n",
       "      <td>0</td>\n",
       "      <td>0</td>\n",
       "      <td>0</td>\n",
       "      <td>-1</td>\n",
       "      <td>0</td>\n",
       "      <td>0</td>\n",
       "      <td>0</td>\n",
       "    </tr>\n",
       "    <tr>\n",
       "      <th>F10005_SI</th>\n",
       "      <td>0</td>\n",
       "      <td>0</td>\n",
       "      <td>0</td>\n",
       "      <td>0</td>\n",
       "      <td>0</td>\n",
       "      <td>0</td>\n",
       "      <td>0</td>\n",
       "      <td>0</td>\n",
       "      <td>0</td>\n",
       "      <td>0</td>\n",
       "      <td>...</td>\n",
       "      <td>0</td>\n",
       "      <td>0</td>\n",
       "      <td>0</td>\n",
       "      <td>0</td>\n",
       "      <td>0</td>\n",
       "      <td>0</td>\n",
       "      <td>0</td>\n",
       "      <td>0</td>\n",
       "      <td>0</td>\n",
       "      <td>0</td>\n",
       "    </tr>\n",
       "    <tr>\n",
       "      <th>F10009_SI</th>\n",
       "      <td>0</td>\n",
       "      <td>0</td>\n",
       "      <td>0</td>\n",
       "      <td>0</td>\n",
       "      <td>0</td>\n",
       "      <td>0</td>\n",
       "      <td>0</td>\n",
       "      <td>0</td>\n",
       "      <td>0</td>\n",
       "      <td>0</td>\n",
       "      <td>...</td>\n",
       "      <td>0</td>\n",
       "      <td>0</td>\n",
       "      <td>0</td>\n",
       "      <td>0</td>\n",
       "      <td>0</td>\n",
       "      <td>0</td>\n",
       "      <td>0</td>\n",
       "      <td>0</td>\n",
       "      <td>0</td>\n",
       "      <td>0</td>\n",
       "    </tr>\n",
       "  </tbody>\n",
       "</table>\n",
       "<p>3 rows × 100 columns</p>\n",
       "</div>"
      ],
      "text/plain": [
       "           line1  line2  line3  line4  line5  line6  line7  line8  line9  \\\n",
       "fusion_id                                                                  \n",
       "F10001_SI      0      0      0     -1      0      0      0      0      0   \n",
       "F10005_SI      0      0      0      0      0      0      0      0      0   \n",
       "F10009_SI      0      0      0      0      0      0      0      0      0   \n",
       "\n",
       "           line10   ...     line91  line92  line93  line94  line95  line96  \\\n",
       "fusion_id           ...                                                      \n",
       "F10001_SI       0   ...          0       0       0       0       0       0   \n",
       "F10005_SI       0   ...          0       0       0       0       0       0   \n",
       "F10009_SI       0   ...          0       0       0       0       0       0   \n",
       "\n",
       "           line97  line98  line99  line100  \n",
       "fusion_id                                   \n",
       "F10001_SI      -1       0       0        0  \n",
       "F10005_SI       0       0       0        0  \n",
       "F10009_SI       0       0       0        0  \n",
       "\n",
       "[3 rows x 100 columns]"
      ]
     },
     "execution_count": 3,
     "metadata": {},
     "output_type": "execute_result"
    }
   ],
   "source": [
    "fname = '../../pipeline_output/100_genome_simulation/fb551_100_genome_flag_line_bias.csv'\n",
    "df = pd.read_csv(fname, index_col='fusion_id')\n",
    "df.head(3)"
   ]
  },
  {
   "cell_type": "code",
   "execution_count": 4,
   "metadata": {
    "collapsed": false,
    "run_control": {
     "marked": false
    }
   },
   "outputs": [
    {
     "data": {
      "image/png": "[encoded data removed]",
      "text/plain": [
       "<matplotlib.figure.Figure at 0x7faf3cb34d90>"
      ]
     },
     "metadata": {},
     "output_type": "display_data"
    }
   ],
   "source": [
    "# Plot heatmap\n",
    "fig = plt.figure(figsize=(8, 8))\n",
    "plt.imshow(df, aspect='auto', cmap=plt.cm.Spectral)\n",
    "plt.xlabel('lines')\n",
    "plt.ylabel('Exonic Regions')\n",
    "plt.title(u'Exonic regions that showed bias in 100 genome simulation.\\nBias towards Tester (=1) and Bias towards Line (=-1)')\n",
    "plt.colorbar()\n",
    "plt.tight_layout()\n",
    "plt.savefig('../../pipeline_output/100_genome_simulation/heatmap_genome_ambiguity_fb551_100_genome_simulation.png')"
   ]
  },
  {
   "cell_type": "code",
   "execution_count": 5,
   "metadata": {
    "collapsed": false,
    "run_control": {
     "marked": false
    }
   },
   "outputs": [
    {
     "name": "stdout",
     "output_type": "stream",
     "text": [
      "flag_exons_no_bias_simulated_lines         55647\n",
      "flag_exons_w_bias_simulated_lines           7534\n",
      "flag_exons_bias_in_half_simulated_lines     1372\n",
      "flag_exons_bias_in_all_simulated_lines       807\n",
      "dtype: int64\n",
      "Number of exonic regions: 63181\n"
     ]
    }
   ],
   "source": [
    "# Summarize exonic region bias across lines\n",
    "numLineBias = df.apply(lambda x: sum(abs(x)), axis=1)\n",
    "numLine = df.count(axis=1)\n",
    "\n",
    "# Create flags DataFrame\n",
    "flags = fg.FlagsDataFrame(index=df.index)\n",
    "\n",
    "# Flag exonic regions with no bias\n",
    "flags.addColumn('flag_exons_no_bias_simulated_lines', (numLineBias == 0))\n",
    "\n",
    "# Flag exonic regions with any bias\n",
    "flags.addColumn('flag_exons_w_bias_simulated_lines', (numLineBias > 0))\n",
    "\n",
    "# Flag exonic regions with bias in 50% lines\n",
    "flags.addColumn('flag_exons_bias_in_half_simulated_lines', (numLineBias >= 50))\n",
    "\n",
    "# Flag exonic regions with bias in all 100 lines\n",
    "flags.addColumn('flag_exons_bias_in_all_simulated_lines', (numLineBias == 100))\n",
    "\n",
    "# Output counts\n",
    "print(flags.sum())\n",
    "\n",
    "# Output total number of exonic regions\n",
    "print('Number of exonic regions: {}'.format(flags.shape[0]))"
   ]
  },
  {
   "cell_type": "code",
   "execution_count": 7,
   "metadata": {
    "collapsed": false
   },
   "outputs": [],
   "source": [
    "# Export to excel table to publication\n",
    "flagsI = flags.reset_index()\n",
    "flagsI.to_excel('../../pipeline_output/100_genome_simulation/flag_exonic_region_w_and_wo_bias_100_genome_simulation.xls', index=None)"
   ]
  },
  {
   "cell_type": "code",
   "execution_count": 8,
   "metadata": {
    "collapsed": false
   },
   "outputs": [],
   "source": [
    "# Export list of fusion ids to drop (currently 807 in all lines)\n",
    "dropList = flagsI.loc[flagsI['flag_exons_bias_in_all_simulated_lines'] == 1, 'fusion_id'].tolist()\n",
    "pickle.dump(dropList, open(os.path.join(PROJ, 'pipeline_output/100_genome_simulation/exonic_region_drop_list.pkl'), 'wb'))"
   ]
  },
  {
   "cell_type": "code",
   "execution_count": null,
   "metadata": {
    "collapsed": true
   },
   "outputs": [],
   "source": []
  }
 ],
 "metadata": {
  "kernelspec": {
   "display_name": "Python 2",
   "language": "python",
   "name": "python2"
  },
  "language_info": {
   "codemirror_mode": {
    "name": "ipython",
    "version": 2
   },
   "file_extension": ".py",
   "mimetype": "text/x-python",
   "name": "python",
   "nbconvert_exporter": "python",
   "pygments_lexer": "ipython2",
   "version": "2.7.6"
  }
 },
 "nbformat": 4,
 "nbformat_minor": 0
}
