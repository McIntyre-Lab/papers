{
 "cells": [
  {
   "cell_type": "markdown",
   "metadata": {},
   "source": [
    "# Misspecification Figure\n",
    "\n"
   ]
  },
  {
   "cell_type": "code",
   "execution_count": 1,
   "metadata": {
    "collapsed": false
   },
   "outputs": [
    {
     "name": "stdout",
     "output_type": "stream",
     "text": [
      "Importing commonly used libraries: os, sys, numpy as np, scipy as sp, pandas as pd, matplotlib as mp, matplotlib.pyplot as plt, datetime as dt, mclib_Python/flagging as fg\n",
      "Creating project level variables: MCLAB = /home/jfear/mclab, PROJ = /home/jfear/mclab/cegs_ase_paper, TODAY = 20150824\n",
      "Adding ['scripts/mclib_Python', 'scripts/ase_Python'] to PYTHONPATH\n"
     ]
    }
   ],
   "source": [
    "%run '../ipython_startup.py'"
   ]
  },
  {
   "cell_type": "code",
   "execution_count": 2,
   "metadata": {
    "collapsed": true
   },
   "outputs": [],
   "source": [
    "r332fname = os.path.join(PROJ, 'pipeline_output/typeI_error/output/r332_misspecification_results_sim_summary.csv')"
   ]
  },
  {
   "cell_type": "code",
   "execution_count": 7,
   "metadata": {
    "collapsed": false
   },
   "outputs": [],
   "source": [
    "df = pd.read_csv(r332fname)"
   ]
  },
  {
   "cell_type": "code",
   "execution_count": 8,
   "metadata": {
    "collapsed": false
   },
   "outputs": [
    {
     "data": {
      "text/plain": [
       "(188559, 90)"
      ]
     },
     "execution_count": 8,
     "metadata": {},
     "output_type": "execute_result"
    }
   ],
   "source": [
    "df.shape"
   ]
  },
  {
   "cell_type": "code",
   "execution_count": 16,
   "metadata": {
    "collapsed": false
   },
   "outputs": [
    {
     "name": "stdout",
     "output_type": "stream",
     "text": [
      "['FUSION_ID',\n",
      " 'S_RNA',\n",
      " 'TotalRNA',\n",
      " 'PER_S_RNA',\n",
      " 'estimate_binomial_test',\n",
      " 'q025_binomial_test',\n",
      " 'q975_binomial_test',\n",
      " 'binomial_test_pvalue',\n",
      " 'flag_AI_binomial_test',\n",
      " 'q_true',\n",
      " 'mean_q_true',\n",
      " 'q025_q_true',\n",
      " 'q975_q_true',\n",
      " 'Bayesianpvalue_q_true',\n",
      " 'flag_AI_q_true',\n",
      " 'mean_q4',\n",
      " 'q025_q4',\n",
      " 'q975_q4',\n",
      " 'Bayesianpvalue_q4',\n",
      " 'flag_AI_q4',\n",
      " 'mean_q5',\n",
      " 'q025_q5',\n",
      " 'q975_q5',\n",
      " 'Bayesianpvalue_q5',\n",
      " 'flag_AI_q5',\n",
      " 'mean_q6',\n",
      " 'q025_q6',\n",
      " 'q975_q6',\n",
      " 'Bayesianpvalue_q6',\n",
      " 'flag_AI_q6',\n",
      " 'q_sim_below_01per',\n",
      " 'mean_q_sim_below_01per',\n",
      " 'q025_q_sim_below_01per',\n",
      " 'q975_q_sim_below_01per',\n",
      " 'Bayesianpvalue_q_sim_below_01per',\n",
      " 'flag_AI_q_sim_below_01per',\n",
      " 'q_sim_above_01per',\n",
      " 'mean_q_sim_above_01per',\n",
      " 'q025_q_sim_above_01per',\n",
      " 'q975_q_sim_above_01per',\n",
      " 'Bayesianpvalue_q_sim_above_01per',\n",
      " 'flag_AI_q_sim_above_01per',\n",
      " 'q_sim_below_02per',\n",
      " 'mean_q_sim_below_02per',\n",
      " 'q025_q_sim_below_02per',\n",
      " 'q975_q_sim_below_02per',\n",
      " 'Bayesianpvalue_q_sim_below_02per',\n",
      " 'flag_AI_q_sim_below_02per',\n",
      " 'q_sim_above_02per',\n",
      " 'mean_q_sim_above_02per',\n",
      " 'q025_q_sim_above_02per',\n",
      " 'q975_q_sim_above_02per',\n",
      " 'Bayesianpvalue_q_sim_above_02per',\n",
      " 'flag_AI_q_sim_above_02per',\n",
      " 'q_sim_below_05per',\n",
      " 'mean_q_sim_below_05per',\n",
      " 'q025_q_sim_below_05per',\n",
      " 'q975_q_sim_below_05per',\n",
      " 'Bayesianpvalue_q_sim_below_05per',\n",
      " 'flag_AI_q_sim_below_05per',\n",
      " 'q_sim_above_05per',\n",
      " 'mean_q_sim_above_05per',\n",
      " 'q025_q_sim_above_05per',\n",
      " 'q975_q_sim_above_05per',\n",
      " 'Bayesianpvalue_q_sim_above_05per',\n",
      " 'flag_AI_q_sim_above_05per',\n",
      " 'q_sim_below_10per',\n",
      " 'mean_q_sim_below_10per',\n",
      " 'q025_q_sim_below_10per',\n",
      " 'q975_q_sim_below_10per',\n",
      " 'Bayesianpvalue_q_sim_below_10per',\n",
      " 'flag_AI_q_sim_below_10per',\n",
      " 'q_sim_above_10per',\n",
      " 'mean_q_sim_above_10per',\n",
      " 'q025_q_sim_above_10per',\n",
      " 'q975_q_sim_above_10per',\n",
      " 'Bayesianpvalue_q_sim_above_10per',\n",
      " 'flag_AI_q_sim_above_10per',\n",
      " 'q_sim_below_20per',\n",
      " 'mean_q_sim_below_20per',\n",
      " 'q025_q_sim_below_20per',\n",
      " 'q975_q_sim_below_20per',\n",
      " 'Bayesianpvalue_q_sim_below_20per',\n",
      " 'flag_AI_q_sim_below_20per',\n",
      " 'q_sim_above_20per',\n",
      " 'mean_q_sim_above_20per',\n",
      " 'q025_q_sim_above_20per',\n",
      " 'q975_q_sim_above_20per',\n",
      " 'Bayesianpvalue_q_sim_above_20per',\n",
      " 'flag_AI_q_sim_above_20per']\n"
     ]
    }
   ],
   "source": [
    "pprint(df.columns.tolist())"
   ]
  },
  {
   "cell_type": "code",
   "execution_count": 18,
   "metadata": {
    "collapsed": false
   },
   "outputs": [
    {
     "name": "stdout",
     "output_type": "stream",
     "text": [
      "   FUSION_ID  S_RNA  TotalRNA  PER_S_RNA  estimate_binomial_test  \\\n",
      "0        NaN     12        37      0.324                   0.324   \n",
      "1        NaN    133       371      0.358                   0.358   \n",
      "2        NaN      9        31      0.290                   0.290   \n",
      "\n",
      "   q025_binomial_test  q975_binomial_test  binomial_test_pvalue  \\\n",
      "0               0.180               0.498                 0.047   \n",
      "1               0.310               0.410                 0.000   \n",
      "2               0.142               0.480                 0.029   \n",
      "\n",
      "   flag_AI_binomial_test  q_true            ...              \\\n",
      "0                      1     NaN            ...               \n",
      "1                      1     NaN            ...               \n",
      "2                      1     NaN            ...               \n",
      "\n",
      "   q025_q_sim_below_20per  q975_q_sim_below_20per  \\\n",
      "0                   0.441                   0.569   \n",
      "1                   0.513                   0.595   \n",
      "2                   0.432                   0.562   \n",
      "\n",
      "   Bayesianpvalue_q_sim_below_20per  flag_AI_q_sim_below_20per  \\\n",
      "0                             0.830                          0   \n",
      "1                             0.009                          1   \n",
      "2                             0.972                          0   \n",
      "\n",
      "   q_sim_above_20per  mean_q_sim_above_20per  q025_q_sim_above_20per  \\\n",
      "0               0.42                   0.484                   0.418   \n",
      "1               0.42                   0.460                   0.416   \n",
      "2               0.42                   0.482                   0.415   \n",
      "\n",
      "   q975_q_sim_above_20per  Bayesianpvalue_q_sim_above_20per  \\\n",
      "0                   0.548                             0.631   \n",
      "1                   0.503                             0.065   \n",
      "2                   0.546                             0.601   \n",
      "\n",
      "   flag_AI_q_sim_above_20per  \n",
      "0                          0  \n",
      "1                          0  \n",
      "2                          0  \n",
      "\n",
      "[3 rows x 90 columns]\n"
     ]
    }
   ],
   "source": [
    "print (df.head(3))"
   ]
  },
  {
   "cell_type": "code",
   "execution_count": null,
   "metadata": {
    "collapsed": true
   },
   "outputs": [],
   "source": []
  }
 ],
 "metadata": {
  "kernelspec": {
   "display_name": "Python 2",
   "language": "python",
   "name": "python2"
  },
  "language_info": {
   "codemirror_mode": {
    "name": "ipython",
    "version": 2
   },
   "file_extension": ".py",
   "mimetype": "text/x-python",
   "name": "python",
   "nbconvert_exporter": "python",
   "pygments_lexer": "ipython2",
   "version": "2.7.6"
  }
 },
 "nbformat": 4,
 "nbformat_minor": 0
}
