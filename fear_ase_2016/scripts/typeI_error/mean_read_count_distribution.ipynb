{
 "cells": [
  {
   "cell_type": "markdown",
   "metadata": {},
   "source": [
    "# Mean Read Count Distribution\n",
    "\n",
    "I am wanting to selecte 3 genotypes to use in the Type I Error simulations. In the simulation, I use the sum of the mean read counts for `line` and `tester`. Here I am looking at the distribution of these means across my 68 genotypes to selecte 3 genotypes that cover the range of this distribution (i.e., something like q10, q50, q90).\n",
    "\n",
    "* Import sam-compare read counts for each genotype\n",
    "* For each exonic regions, calculate `mean(line)` and `mean(tester)`\n",
    "* For each genotype calculate the mean over all exonic regions\n",
    "* Combine all genotypes and identify genotypes that are at q10, q50, and q90\n",
    "* Use these 3 genotypes in TIER simulation\n",
    "\n",
    "## Results\n",
    "\n",
    "I have selected the following lines based on their mean expression levels **(Low: r377, Mid: r332, High: r365)** for use in the Type I Error simulation.\n",
    "\n",
    "**NOTE: r377 would not work in the simulations because it had too low coverage. I decided to use r361 which was rank 10 instead of 7.**"
   ]
  },
  {
   "cell_type": "code",
   "execution_count": 2,
   "metadata": {
    "collapsed": false
   },
   "outputs": [
    {
     "name": "stdout",
     "output_type": "stream",
     "text": [
      "Importing commonly used libraries: os, sys, numpy as np, scipy as sp, pandas as pd, matplotlib as mp, matplotlib.pyplot as plt, datetime as dt, mclib_Python/flagging as fg\n",
      "Creating project level variables: MCLAB = /home/jfear/mclab, PROJ = /home/jfear/mclab/cegs_ase_paper, TODAY = 20150811\n",
      "Adding ['scripts/mclib_Python', 'scripts/ase_Python'] to PYTHONPATH\n"
     ]
    }
   ],
   "source": [
    "%run '../ipython_startup.py'"
   ]
  },
  {
   "cell_type": "code",
   "execution_count": 3,
   "metadata": {
    "collapsed": false
   },
   "outputs": [],
   "source": [
    "# Import counts\n",
    "def importCnts(line):\n",
    "    # Import counts\n",
    "    samDir = os.path.join(PROJ, 'pipeline_output/typeI_error/input')\n",
    "    fname = os.path.join(samDir, line + '_RNA_sim_DNA_cnts.csv')\n",
    "    df = pd.read_csv(fname)\n",
    "    df.set_index(['line', 'fusion_id'], inplace=True)\n",
    "    \n",
    "    # Get means\n",
    "    lineMean = df[['line_RNA_Rep1', 'line_RNA_Rep2', 'line_RNA_Rep3']].mean(axis=1)\n",
    "    testerMean = df[['tester_RNA_Rep1', 'tester_RNA_Rep2', 'tester_RNA_Rep3']].mean(axis=1)\n",
    "\n",
    "    sumMean = lineMean + testerMean\n",
    "    \n",
    "    # Return the mean of the sumMean\n",
    "    return (line, sumMean.mean())"
   ]
  },
  {
   "cell_type": "code",
   "execution_count": 4,
   "metadata": {
    "collapsed": false
   },
   "outputs": [
    {
     "name": "stdout",
     "output_type": "stream",
     "text": [
      "q10: r361\n",
      "q50: r332\n",
      "q90: r365\n"
     ]
    }
   ],
   "source": [
    "# List of 68 genotypes\n",
    "genotypes = ['r101', 'r109', 'r136', 'r149', 'r181', 'r208', 'r21', 'r217', 'r228', 'r280', \n",
    "             'r287', 'r309', 'r315', 'r324', 'r332', 'r335', 'r336', 'r340', 'r350', 'r357', \n",
    "             'r358', 'r360', 'r361', 'r362', 'r365', 'r373', 'r374', 'r375', 'r377', 'r380', \n",
    "             'r392', 'r398', 'r426', 'r427', 'r440', 'r443', 'r491', 'r502', 'r517', 'r584', \n",
    "             'r732', 'r737', 'r799', 'r810', 'r820', 'r83', 'r85', 'r850', 'r853', 'r857', \n",
    "             'r900', 'r907', 'r908', 'r93', 'w114', 'w33', 'w35', 'w38', 'w47', 'w52', 'w55', \n",
    "             'w59', 'w64', 'w67', 'w68', 'w74', 'w76', 'w79']\n",
    "\n",
    "# Calculate the mean of the sums\n",
    "means = [importCnts(x) for x in genotypes]\n",
    "\n",
    "# Convert to DataFrame\n",
    "df = pd.DataFrame(means, columns=['line', 'mean'])\n",
    "df.set_index('line', inplace=True)\n",
    "\n",
    "# Create a list of genotypes sorted by their rank(mean)\n",
    "ranks = df.rank().sort('mean')\n",
    "\n",
    "\n",
    "# Pull out the genotypes at q10, q50, q90\n",
    "## q10 = 0.10 * 68 ~= rank 7\n",
    "###NOTE: r377 did not have enough coverage so I am going to use genothype at rank #10 instead.\n",
    "\n",
    "## q50 = 0.5 * 68 ~= rank 34\n",
    "## q90 = 0.9 * 67 ~= rank 61\n",
    "\n",
    "q10 = ranks[ranks['mean'] == 10].index[0]\n",
    "q50 = ranks[ranks['mean'] == 34].index[0]\n",
    "q90 = ranks[ranks['mean'] == 61].index[0]\n",
    "\n",
    "# Use these genotypes for simulation\n",
    "print 'q10: ' + q10\n",
    "print 'q50: ' + q50\n",
    "print 'q90: ' + q90"
   ]
  },
  {
   "cell_type": "code",
   "execution_count": 59,
   "metadata": {
    "collapsed": false
   },
   "outputs": [
    {
     "data": {
      "text/plain": [
       "<matplotlib.axes._subplots.AxesSubplot at 0x7f1d506f5450>"
      ]
     },
     "execution_count": 59,
     "metadata": {},
     "output_type": "execute_result"
    },
    {
     "data": {
      "image/png": "[encoded data removed]",
      "text/plain": [
       "<matplotlib.figure.Figure at 0x7f1d50a50810>"
      ]
     },
     "metadata": {},
     "output_type": "display_data"
    }
   ],
   "source": [
    "# Plot the distribution of mean(sumMean) across genotypes\n",
    "df.plot(kind='kde')"
   ]
  },
  {
   "cell_type": "code",
   "execution_count": null,
   "metadata": {
    "collapsed": true
   },
   "outputs": [],
   "source": []
  }
 ],
 "metadata": {
  "kernelspec": {
   "display_name": "Python 2",
   "language": "python",
   "name": "python2"
  },
  "language_info": {
   "codemirror_mode": {
    "name": "ipython",
    "version": 2
   },
   "file_extension": ".py",
   "mimetype": "text/x-python",
   "name": "python",
   "nbconvert_exporter": "python",
   "pygments_lexer": "ipython2",
   "version": "2.7.6"
  }
 },
 "nbformat": 4,
 "nbformat_minor": 0
}
