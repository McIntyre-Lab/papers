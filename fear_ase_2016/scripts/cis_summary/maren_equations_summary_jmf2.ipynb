{
 "cells": [
  {
   "cell_type": "markdown",
   "metadata": {
    "code_folding": [
     0
    ],
    "run_control": {
     "marked": false
    }
   },
   "source": [
    "# Maren Equations Summary\n",
    "\n",
    "This notebook is just pulling out the important figures and tables for the manuscript. For more detailed explanations and exploring see other notebooks."
   ]
  },
  {
   "cell_type": "code",
   "execution_count": 1,
   "metadata": {
    "code_folding": [
     0
    ],
    "collapsed": false,
    "run_control": {
     "marked": false
    },
    "scrolled": true
   },
   "outputs": [
    {
     "name": "stdout",
     "output_type": "stream",
     "text": [
      "Importing commonly used libraries: \n",
      "            os, sys \n",
      "            numpy as np \n",
      "            scipy as sp \n",
      "            pandas as pd \n",
      "            matplotlib as mp \n",
      "            matplotlib.pyplot as plt\n",
      "            datetime as dt \n",
      "            mclib_Python/flagging as fg\n",
      "\n",
      "Creating project level variables: \n",
      "        MCLAB = /home/jfear/mclab \n",
      "        PROJ = /home/jfear/mclab/cegs_ase_paper \n",
      "        TODAY = 20150929\n",
      "\n",
      "Adding ['scripts/mclib_Python', 'scripts/ase_Python'] to PYTHONPATH\n",
      "\n"
     ]
    }
   ],
   "source": [
    "# Set-up default environment\n",
    "%run '../ipython_startup.py'\n",
    "\n",
    "# Import additional libraries\n",
    "import sas7bdat as sas\n",
    "import cPickle as pickle\n",
    "import statsmodels.formula.api as smf\n",
    "\n",
    "from ase_cisEq import marenEq\n",
    "from ase_cisEq import marenPrintTable\n",
    "\n",
    "from ase_normalization import meanCenter\n",
    "from ase_normalization import q3Norm\n",
    "from ase_normalization import meanStd\n",
    "\n",
    "pjoin = os.path.join"
   ]
  },
  {
   "cell_type": "markdown",
   "metadata": {
    "code_folding": [],
    "run_control": {
     "marked": false
    }
   },
   "source": [
    "## Import clean data set\n",
    "\n",
    "This data set was created by: ase_summarize_ase_filters.sas\n",
    "\n",
    "The data has had the following droped:\n",
    "* regions that were always bias in 100 genome simulation\n",
    "* regions with APN $\\le 25$\n",
    "* regions not in at least 10% of genotypes\n",
    "* regions not in mated and virgin\n",
    "* genotypes with extreme bias in median(q5_mean_theta)\n",
    "* genotypes with $\\le500$ regions"
   ]
  },
  {
   "cell_type": "code",
   "execution_count": 2,
   "metadata": {
    "code_folding": [
     0
    ],
    "collapsed": false,
    "run_control": {
     "marked": false
    },
    "scrolled": true
   },
   "outputs": [
    {
     "name": "stderr",
     "output_type": "stream",
     "text": [
      "\u001b[33m[clean_ase_stack.sas7bdat] header length 65536 != 8192\u001b[0m\n",
      "WARNING:/home/jfear/mclab/cegs_ase_paper/sas_data/clean_ase_stack.sas7bdat:\u001b[33m[clean_ase_stack.sas7bdat] header length 65536 != 8192\u001b[0m\n"
     ]
    },
    {
     "name": "stdout",
     "output_type": "stream",
     "text": [
      "Rows 159934\n",
      "Columns 10\n",
      "Number of Genotypes 49\n",
      "Number of Exonic Regions 5391\n"
     ]
    }
   ],
   "source": [
    "# Import clean dataset\n",
    "with sas.SAS7BDAT(pjoin(PROJ, 'sas_data/clean_ase_stack.sas7bdat')) as FH:\n",
    "    df = FH.to_data_frame()\n",
    "    \n",
    "dfClean = df[['line', 'mating_status', 'fusion_id', 'flag_AI_combined', 'q5_mean_theta', 'sum_both', 'sum_line', 'sum_tester', 'sum_total', 'mean_apn']]\n",
    "print 'Rows ' + str(dfClean.shape[0])\n",
    "print 'Columns ' + str(dfClean.shape[1])\n",
    "print 'Number of Genotypes ' + str(len(set(dfClean['line'].tolist())))\n",
    "print 'Number of Exonic Regions ' + str(len(set(dfClean['fusion_id'].tolist())))"
   ]
  },
  {
   "cell_type": "markdown",
   "metadata": {
    "code_folding": [
     0
    ],
    "run_control": {
     "marked": false
    }
   },
   "source": [
    "### Additional cleaning\n",
    "For the maren equations, I am also going to drop exonic regions with less than 10 genotypes. The maren equations make some assumptions about the population level sums. Obvisouly the more genotypes that are present for each fusions the better, but I am comfortable with as few as 10 genotypes."
   ]
  },
  {
   "cell_type": "code",
   "execution_count": 3,
   "metadata": {
    "code_folding": [
     0
    ],
    "collapsed": false,
    "run_control": {
     "marked": false
    },
    "scrolled": true
   },
   "outputs": [
    {
     "name": "stdout",
     "output_type": "stream",
     "text": [
      "Rows 131700\n",
      "Columns 10\n",
      "Number of Genotypes 49\n",
      "Number of Exonic Regions 3053\n"
     ]
    }
   ],
   "source": [
    "# Drop groups with less than 10 lines per fusion\n",
    "grp = dfClean.groupby(['mating_status', 'fusion_id'])\n",
    "dfGt10 = grp.filter(lambda x: x['line'].count() >= 10).copy()\n",
    "print 'Rows ' + str(dfGt10.shape[0])\n",
    "print 'Columns ' + str(dfGt10.shape[1])\n",
    "print 'Number of Genotypes ' + str(len(set(dfGt10['line'].tolist())))\n",
    "print 'Number of Exonic Regions ' + str(len(set(dfGt10['fusion_id'].tolist())))"
   ]
  },
  {
   "cell_type": "markdown",
   "metadata": {
    "code_folding": [],
    "run_control": {
     "marked": false
    }
   },
   "source": [
    "## Raw Counts"
   ]
  },
  {
   "cell_type": "code",
   "execution_count": 4,
   "metadata": {
    "code_folding": [
     0
    ],
    "collapsed": false,
    "run_control": {
     "marked": false
    }
   },
   "outputs": [
    {
     "data": {
      "text/plain": [
       "Index([            u'line',    u'mating_status',        u'fusion_id',\n",
       "       u'flag_AI_combined',    u'q5_mean_theta',         u'sum_both',\n",
       "               u'sum_line',       u'sum_tester',        u'sum_total',\n",
       "               u'mean_apn',               u'mu',         u'cis_line',\n",
       "             u'trans_line',       u'cis_tester',     u'trans_tester',\n",
       "                u'mag_cis'],\n",
       "      dtype='object')"
      ]
     },
     "execution_count": 4,
     "metadata": {},
     "output_type": "execute_result"
    }
   ],
   "source": [
    "# Calculate Maren TIG equations by mating status and exonic region\n",
    "marenRawCounts = marenEq(dfGt10, Eii='sum_line', Eti='sum_tester', group=['mating_status', 'fusion_id'])\n",
    "marenRawCounts['mag_cis'] = abs(marenRawCounts['cis_line'])\n",
    "marenRawCounts.columns"
   ]
  },
  {
   "cell_type": "code",
   "execution_count": null,
   "metadata": {
    "collapsed": true
   },
   "outputs": [],
   "source": [
    "marenRawCounts"
   ]
  },
  {
   "cell_type": "code",
   "execution_count": null,
   "metadata": {
    "collapsed": true
   },
   "outputs": [],
   "source": []
  },
  {
   "cell_type": "markdown",
   "metadata": {
    "code_folding": [
     0
    ]
   },
   "source": [
    "### Plot Distribution of *cis*- and *trans*-effects"
   ]
  },
  {
   "cell_type": "code",
   "execution_count": 5,
   "metadata": {
    "code_folding": [
     0,
     27
    ],
    "collapsed": false
   },
   "outputs": [],
   "source": [
    "# Plot densities\n",
    "def panelKde(df, **kwargs):\n",
    "    options = {'subplots': True, \n",
    "               'layout': (7, 7), \n",
    "               'figsize': (20, 20), \n",
    "               'xlim': (-500, 500), \n",
    "               'legend': False,\n",
    "               'color': 'k'}\n",
    "    options.update(kwargs)\n",
    "    \n",
    "    # Make plot\n",
    "    axes = df.plot(kind='kde', **options)\n",
    "    \n",
    "    # Add titles intead of legends\n",
    "    try:\n",
    "        for ax in axes.ravel():\n",
    "            h, l = ax.get_legend_handles_labels()\n",
    "            ax.set_title(l[0])\n",
    "            ax.get_yaxis().set_visible(False)\n",
    "            ax.axvline(0, lw=1)\n",
    "    except:\n",
    "        ax = axes\n",
    "        ax.get_yaxis().set_visible(False)\n",
    "        ax.axvline(0, lw=1)\n",
    "    \n",
    "    return plt.gcf()\n",
    "    \n",
    "def linePanel(df, value='cis_line', index='fusion_id', columns='line'):\n",
    "    \n",
    "    mymap = {\n",
    "        'cis_line': 'cis-Line Effects',\n",
    "        'trans_line': 'trans-Line Effects',\n",
    "        'line': 'genotype',\n",
    "        'fusion_id': 'exonic_region'\n",
    "    }\n",
    "    \n",
    "    # Iterate over mated and virgin\n",
    "    for k, v in {'M': 'Mated', 'V': 'Virgin'}.iteritems():\n",
    "        \n",
    "        # Pivot data frame so that the thing you want to make panels by is in columns.\n",
    "        dfPiv = pd.pivot_table(df[df['mating_status'] == k], \n",
    "                               values=value, index=index, columns=columns)\n",
    "        \n",
    "        # Generate panel plot with at most 49 panels\n",
    "        if value == 'cis_line':\n",
    "            xlim = (-500, 500)\n",
    "        else:\n",
    "            # trans-effects appear to be larger in magnitude\n",
    "            xlim = (-1500, 1500)\n",
    "            \n",
    "        fig = panelKde(dfPiv.iloc[:, :49], xlim=xlim)\n",
    "        \n",
    "        title = '{}\\n{}'.format(mymap[value], v)\n",
    "        fig.suptitle(title, fontsize=18, fontweight='bold')\n",
    "        \n",
    "        fname = pjoin(PROJ, 'pipeline_output/cis_effects/density_plot_by_{}_{}_{}.png'.format(mymap[columns], value, v.lower()))\n",
    "        plt.savefig(fname, bbox_inches='tight')\n",
    "        print(\"Saved figure to: \" + fname)\n",
    "        \n",
    "        plt.close()\n",
    "        \n",
    "def testerPanel(df, value='cis_tester'):\n",
    "    mymap = {\n",
    "        'cis_tester': 'cis-Tester Effects',\n",
    "        'trans_tester': 'trans-Trans Effects'\n",
    "    }\n",
    "    \n",
    "    # Iterate over mated and virgin\n",
    "    for k, v in {'M': 'Mated', 'V': 'Virgin'}.iteritems():\n",
    "        \n",
    "        # Split table by mating status and drop duplicates, because \n",
    "        # there is only one tester value for each exonic region\n",
    "        dfSub = df.ix[df['mating_status'] == k,['fusion_id', value]].drop_duplicates()\n",
    "        \n",
    "        # Generate Panel Plot\n",
    "        fig = panelKde(dfSub, subplots=False)\n",
    "        \n",
    "        title = '{}\\n{}'.format(mymap[value], v)\n",
    "        fig.suptitle(title, fontsize=18, fontweight='bold')\n",
    "        \n",
    "        fname = pjoin(PROJ, 'pipeline_output/cis_effects/density_plot_{}_{}.png'.format(value, v.lower()))\n",
    "        plt.savefig(fname, bbox_inches='tight')\n",
    "        print(\"Saved figure to: \" + fname)\n",
    "        \n",
    "        plt.close()"
   ]
  },
  {
   "cell_type": "code",
   "execution_count": 7,
   "metadata": {
    "code_folding": [
     0
    ],
    "collapsed": false
   },
   "outputs": [
    {
     "name": "stdout",
     "output_type": "stream",
     "text": [
      "Saved figure to: /home/jfear/mclab/cegs_ase_paper/pipeline_output/cis_effects/density_plot_by_genotype_cis_line_mated.png\n",
      "Saved figure to: /home/jfear/mclab/cegs_ase_paper/pipeline_output/cis_effects/density_plot_by_genotype_cis_line_virgin.png\n",
      "Saved figure to: /home/jfear/mclab/cegs_ase_paper/pipeline_output/cis_effects/density_plot_by_genotype_trans_line_mated.png\n",
      "Saved figure to: /home/jfear/mclab/cegs_ase_paper/pipeline_output/cis_effects/density_plot_by_genotype_trans_line_virgin.png\n",
      "Saved figure to: /home/jfear/mclab/cegs_ase_paper/pipeline_output/cis_effects/density_plot_by_exonic_region_cis_line_mated.png\n",
      "Saved figure to: /home/jfear/mclab/cegs_ase_paper/pipeline_output/cis_effects/density_plot_by_exonic_region_cis_line_virgin.png\n",
      "Saved figure to: /home/jfear/mclab/cegs_ase_paper/pipeline_output/cis_effects/density_plot_by_exonic_region_trans_line_mated.png\n",
      "Saved figure to: /home/jfear/mclab/cegs_ase_paper/pipeline_output/cis_effects/density_plot_by_exonic_region_trans_line_virgin.png\n",
      "Saved figure to: /home/jfear/mclab/cegs_ase_paper/pipeline_output/cis_effects/density_plot_cis_tester_mated.png\n",
      "Saved figure to: /home/jfear/mclab/cegs_ase_paper/pipeline_output/cis_effects/density_plot_cis_tester_virgin.png\n",
      "Saved figure to: /home/jfear/mclab/cegs_ase_paper/pipeline_output/cis_effects/density_plot_trans_tester_mated.png\n",
      "Saved figure to: /home/jfear/mclab/cegs_ase_paper/pipeline_output/cis_effects/density_plot_trans_tester_virgin.png\n"
     ]
    }
   ],
   "source": [
    "# Cis and trans line effects by genotype\n",
    "linePanel(marenRawCounts, value='cis_line', index='fusion_id', columns='line')\n",
    "linePanel(marenRawCounts, value='trans_line', index='fusion_id', columns='line')\n",
    "\n",
    "# Cis and trans line effects by exonic region\n",
    "linePanel(marenRawCounts, value='cis_line', index='line', columns='fusion_id')\n",
    "linePanel(marenRawCounts, value='trans_line', index='line', columns='fusion_id')\n",
    "\n",
    "# Cis and trans tester effects\n",
    "testerPanel(marenRawCounts, value='cis_tester')\n",
    "testerPanel(marenRawCounts, value='trans_tester')"
   ]
  },
  {
   "cell_type": "markdown",
   "metadata": {
    "code_folding": [
     0
    ]
   },
   "source": [
    "### Plot *cis*- and *trans*-effects vs Allelic Proportion"
   ]
  },
  {
   "cell_type": "code",
   "execution_count": 14,
   "metadata": {
    "collapsed": true
   },
   "outputs": [],
   "source": [
    "# Set Globals\n",
    "SHAPES = {'M': 'o', 'V': '^'}\n",
    "CMAP='jet'\n",
    "\n",
    "# Add color column to color by genotype\n",
    "colors = {}\n",
    "cnt = 0\n",
    "genos = set(dfGt10['line'].tolist())\n",
    "for l in genos:\n",
    "    colors[l] = cnt\n",
    "    cnt += 1\n",
    "\n",
    "marenRawCounts['color'] = marenRawCounts['line'].map(colors)"
   ]
  },
  {
   "cell_type": "code",
   "execution_count": 15,
   "metadata": {
    "code_folding": [
     0
    ],
    "collapsed": false
   },
   "outputs": [],
   "source": [
    "# Plotting scatter\n",
    "def getR2(df, x, y):\n",
    "    \"\"\" Calculate the R-squared using OLS with an intercept \"\"\"\n",
    "    formula = '{} ~ {} + 1'.format(y, x)\n",
    "    return smf.ols(formula, df).fit().rsquared\n",
    "\n",
    "def scatPlt(df, x, y, c=None, cmap='jet', s=50, marker='o', ax=None, title=None, xlab=None, ylab=None, diag='pos'):\n",
    "    \"\"\" Make a scatter plot using some default options \"\"\"\n",
    "    \n",
    "    ax = df.plot(x, y, kind='scatter', ax=ax, c=c, cmap=cmap, s=s, marker=marker, title=title, colorbar=False)\n",
    "    \n",
    "    # Add a diag line\n",
    "    if diag == 'neg':\n",
    "        # draw a diag line with negative slope\n",
    "        ax.plot([0, 1], [1, 0], transform=ax.transAxes)\n",
    "    elif diag == 'pos':\n",
    "        # draw a diag line with positive slope\n",
    "        ax.plot([0, 1], [0, 1], transform=ax.transAxes)\n",
    "        \n",
    "    ax.set_xlabel(xlab)\n",
    "    ax.set_ylabel(ylab)\n",
    "    \n",
    "    return ax\n",
    "\n",
    "def scatPltPanel(df, line='sum_line', tester='sum_tester', x='cis_line', y='prop', cmap='jet', s=60, panel_title=None, diag='pos'):\n",
    "    \"\"\" Make a panel of scatter plots using pandas \"\"\"\n",
    "    # Plot the cis-line effects x proportion Line by fusion\n",
    "    df['prop'] = 1 - df[tester] / (df[line] + df[tester])\n",
    "    \n",
    "    # Create 5x5 panel plot\n",
    "    fig, axes = plt.subplots(5, 5, figsize=(20, 20))\n",
    "    fig.suptitle(panel_title, fontsize=12, fontweight='bold')\n",
    "    axes = axes.ravel()\n",
    "\n",
    "    # Group by fusion_id\n",
    "    for i, (n, gdf) in enumerate(df.groupby('fusion_id')):\n",
    "        ax = axes[i]\n",
    "                    \n",
    "        # Calculate R-squared value\n",
    "        r2 = getR2(gdf, x, y)\n",
    "\n",
    "        # Make new title with R-squared in it\n",
    "        t = '{}\\nR^2: {}'.format(n, round(r2, 3))\n",
    "\n",
    "        # Change marker style based on mating status and plot\n",
    "        for ms, msdf in gdf.groupby('mating_status'):\n",
    "            scatPlt(msdf, x, y, c='color', cmap=cmap, s=s, marker=SHAPES[ms], ax=ax, title=t, xlab=x, ylab=y, diag=diag)\n",
    "\n",
    "        # only plot 25 fusions\n",
    "        if i == 24:\n",
    "            break\n",
    "    \n",
    "    fname = pjoin(PROJ, 'pipeline_output/cis_effects/scatter_plot_by_exonic_region_{}_v_{}.png'.format(x, y))\n",
    "    plt.savefig(fname, bbox_inches='tight')\n",
    "    print(\"Saved figure to: \" + fname)\n",
    "    \n",
    "    plt.close()"
   ]
  },
  {
   "cell_type": "code",
   "execution_count": 16,
   "metadata": {
    "code_folding": [
     0
    ],
    "collapsed": false,
    "run_control": {
     "marked": false
    }
   },
   "outputs": [
    {
     "name": "stdout",
     "output_type": "stream",
     "text": [
      "Saved figure to: /home/jfear/mclab/cegs_ase_paper/pipeline_output/cis_effects/scatter_plot_by_exonic_region_cis_line_v_prop.png\n"
     ]
    }
   ],
   "source": [
    "# Plot the cis-line effects x proportion by fusion\n",
    "scatPltPanel(marenRawCounts, line='sum_line', tester='sum_tester', cmap=CMAP, panel_title='Raw Counts: cis-line')"
   ]
  },
  {
   "cell_type": "code",
   "execution_count": 17,
   "metadata": {
    "code_folding": [
     0,
     6
    ],
    "collapsed": false,
    "run_control": {
     "marked": false
    }
   },
   "outputs": [
    {
     "name": "stdout",
     "output_type": "stream",
     "text": [
      "Saved figure to: /home/jfear/mclab/cegs_ase_paper/pipeline_output/cis_effects/scatter_plot_by_exonic_region_trans_line_v_prop.png\n"
     ]
    }
   ],
   "source": [
    "# Plot the trans-line effects x proportion by fusion\n",
    "scatPltPanel(marenRawCounts, line='sum_line', tester='sum_tester', x='trans_line', cmap=CMAP, panel_title='Raw Counts: trans-line', diag='neg')"
   ]
  },
  {
   "cell_type": "markdown",
   "metadata": {
    "code_folding": []
   },
   "source": [
    "#### Plot *cis*- and *trans*-effects vs Allelic Proportion for Specific Exonic Regions"
   ]
  },
  {
   "cell_type": "code",
   "execution_count": 18,
   "metadata": {
    "code_folding": [
     6
    ],
    "collapsed": false,
    "run_control": {
     "marked": false
    }
   },
   "outputs": [
    {
     "name": "stdout",
     "output_type": "stream",
     "text": [
      "Saved figure to: /home/jfear/mclab/cegs_ase_paper/pipeline_output/cis_effects/scatter_plot_F10005_SI_effects_v_prop.png\n"
     ]
    }
   ],
   "source": [
    "# Plot F10005_SI\n",
    "FUSION='F10005_SI'\n",
    "\n",
    "dfFus = marenRawCounts[marenRawCounts['fusion_id'] == FUSION].copy()\n",
    "dfFus['prop'] = 1 - dfFus['sum_tester'] / (dfFus['sum_line'] + dfFus['sum_tester'])\n",
    "\n",
    "# Generate 3 panel plot\n",
    "fig, axes = plt.subplots(1, 3, figsize=(12, 4))\n",
    "fig.suptitle(FUSION, fontsize=14, fontweight='bold')\n",
    "\n",
    "for n, mdf in dfFus.groupby('mating_status'):\n",
    "    # Plot the cis-line effects x proportion by fusion\n",
    "    scatPlt(mdf, x='cis_line', y='prop', ax=axes[0], c='color', cmap=CMAP, marker=SHAPES[n], title='cis-line', xlab='cis-line', ylab='prop')\n",
    "\n",
    "    # Plot the trans-line effects x proportion by fusion\n",
    "    scatPlt(mdf, x='trans_line', y='prop', ax=axes[1], c='color', cmap=CMAP, marker=SHAPES[n], title='trans-line', xlab='trans-line', ylab='prop', diag='neg')\n",
    "\n",
    "    # Plot the Tester effects x proportion by fusion\n",
    "    scatPlt(mdf, x='cis_tester', y='prop', ax=axes[2], c='color', cmap=CMAP,  marker=SHAPES[n], title='Tester', xlab='cis-tester', ylab='prop', diag=None)\n",
    "\n",
    "fname = pjoin(PROJ, 'pipeline_output/cis_effects/scatter_plot_{}_effects_v_prop.png'.format(FUSION))\n",
    "plt.savefig(fname, bbox_inches='tight')\n",
    "print(\"Saved figure to: \" + fname)\n",
    "\n",
    "plt.close()"
   ]
  },
  {
   "cell_type": "markdown",
   "metadata": {},
   "source": [
    "### F10317_SI\n",
    "This fusion has a weaker cis-line effects but trans-line effects look more linear."
   ]
  },
  {
   "cell_type": "code",
   "execution_count": 19,
   "metadata": {
    "code_folding": [
     0
    ],
    "collapsed": false,
    "run_control": {
     "marked": false
    }
   },
   "outputs": [
    {
     "name": "stdout",
     "output_type": "stream",
     "text": [
      "Saved figure to: /home/jfear/mclab/cegs_ase_paper/pipeline_output/cis_effects/scatter_plot_F10317_SI_effects_v_prop.png\n"
     ]
    }
   ],
   "source": [
    "# Plot F10317_SI\n",
    "FUSION='F10317_SI'\n",
    "\n",
    "dfFus = marenRawCounts[marenRawCounts['fusion_id'] == FUSION].copy()\n",
    "dfFus['prop'] = 1 - dfFus['sum_tester'] / (dfFus['sum_line'] + dfFus['sum_tester'])\n",
    "\n",
    "# Generate 3 panel plot\n",
    "fig, axes = plt.subplots(1, 3, figsize=(12, 4))\n",
    "fig.suptitle(FUSION, fontsize=14, fontweight='bold')\n",
    "\n",
    "for n, mdf in dfFus.groupby('mating_status'):\n",
    "    # Plot the cis-line effects x proportion by fusion\n",
    "    scatPlt(mdf, x='cis_line', y='prop', ax=axes[0], c='color', cmap=CMAP, marker=SHAPES[n], title='cis-line', xlab='cis-line', ylab='prop')\n",
    "\n",
    "    # Plot the trans-line effects x proportion by fusion\n",
    "    scatPlt(mdf, x='trans_line', y='prop', ax=axes[1], c='color', cmap=CMAP, marker=SHAPES[n], title='trans-line', xlab='trans-line', ylab='prop', diag='neg')\n",
    "\n",
    "    # Plot the Tester effects x proportion by fusion\n",
    "    scatPlt(mdf, x='cis_tester', y='prop', ax=axes[2], c='color', cmap=CMAP,  marker=SHAPES[n], title='Tester', xlab='cis-tester', ylab='prop', diag=None)\n",
    "\n",
    "fname = pjoin(PROJ, 'pipeline_output/cis_effects/scatter_plot_{}_effects_v_prop.png'.format(FUSION))\n",
    "plt.savefig(fname, bbox_inches='tight')\n",
    "print(\"Saved figure to: \" + fname)\n",
    "\n",
    "plt.close()"
   ]
  },
  {
   "cell_type": "markdown",
   "metadata": {},
   "source": [
    "### F10482_SI\n",
    "This fusion has a weaker cis-line effects but trans-line effects look more linear."
   ]
  },
  {
   "cell_type": "code",
   "execution_count": 20,
   "metadata": {
    "code_folding": [
     0
    ],
    "collapsed": false,
    "run_control": {
     "marked": false
    }
   },
   "outputs": [
    {
     "name": "stdout",
     "output_type": "stream",
     "text": [
      "Saved figure to: /home/jfear/mclab/cegs_ase_paper/pipeline_output/cis_effects/scatter_plot_F10482_SI_effects_v_prop.png\n"
     ]
    }
   ],
   "source": [
    "# Plot F10482_SI\n",
    "FUSION='F10482_SI'\n",
    "\n",
    "dfFus = marenRawCounts[marenRawCounts['fusion_id'] == FUSION].copy()\n",
    "dfFus['prop'] = 1 - dfFus['sum_tester'] / (dfFus['sum_line'] + dfFus['sum_tester'])\n",
    "\n",
    "# Generate 3 panel plot\n",
    "fig, axes = plt.subplots(1, 3, figsize=(12, 4))\n",
    "fig.suptitle(FUSION, fontsize=14, fontweight='bold')\n",
    "\n",
    "for n, mdf in dfFus.groupby('mating_status'):\n",
    "    # Plot the cis-line effects x proportion by fusion\n",
    "    scatPlt(mdf, x='cis_line', y='prop', ax=axes[0], c='color', cmap=CMAP, marker=SHAPES[n], title='cis-line', xlab='cis-line', ylab='prop')\n",
    "\n",
    "    # Plot the trans-line effects x proportion by fusion\n",
    "    scatPlt(mdf, x='trans_line', y='prop', ax=axes[1], c='color', cmap=CMAP, marker=SHAPES[n], title='trans-line', xlab='trans-line', ylab='prop', diag='neg')\n",
    "\n",
    "    # Plot the Tester effects x proportion by fusion\n",
    "    scatPlt(mdf, x='cis_tester', y='prop', ax=axes[2], c='color', cmap=CMAP,  marker=SHAPES[n], title='Tester', xlab='cis-tester', ylab='prop', diag=None)\n",
    "\n",
    "fname = pjoin(PROJ, 'pipeline_output/cis_effects/scatter_plot_{}_effects_v_prop.png'.format(FUSION))\n",
    "plt.savefig(fname, bbox_inches='tight')\n",
    "print(\"Saved figure to: \" + fname)\n",
    "\n",
    "plt.close()"
   ]
  },
  {
   "cell_type": "code",
   "execution_count": 15,
   "metadata": {
    "code_folding": [
     0
    ],
    "collapsed": false
   },
   "outputs": [
    {
     "data": {
      "text/plain": [
       "Index([u'mean_apn', u'cis_line'], dtype='object')"
      ]
     },
     "execution_count": 15,
     "metadata": {},
     "output_type": "execute_result"
    }
   ],
   "source": [
    "meanByMsLine = marenRawCounts[['mean_apn', 'cis_line', 'mating_status', 'line']].groupby(['mating_status', 'line']).mean()\n",
    "meanByMsLine.columns"
   ]
  },
  {
   "cell_type": "code",
   "execution_count": 60,
   "metadata": {
    "collapsed": false
   },
   "outputs": [
    {
     "data": {
      "text/plain": [
       "<matplotlib.axes._subplots.AxesSubplot at 0x7f2b4a987450>"
      ]
     },
     "execution_count": 60,
     "metadata": {},
     "output_type": "execute_result"
    },
    {
     "data": {
      "image/png": "[encoded data removed]",
      "text/plain": [
       "<matplotlib.figure.Figure at 0x7f2b4ab46410>"
      ]
     },
     "metadata": {},
     "output_type": "display_data"
    }
   ],
   "source": [
    "meanByMsLine.plot(kind='scatter', x='mean_apn', y='cis_line')"
   ]
  },
  {
   "cell_type": "code",
   "execution_count": 61,
   "metadata": {
    "collapsed": true
   },
   "outputs": [],
   "source": []
  },
  {
   "cell_type": "code",
   "execution_count": 68,
   "metadata": {
    "code_folding": [],
    "collapsed": false,
    "run_control": {
     "marked": false
    }
   },
   "outputs": [
    {
     "ename": "SyntaxError",
     "evalue": "invalid syntax (<ipython-input-68-ab89754b1cf2>, line 11)",
     "output_type": "error",
     "traceback": [
      "\u001b[1;36m  File \u001b[1;32m\"<ipython-input-68-ab89754b1cf2>\"\u001b[1;36m, line \u001b[1;32m11\u001b[0m\n\u001b[1;33m    filt = dfSub.loc[(dfSub[value] eval(ycutoff)) | (dfSub['mean_apn'] eval(xcutoff)), ['line', 'mating_status', 'mean_apn', 'cis_line']]\u001b[0m\n\u001b[1;37m                                      ^\u001b[0m\n\u001b[1;31mSyntaxError\u001b[0m\u001b[1;31m:\u001b[0m invalid syntax\n"
     ]
    }
   ],
   "source": [
    "def cisAPN(df, fusion, value='cis_line', xcutoff='>=150', ycutoff='<=-180'):\n",
    "    \"\"\" Plot effects vs mean apn\"\"\"\n",
    "    # Pull out fusion of interest\n",
    "    dfSub = marenRawCounts[marenRawCounts['fusion_id'] == fusion]\n",
    "\n",
    "    # Make scatter plot\n",
    "    fig, ax = plt.subplots(1, 1, figsize=(10, 10))\n",
    "    dfSub.plot(kind='scatter', x='mean_apn', y='cis_line', ax=ax, title=fusion)\n",
    "\n",
    "    # Annotate outliers\n",
    "    xc = \n",
    "    filt = dfSub.loc[(dfSub[value] eval(ycutoff)) | (dfSub['mean_apn'] eval(xcutoff)), ['line', 'mating_status', 'mean_apn', 'cis_line']]\n",
    "    for row in filt.values:\n",
    "        line, ms, apn, cis = row\n",
    "        ax.annotate(line + '_' + ms, xy=(apn, cis))\n",
    "\n",
    "    fname = pjoin(PROJ, 'pipeline_output/cis_effects/scatter_plot_{}_{}_v_meanApn.png'.format(fusion, value))\n",
    "    plt.savefig(fname, bbox_inches='tight')"
   ]
  },
  {
   "cell_type": "code",
   "execution_count": null,
   "metadata": {
    "collapsed": true
   },
   "outputs": [],
   "source": []
  },
  {
   "cell_type": "code",
   "execution_count": null,
   "metadata": {
    "collapsed": true
   },
   "outputs": [],
   "source": []
  },
  {
   "cell_type": "code",
   "execution_count": null,
   "metadata": {
    "collapsed": true
   },
   "outputs": [],
   "source": []
  },
  {
   "cell_type": "code",
   "execution_count": null,
   "metadata": {
    "collapsed": true
   },
   "outputs": [],
   "source": []
  },
  {
   "cell_type": "code",
   "execution_count": 5,
   "metadata": {
    "collapsed": false
   },
   "outputs": [
    {
     "data": {
      "text/plain": [
       "Index([            u'line',    u'mating_status',        u'fusion_id',\n",
       "       u'flag_AI_combined',    u'q5_mean_theta',         u'sum_both',\n",
       "               u'sum_line',       u'sum_tester',        u'sum_total',\n",
       "               u'mean_apn',               u'mu',         u'cis_line',\n",
       "             u'trans_line',       u'cis_tester',     u'trans_tester',\n",
       "                u'mag_cis'],\n",
       "      dtype='object')"
      ]
     },
     "execution_count": 5,
     "metadata": {},
     "output_type": "execute_result"
    }
   ],
   "source": [
    "marenRawCounts.columns"
   ]
  },
  {
   "cell_type": "code",
   "execution_count": 6,
   "metadata": {
    "collapsed": true
   },
   "outputs": [],
   "source": [
    "mated = marenRawCounts[marenRawCounts['mating_status'] == 'M']"
   ]
  },
  {
   "cell_type": "code",
   "execution_count": 8,
   "metadata": {
    "collapsed": false
   },
   "outputs": [],
   "source": [
    "genos = set(mated['line'].tolist())"
   ]
  },
  {
   "cell_type": "code",
   "execution_count": 11,
   "metadata": {
    "collapsed": false
   },
   "outputs": [
    {
     "data": {
      "text/html": [
       "<div>\n",
       "<table border=\"1\" class=\"dataframe\">\n",
       "  <thead>\n",
       "    <tr style=\"text-align: right;\">\n",
       "      <th></th>\n",
       "      <th>line</th>\n",
       "      <th>mating_status</th>\n",
       "      <th>fusion_id</th>\n",
       "      <th>flag_AI_combined</th>\n",
       "      <th>q5_mean_theta</th>\n",
       "      <th>sum_both</th>\n",
       "      <th>sum_line</th>\n",
       "      <th>sum_tester</th>\n",
       "      <th>sum_total</th>\n",
       "      <th>mean_apn</th>\n",
       "      <th>mu</th>\n",
       "      <th>cis_line</th>\n",
       "      <th>trans_line</th>\n",
       "      <th>cis_tester</th>\n",
       "      <th>trans_tester</th>\n",
       "      <th>mag_cis</th>\n",
       "    </tr>\n",
       "  </thead>\n",
       "  <tbody>\n",
       "    <tr>\n",
       "      <th>0</th>\n",
       "      <td>r324</td>\n",
       "      <td>M</td>\n",
       "      <td>F10001_SI</td>\n",
       "      <td>0</td>\n",
       "      <td>0.507</td>\n",
       "      <td>1465</td>\n",
       "      <td>107</td>\n",
       "      <td>104</td>\n",
       "      <td>1676</td>\n",
       "      <td>35.659574</td>\n",
       "      <td>108.7</td>\n",
       "      <td>14</td>\n",
       "      <td>-20.4</td>\n",
       "      <td>11</td>\n",
       "      <td>-11</td>\n",
       "      <td>14</td>\n",
       "    </tr>\n",
       "    <tr>\n",
       "      <th>1</th>\n",
       "      <td>r365</td>\n",
       "      <td>M</td>\n",
       "      <td>F10001_SI</td>\n",
       "      <td>0</td>\n",
       "      <td>0.646</td>\n",
       "      <td>1281</td>\n",
       "      <td>67</td>\n",
       "      <td>115</td>\n",
       "      <td>1463</td>\n",
       "      <td>31.127660</td>\n",
       "      <td>108.7</td>\n",
       "      <td>-37</td>\n",
       "      <td>1.6</td>\n",
       "      <td>11</td>\n",
       "      <td>-11</td>\n",
       "      <td>37</td>\n",
       "    </tr>\n",
       "    <tr>\n",
       "      <th>2</th>\n",
       "      <td>r373</td>\n",
       "      <td>M</td>\n",
       "      <td>F10001_SI</td>\n",
       "      <td>0</td>\n",
       "      <td>0.589</td>\n",
       "      <td>1743</td>\n",
       "      <td>181</td>\n",
       "      <td>247</td>\n",
       "      <td>2171</td>\n",
       "      <td>46.191489</td>\n",
       "      <td>108.7</td>\n",
       "      <td>-55</td>\n",
       "      <td>265.6</td>\n",
       "      <td>11</td>\n",
       "      <td>-11</td>\n",
       "      <td>55</td>\n",
       "    </tr>\n",
       "    <tr>\n",
       "      <th>3</th>\n",
       "      <td>r427</td>\n",
       "      <td>M</td>\n",
       "      <td>F10001_SI</td>\n",
       "      <td>0</td>\n",
       "      <td>0.500</td>\n",
       "      <td>2071</td>\n",
       "      <td>94</td>\n",
       "      <td>88</td>\n",
       "      <td>2253</td>\n",
       "      <td>47.936170</td>\n",
       "      <td>108.7</td>\n",
       "      <td>17</td>\n",
       "      <td>-52.4</td>\n",
       "      <td>11</td>\n",
       "      <td>-11</td>\n",
       "      <td>17</td>\n",
       "    </tr>\n",
       "    <tr>\n",
       "      <th>4</th>\n",
       "      <td>r491</td>\n",
       "      <td>M</td>\n",
       "      <td>F10001_SI</td>\n",
       "      <td>0</td>\n",
       "      <td>0.401</td>\n",
       "      <td>2102</td>\n",
       "      <td>74</td>\n",
       "      <td>46</td>\n",
       "      <td>2222</td>\n",
       "      <td>47.276596</td>\n",
       "      <td>108.7</td>\n",
       "      <td>39</td>\n",
       "      <td>-136.4</td>\n",
       "      <td>11</td>\n",
       "      <td>-11</td>\n",
       "      <td>39</td>\n",
       "    </tr>\n",
       "  </tbody>\n",
       "</table>\n",
       "</div>"
      ],
      "text/plain": [
       "   line mating_status  fusion_id  flag_AI_combined  q5_mean_theta  sum_both  \\\n",
       "0  r324             M  F10001_SI                 0          0.507      1465   \n",
       "1  r365             M  F10001_SI                 0          0.646      1281   \n",
       "2  r373             M  F10001_SI                 0          0.589      1743   \n",
       "3  r427             M  F10001_SI                 0          0.500      2071   \n",
       "4  r491             M  F10001_SI                 0          0.401      2102   \n",
       "\n",
       "   sum_line  sum_tester  sum_total   mean_apn     mu  cis_line  trans_line  \\\n",
       "0       107         104       1676  35.659574  108.7        14       -20.4   \n",
       "1        67         115       1463  31.127660  108.7       -37         1.6   \n",
       "2       181         247       2171  46.191489  108.7       -55       265.6   \n",
       "3        94          88       2253  47.936170  108.7        17       -52.4   \n",
       "4        74          46       2222  47.276596  108.7        39      -136.4   \n",
       "\n",
       "   cis_tester  trans_tester  mag_cis  \n",
       "0          11           -11       14  \n",
       "1          11           -11       37  \n",
       "2          11           -11       55  \n",
       "3          11           -11       17  \n",
       "4          11           -11       39  "
      ]
     },
     "execution_count": 11,
     "metadata": {},
     "output_type": "execute_result"
    }
   ],
   "source": [
    "mated.head()"
   ]
  },
  {
   "cell_type": "code",
   "execution_count": 14,
   "metadata": {
    "collapsed": true
   },
   "outputs": [],
   "source": [
    "grp = mated.groupby('line')"
   ]
  },
  {
   "cell_type": "code",
   "execution_count": 17,
   "metadata": {
    "collapsed": false
   },
   "outputs": [],
   "source": [
    "sub = grp.get_group('r324')"
   ]
  },
  {
   "cell_type": "code",
   "execution_count": 54,
   "metadata": {
    "collapsed": false
   },
   "outputs": [
    {
     "data": {
      "text/plain": [
       "<matplotlib.text.Text at 0x7f1d44fdb250>"
      ]
     },
     "execution_count": 54,
     "metadata": {},
     "output_type": "execute_result"
    },
    {
     "data": {
      "image/png": "[encoded data removed]",
      "text/plain": [
       "<matplotlib.figure.Figure at 0x7f1d45180a50>"
      ]
     },
     "metadata": {},
     "output_type": "display_data"
    }
   ],
   "source": [
    "fig, ax = plt.subplots(1, 1, figsize=(10, 6), dpi=300)\n",
    "ax.axvline(0, c='k', lw=1)\n",
    "sub['cis_line'].plot(kind='kde', xlim=(-600, 600), ax=ax, label='all', style='b-', lw=3)\n",
    "sub.ix[sub['flag_AI_combined'] == 1, 'cis_line'].plot(kind='kde', xlim=(-600, 600), ax=ax, label='AI', style='r--')\n",
    "sub.ix[sub['flag_AI_combined'] == 0, 'cis_line'].plot(kind='kde', xlim=(-600, 600), ax=ax, label='no AI', style='m-.')\n",
    "plt.legend()\n",
    "plt.title('r324')"
   ]
  },
  {
   "cell_type": "code",
   "execution_count": null,
   "metadata": {
    "code_folding": [
     27
    ],
    "collapsed": true
   },
   "outputs": [],
   "source": []
  }
 ],
 "metadata": {
  "kernelspec": {
   "display_name": "Python 2",
   "language": "python",
   "name": "python2"
  },
  "language_info": {
   "codemirror_mode": {
    "name": "ipython",
    "version": 2
   },
   "file_extension": ".py",
   "mimetype": "text/x-python",
   "name": "python",
   "nbconvert_exporter": "python",
   "pygments_lexer": "ipython2",
   "version": "2.7.6"
  }
 },
 "nbformat": 4,
 "nbformat_minor": 0
}
