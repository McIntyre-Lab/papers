{
 "cells": [
  {
   "cell_type": "markdown",
   "metadata": {},
   "source": [
    "# Comparison of Coverage by Credible Interval\n"
   ]
  },
  {
   "cell_type": "code",
   "execution_count": 1,
   "metadata": {
    "collapsed": false
   },
   "outputs": [
    {
     "name": "stdout",
     "output_type": "stream",
     "text": [
      "Importing commonly used libraries: \n",
      "            os, sys \n",
      "            numpy as np \n",
      "            scipy as sp \n",
      "            pandas as pd \n",
      "            matplotlib as mp \n",
      "            matplotlib.pyplot as plt\n",
      "            datetime as dt \n",
      "            mclib_Python/flagging as fg\n",
      "\n",
      "Creating project level variables: \n",
      "        MCLAB = /home/jfear/mclab \n",
      "        PROJ = /home/jfear/mclab/cegs_ase_paper \n",
      "        TODAY = 20160214\n",
      "\n",
      "Adding ['scripts/mclib_Python', 'scripts/ase_Python'] to PYTHONPATH\n",
      "\n"
     ]
    }
   ],
   "source": [
    "%run '../ipython_startup.py'"
   ]
  },
  {
   "cell_type": "code",
   "execution_count": 4,
   "metadata": {
    "collapsed": false
   },
   "outputs": [],
   "source": [
    "# Import additional libraries\n",
    "import cPickle as pickle\n",
    "from scipy.stats import chi2_contingency\n",
    "from sas7bdat import SAS7BDAT as SAS"
   ]
  },
  {
   "cell_type": "code",
   "execution_count": 6,
   "metadata": {
    "collapsed": false
   },
   "outputs": [
    {
     "name": "stderr",
     "output_type": "stream",
     "text": [
      "\u001b[33m[emp_bayesian_results_w_flags.sas7bdat] header length 65536 != 8192\u001b[0m\n",
      "\u001b[33m[emp_bayesian_results_w_flags.sas7bdat] \u001b[33m[emp_bayesian_results_w_flags.sas7bdat] header length 65536 != 8192\u001b[0m\u001b[0m\n",
      "\u001b[33m[emp_bayesian_results_w_flags.sas7bdat] \u001b[33m[emp_bayesian_results_w_flags.sas7bdat] \u001b[33m[emp_bayesian_results_w_flags.sas7bdat] header length 65536 != 8192\u001b[0m\u001b[0m\u001b[0m\n",
      "WARNING:/home/jfear/mclab/cegs_ase_paper/sas_data/emp_bayesian_results_w_flags.sas7bdat:\u001b[33m[emp_bayesian_results_w_flags.sas7bdat] \u001b[33m[emp_bayesian_results_w_flags.sas7bdat] \u001b[33m[emp_bayesian_results_w_flags.sas7bdat] header length 65536 != 8192\u001b[0m\u001b[0m\u001b[0m\n"
     ]
    }
   ],
   "source": [
    "# Import Data\n",
    "with SAS(os.path.join(PROJ, 'sas_data/emp_bayesian_results_w_flags.sas7bdat')) as FH:\n",
    "    df = FH.to_data_frame()"
   ]
  },
  {
   "cell_type": "code",
   "execution_count": 7,
   "metadata": {
    "collapsed": false
   },
   "outputs": [
    {
     "name": "stdout",
     "output_type": "stream",
     "text": [
      "Original DataFrame has 1939828 rows\n",
      "After dropping DataFrame has 1936215 rows\n"
     ]
    }
   ],
   "source": [
    "# Import drop list from 100 genome simulation\n",
    "toDrop = pickle.load(open(os.path.join(PROJ, 'pipeline_output/100_genome_simulation/exonic_region_drop_list.pkl'), 'rb'))\n",
    "\n",
    "# Drop exonic regions in drop list\n",
    "print 'Original DataFrame has {} rows'.format(df.shape[0])\n",
    "df = df[-df['fusion_id'].isin(toDrop)].copy()\n",
    "print 'After dropping DataFrame has {} rows'.format(df.shape[0])"
   ]
  },
  {
   "cell_type": "code",
   "execution_count": 35,
   "metadata": {
    "collapsed": false
   },
   "outputs": [
    {
     "data": {
      "text/html": [
       "<div>\n",
       "<table border=\"1\" class=\"dataframe\">\n",
       "  <thead>\n",
       "    <tr style=\"text-align: right;\">\n",
       "      <th>flag_all_AI</th>\n",
       "      <th>0.0</th>\n",
       "      <th>1.0</th>\n",
       "      <th>All</th>\n",
       "    </tr>\n",
       "    <tr>\n",
       "      <th>apn_bin</th>\n",
       "      <th></th>\n",
       "      <th></th>\n",
       "      <th></th>\n",
       "    </tr>\n",
       "  </thead>\n",
       "  <tbody>\n",
       "    <tr>\n",
       "      <th>low</th>\n",
       "      <td>593376</td>\n",
       "      <td>52036</td>\n",
       "      <td>645412</td>\n",
       "    </tr>\n",
       "    <tr>\n",
       "      <th>medium</th>\n",
       "      <td>551950</td>\n",
       "      <td>93448</td>\n",
       "      <td>645398</td>\n",
       "    </tr>\n",
       "    <tr>\n",
       "      <th>high</th>\n",
       "      <td>540086</td>\n",
       "      <td>105319</td>\n",
       "      <td>645405</td>\n",
       "    </tr>\n",
       "    <tr>\n",
       "      <th>All</th>\n",
       "      <td>1685412</td>\n",
       "      <td>250803</td>\n",
       "      <td>1936215</td>\n",
       "    </tr>\n",
       "  </tbody>\n",
       "</table>\n",
       "</div>"
      ],
      "text/plain": [
       "flag_all_AI      0.0     1.0      All\n",
       "apn_bin                              \n",
       "low           593376   52036   645412\n",
       "medium        551950   93448   645398\n",
       "high          540086  105319   645405\n",
       "All          1685412  250803  1936215"
      ]
     },
     "metadata": {},
     "output_type": "display_data"
    },
    {
     "name": "stdout",
     "output_type": "stream",
     "text": [
      "(21506.221051377073,\n",
      " 0.0,\n",
      " 2,\n",
      " array([[ 561810.09327167,   83601.90672833],\n",
      "       [ 561797.90672833,   83600.09327167],\n",
      "       [ 561804.        ,   83601.        ]]))\n"
     ]
    }
   ],
   "source": [
    "df['apn_bin'], bins = pd.qcut(df['mean_apn'], q=3, labels=['low', 'medium', 'high'], retbins=True)\n",
    "\n",
    "display(pd.crosstab(df['apn_bin'], df['flag_all_AI'], margins=True))\n",
    "pprint(chi2_contingency(pd.crosstab(df['apn_bin'], df['flag_all_AI'], margins=False)))"
   ]
  },
  {
   "cell_type": "code",
   "execution_count": 10,
   "metadata": {
    "collapsed": false
   },
   "outputs": [
    {
     "data": {
      "text/plain": [
       "array([  4.78468900e-03,   2.79458795e+00,   1.03217792e+01,\n",
       "         7.57773368e+04])"
      ]
     },
     "execution_count": 10,
     "metadata": {},
     "output_type": "execute_result"
    }
   ],
   "source": [
    "bins"
   ]
  },
  {
   "cell_type": "code",
   "execution_count": 23,
   "metadata": {
    "collapsed": false
   },
   "outputs": [
    {
     "data": {
      "text/plain": [
       "645411"
      ]
     },
     "execution_count": 23,
     "metadata": {},
     "output_type": "execute_result"
    }
   ],
   "source": [
    "((df['mean_apn'] > bins[0]) & (df['mean_apn'] <= bins[1])).sum()"
   ]
  },
  {
   "cell_type": "code",
   "execution_count": 24,
   "metadata": {
    "collapsed": false
   },
   "outputs": [
    {
     "data": {
      "text/plain": [
       "645398"
      ]
     },
     "execution_count": 24,
     "metadata": {},
     "output_type": "execute_result"
    }
   ],
   "source": [
    "((df['mean_apn'] > bins[1]) & (df['mean_apn'] <= bins[2])).sum()"
   ]
  },
  {
   "cell_type": "code",
   "execution_count": 25,
   "metadata": {
    "collapsed": false
   },
   "outputs": [
    {
     "data": {
      "text/plain": [
       "645405"
      ]
     },
     "execution_count": 25,
     "metadata": {},
     "output_type": "execute_result"
    }
   ],
   "source": [
    "((df['mean_apn'] > bins[2]) & (df['mean_apn'] <= bins[3])).sum()"
   ]
  },
  {
   "cell_type": "markdown",
   "metadata": {},
   "source": [
    "bin 1: .004 to 2.79\n",
    "bin 2: 2.8 to 10.3\n",
    "bin 3: 10.33 "
   ]
  },
  {
   "cell_type": "code",
   "execution_count": 29,
   "metadata": {
    "collapsed": false
   },
   "outputs": [],
   "source": [
    "df['apn_bin2'] = False\n",
    "df.loc[df['mean_apn'] <= 25, 'apn_bin2'] = 'Low'\n",
    "df.loc[(df['mean_apn'] > 25) & (df['mean_apn'] <= 33), 'apn_bin2'] = 'Medium'\n",
    "df.loc[(df['mean_apn'] > 33), 'apn_bin2'] = 'High'"
   ]
  },
  {
   "cell_type": "code",
   "execution_count": 30,
   "metadata": {
    "collapsed": false
   },
   "outputs": [
    {
     "data": {
      "text/html": [
       "<div>\n",
       "<table border=\"1\" class=\"dataframe\">\n",
       "  <thead>\n",
       "    <tr style=\"text-align: right;\">\n",
       "      <th>flag_all_AI</th>\n",
       "      <th>0.0</th>\n",
       "      <th>1.0</th>\n",
       "      <th>All</th>\n",
       "    </tr>\n",
       "    <tr>\n",
       "      <th>apn_bin2</th>\n",
       "      <th></th>\n",
       "      <th></th>\n",
       "      <th></th>\n",
       "    </tr>\n",
       "  </thead>\n",
       "  <tbody>\n",
       "    <tr>\n",
       "      <th>High</th>\n",
       "      <td>170680</td>\n",
       "      <td>42686</td>\n",
       "      <td>213366</td>\n",
       "    </tr>\n",
       "    <tr>\n",
       "      <th>Low</th>\n",
       "      <td>1450834</td>\n",
       "      <td>197347</td>\n",
       "      <td>1648181</td>\n",
       "    </tr>\n",
       "    <tr>\n",
       "      <th>Medium</th>\n",
       "      <td>63898</td>\n",
       "      <td>10770</td>\n",
       "      <td>74668</td>\n",
       "    </tr>\n",
       "    <tr>\n",
       "      <th>All</th>\n",
       "      <td>1685412</td>\n",
       "      <td>250803</td>\n",
       "      <td>1936215</td>\n",
       "    </tr>\n",
       "  </tbody>\n",
       "</table>\n",
       "</div>"
      ],
      "text/plain": [
       "flag_all_AI      0.0     1.0      All\n",
       "apn_bin2                             \n",
       "High          170680   42686   213366\n",
       "Low          1450834  197347  1648181\n",
       "Medium         63898   10770    74668\n",
       "All          1685412  250803  1936215"
      ]
     },
     "metadata": {},
     "output_type": "display_data"
    },
    {
     "name": "stdout",
     "output_type": "stream",
     "text": [
      "(10958.627203809903,\n",
      " 0.0,\n",
      " 2,\n",
      " array([[  185728.14320311,    27637.85679689],\n",
      "       [ 1434687.79839636,   213493.20160364],\n",
      "       [   64996.05840054,     9671.94159946]]))\n"
     ]
    }
   ],
   "source": [
    "display(pd.crosstab(df['apn_bin2'], df['flag_all_AI'], margins=True))\n",
    "pprint(chi2_contingency(pd.crosstab(df['apn_bin2'], df['flag_all_AI'], margins=False)))"
   ]
  },
  {
   "cell_type": "code",
   "execution_count": 34,
   "metadata": {
    "collapsed": false
   },
   "outputs": [
    {
     "name": "stdout",
     "output_type": "stream",
     "text": [
      "Low Percent: 11.9736242561\n",
      "Medium Percent: 14.4238495741\n",
      "High Percent: 20.0059990814\n"
     ]
    }
   ],
   "source": [
    "print('Low Percent: {}'.format(197347 / float(1648181) * 100))\n",
    "print('Medium Percent: {}'.format(10770 / float(74668) * 100))\n",
    "print('High Percent: {}'.format(42686 / float(213366) * 100))"
   ]
  },
  {
   "cell_type": "code",
   "execution_count": 40,
   "metadata": {
    "collapsed": false
   },
   "outputs": [
    {
     "data": {
      "text/html": [
       "<div>\n",
       "<table border=\"1\" class=\"dataframe\">\n",
       "  <thead>\n",
       "    <tr style=\"text-align: right;\">\n",
       "      <th>flag_all_AI</th>\n",
       "      <th>0.0</th>\n",
       "      <th>1.0</th>\n",
       "      <th>All</th>\n",
       "      <th>Percent</th>\n",
       "    </tr>\n",
       "    <tr>\n",
       "      <th>apn_bin3</th>\n",
       "      <th></th>\n",
       "      <th></th>\n",
       "      <th></th>\n",
       "      <th></th>\n",
       "    </tr>\n",
       "  </thead>\n",
       "  <tbody>\n",
       "    <tr>\n",
       "      <th>[0.00478, 0.292]</th>\n",
       "      <td>95447</td>\n",
       "      <td>1425</td>\n",
       "      <td>96872</td>\n",
       "      <td>1.471013</td>\n",
       "    </tr>\n",
       "    <tr>\n",
       "      <th>(0.292, 0.588]</th>\n",
       "      <td>92461</td>\n",
       "      <td>4334</td>\n",
       "      <td>96795</td>\n",
       "      <td>4.477504</td>\n",
       "    </tr>\n",
       "    <tr>\n",
       "      <th>(0.588, 0.943]</th>\n",
       "      <td>89905</td>\n",
       "      <td>6861</td>\n",
       "      <td>96766</td>\n",
       "      <td>7.090300</td>\n",
       "    </tr>\n",
       "    <tr>\n",
       "      <th>(0.943, 1.36]</th>\n",
       "      <td>87946</td>\n",
       "      <td>8866</td>\n",
       "      <td>96812</td>\n",
       "      <td>9.157956</td>\n",
       "    </tr>\n",
       "    <tr>\n",
       "      <th>(1.36, 1.841]</th>\n",
       "      <td>86444</td>\n",
       "      <td>10376</td>\n",
       "      <td>96820</td>\n",
       "      <td>10.716794</td>\n",
       "    </tr>\n",
       "    <tr>\n",
       "      <th>(1.841, 2.388]</th>\n",
       "      <td>85039</td>\n",
       "      <td>11784</td>\n",
       "      <td>96823</td>\n",
       "      <td>12.170662</td>\n",
       "    </tr>\n",
       "    <tr>\n",
       "      <th>(2.388, 3.0118]</th>\n",
       "      <td>84125</td>\n",
       "      <td>12694</td>\n",
       "      <td>96819</td>\n",
       "      <td>13.111063</td>\n",
       "    </tr>\n",
       "    <tr>\n",
       "      <th>(3.0118, 3.723]</th>\n",
       "      <td>83415</td>\n",
       "      <td>13364</td>\n",
       "      <td>96779</td>\n",
       "      <td>13.808781</td>\n",
       "    </tr>\n",
       "    <tr>\n",
       "      <th>(3.723, 4.545]</th>\n",
       "      <td>83001</td>\n",
       "      <td>13819</td>\n",
       "      <td>96820</td>\n",
       "      <td>14.272878</td>\n",
       "    </tr>\n",
       "    <tr>\n",
       "      <th>(4.545, 5.498]</th>\n",
       "      <td>82440</td>\n",
       "      <td>14364</td>\n",
       "      <td>96804</td>\n",
       "      <td>14.838230</td>\n",
       "    </tr>\n",
       "    <tr>\n",
       "      <th>(5.498, 6.629]</th>\n",
       "      <td>82594</td>\n",
       "      <td>14231</td>\n",
       "      <td>96825</td>\n",
       "      <td>14.697650</td>\n",
       "    </tr>\n",
       "    <tr>\n",
       "      <th>(6.629, 8]</th>\n",
       "      <td>83309</td>\n",
       "      <td>14500</td>\n",
       "      <td>97809</td>\n",
       "      <td>14.824812</td>\n",
       "    </tr>\n",
       "    <tr>\n",
       "      <th>(8, 9.674]</th>\n",
       "      <td>81834</td>\n",
       "      <td>14017</td>\n",
       "      <td>95851</td>\n",
       "      <td>14.623739</td>\n",
       "    </tr>\n",
       "    <tr>\n",
       "      <th>(9.674, 11.81]</th>\n",
       "      <td>82570</td>\n",
       "      <td>14217</td>\n",
       "      <td>96787</td>\n",
       "      <td>14.688956</td>\n",
       "    </tr>\n",
       "    <tr>\n",
       "      <th>(11.81, 14.63]</th>\n",
       "      <td>82508</td>\n",
       "      <td>14271</td>\n",
       "      <td>96779</td>\n",
       "      <td>14.745968</td>\n",
       "    </tr>\n",
       "    <tr>\n",
       "      <th>(14.63, 18.642]</th>\n",
       "      <td>82802</td>\n",
       "      <td>14009</td>\n",
       "      <td>96811</td>\n",
       "      <td>14.470463</td>\n",
       "    </tr>\n",
       "    <tr>\n",
       "      <th>(18.642, 24.807]</th>\n",
       "      <td>82948</td>\n",
       "      <td>13863</td>\n",
       "      <td>96811</td>\n",
       "      <td>14.319654</td>\n",
       "    </tr>\n",
       "    <tr>\n",
       "      <th>(24.807, 36]</th>\n",
       "      <td>82861</td>\n",
       "      <td>13954</td>\n",
       "      <td>96815</td>\n",
       "      <td>14.413056</td>\n",
       "    </tr>\n",
       "    <tr>\n",
       "      <th>(36, 65.829]</th>\n",
       "      <td>81495</td>\n",
       "      <td>15312</td>\n",
       "      <td>96807</td>\n",
       "      <td>15.817038</td>\n",
       "    </tr>\n",
       "    <tr>\n",
       "      <th>(65.829, 75777.337]</th>\n",
       "      <td>72268</td>\n",
       "      <td>24542</td>\n",
       "      <td>96810</td>\n",
       "      <td>25.350687</td>\n",
       "    </tr>\n",
       "    <tr>\n",
       "      <th>All</th>\n",
       "      <td>1685412</td>\n",
       "      <td>250803</td>\n",
       "      <td>1936215</td>\n",
       "      <td>12.953262</td>\n",
       "    </tr>\n",
       "  </tbody>\n",
       "</table>\n",
       "</div>"
      ],
      "text/plain": [
       "flag_all_AI              0.0     1.0      All    Percent\n",
       "apn_bin3                                                \n",
       "[0.00478, 0.292]       95447    1425    96872   1.471013\n",
       "(0.292, 0.588]         92461    4334    96795   4.477504\n",
       "(0.588, 0.943]         89905    6861    96766   7.090300\n",
       "(0.943, 1.36]          87946    8866    96812   9.157956\n",
       "(1.36, 1.841]          86444   10376    96820  10.716794\n",
       "(1.841, 2.388]         85039   11784    96823  12.170662\n",
       "(2.388, 3.0118]        84125   12694    96819  13.111063\n",
       "(3.0118, 3.723]        83415   13364    96779  13.808781\n",
       "(3.723, 4.545]         83001   13819    96820  14.272878\n",
       "(4.545, 5.498]         82440   14364    96804  14.838230\n",
       "(5.498, 6.629]         82594   14231    96825  14.697650\n",
       "(6.629, 8]             83309   14500    97809  14.824812\n",
       "(8, 9.674]             81834   14017    95851  14.623739\n",
       "(9.674, 11.81]         82570   14217    96787  14.688956\n",
       "(11.81, 14.63]         82508   14271    96779  14.745968\n",
       "(14.63, 18.642]        82802   14009    96811  14.470463\n",
       "(18.642, 24.807]       82948   13863    96811  14.319654\n",
       "(24.807, 36]           82861   13954    96815  14.413056\n",
       "(36, 65.829]           81495   15312    96807  15.817038\n",
       "(65.829, 75777.337]    72268   24542    96810  25.350687\n",
       "All                  1685412  250803  1936215  12.953262"
      ]
     },
     "metadata": {},
     "output_type": "display_data"
    },
    {
     "name": "stdout",
     "output_type": "stream",
     "text": [
      "(38460.778611379239,\n",
      " 0.0,\n",
      " 19,\n",
      " array([[ 84323.91612708,  12548.08387292],\n",
      "       [ 84256.89013875,  12538.10986125],\n",
      "       [ 84231.6465847 ,  12534.3534153 ],\n",
      "       [ 84271.68808423,  12540.31191577],\n",
      "       [ 84278.65182327,  12541.34817673],\n",
      "       [ 84281.26322542,  12541.73677458],\n",
      "       [ 84277.78135589,  12541.21864411],\n",
      "       [ 84242.96266065,  12536.03733935],\n",
      "       [ 84278.65182327,  12541.34817673],\n",
      "       [ 84264.72434518,  12539.27565482],\n",
      "       [ 84283.00416018,  12541.99583982],\n",
      "       [ 85139.54406303,  12669.45593697],\n",
      "       [ 83435.16893114,  12415.83106886],\n",
      "       [ 84249.9263997 ,  12537.0736003 ],\n",
      "       [ 84242.96266065,  12536.03733935],\n",
      "       [ 84270.81761685,  12540.18238315],\n",
      "       [ 84270.81761685,  12540.18238315],\n",
      "       [ 84274.29948637,  12540.70051363],\n",
      "       [ 84267.33574732,  12539.66425268],\n",
      "       [ 84269.94714946,  12540.05285054]]))\n"
     ]
    }
   ],
   "source": [
    "df['apn_bin3'], bins = pd.qcut(df['mean_apn'], q=20, retbins=True)\n",
    "\n",
    "CT = pd.crosstab(df['apn_bin3'], df['flag_all_AI'], margins=True)\n",
    "CT['Percent'] = CT[1.0] / CT['All'] * 100\n",
    "display(CT)\n",
    "pprint(chi2_contingency(pd.crosstab(df['apn_bin3'], df['flag_all_AI'], margins=False)))"
   ]
  },
  {
   "cell_type": "code",
   "execution_count": null,
   "metadata": {
    "collapsed": true
   },
   "outputs": [],
   "source": []
  }
 ],
 "metadata": {
  "kernelspec": {
   "display_name": "Python 2",
   "language": "python",
   "name": "python2"
  },
  "language_info": {
   "codemirror_mode": {
    "name": "ipython",
    "version": 2
   },
   "file_extension": ".py",
   "mimetype": "text/x-python",
   "name": "python",
   "nbconvert_exporter": "python",
   "pygments_lexer": "ipython2",
   "version": "2.7.11"
  }
 },
 "nbformat": 4,
 "nbformat_minor": 0
}
