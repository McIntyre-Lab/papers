{
 "cells": [
  {
   "cell_type": "code",
   "execution_count": 1,
   "metadata": {
    "collapsed": false
   },
   "outputs": [],
   "source": [
    "import os\n",
    "import numpy as np\n",
    "import pandas as pd\n",
    "import matplotlib.pyplot as plt\n",
    "%matplotlib inline"
   ]
  },
  {
   "cell_type": "markdown",
   "metadata": {},
   "source": [
    "## Set up output"
   ]
  },
  {
   "cell_type": "code",
   "execution_count": 2,
   "metadata": {
    "collapsed": false
   },
   "outputs": [],
   "source": [
    "mclab = os.getenv('MCLAB')\n",
    "odir = os.path.join(mclab, 'cegs_ase_paper/pipeline_output/qsim_bayesian/')"
   ]
  },
  {
   "cell_type": "markdown",
   "metadata": {},
   "source": [
    "## Import data"
   ]
  },
  {
   "cell_type": "code",
   "execution_count": 3,
   "metadata": {
    "collapsed": false
   },
   "outputs": [
    {
     "data": {
      "text/html": [
       "<div style=\"max-height:1000px;max-width:1500px;overflow:auto;\">\n",
       "<table border=\"1\" class=\"dataframe\">\n",
       "  <thead>\n",
       "    <tr style=\"text-align: right;\">\n",
       "      <th></th>\n",
       "      <th>line</th>\n",
       "      <th>mating_status</th>\n",
       "      <th>fusion_id</th>\n",
       "      <th>qsim_mean_theta</th>\n",
       "      <th>qsim_q025</th>\n",
       "      <th>qsim_q975</th>\n",
       "      <th>Bayesianpvalue_qsim</th>\n",
       "      <th>flag_AI_qsim</th>\n",
       "    </tr>\n",
       "  </thead>\n",
       "  <tbody>\n",
       "    <tr>\n",
       "      <th>0</th>\n",
       "      <td>r324</td>\n",
       "      <td>V</td>\n",
       "      <td>S24441_SI</td>\n",
       "      <td>0.430</td>\n",
       "      <td>0.297</td>\n",
       "      <td>0.566</td>\n",
       "      <td>0.336</td>\n",
       "      <td>0</td>\n",
       "    </tr>\n",
       "    <tr>\n",
       "      <th>1</th>\n",
       "      <td>r324</td>\n",
       "      <td>M</td>\n",
       "      <td>S24447_SI</td>\n",
       "      <td>0.923</td>\n",
       "      <td>0.876</td>\n",
       "      <td>0.956</td>\n",
       "      <td>0.000</td>\n",
       "      <td>1</td>\n",
       "    </tr>\n",
       "    <tr>\n",
       "      <th>2</th>\n",
       "      <td>r324</td>\n",
       "      <td>V</td>\n",
       "      <td>S24447_SI</td>\n",
       "      <td>0.916</td>\n",
       "      <td>0.868</td>\n",
       "      <td>0.952</td>\n",
       "      <td>0.000</td>\n",
       "      <td>1</td>\n",
       "    </tr>\n",
       "  </tbody>\n",
       "</table>\n",
       "</div>"
      ],
      "text/plain": [
       "   line mating_status  fusion_id  qsim_mean_theta  qsim_q025  qsim_q975  \\\n",
       "0  r324             V  S24441_SI            0.430      0.297      0.566   \n",
       "1  r324             M  S24447_SI            0.923      0.876      0.956   \n",
       "2  r324             V  S24447_SI            0.916      0.868      0.952   \n",
       "\n",
       "   Bayesianpvalue_qsim  flag_AI_qsim  \n",
       "0                0.336             0  \n",
       "1                0.000             1  \n",
       "2                0.000             1  "
      ]
     },
     "execution_count": 3,
     "metadata": {},
     "output_type": "execute_result"
    }
   ],
   "source": [
    "fname = '/home/jfear/mclab/cegs_ase_paper/pipeline_output/qsim_bayesian/output/ase_dataset_for_bayesian_w_qsim_summary.csv'\n",
    "dat = pd.read_csv(fname)\n",
    "dat.head(3)"
   ]
  },
  {
   "cell_type": "markdown",
   "metadata": {},
   "source": [
    "## Generate Plots for Mated and Virgin"
   ]
  },
  {
   "cell_type": "code",
   "execution_count": 4,
   "metadata": {
    "collapsed": false
   },
   "outputs": [
    {
     "data": {
      "text/html": [
       "<div style=\"max-height:1000px;max-width:1500px;overflow:auto;\">\n",
       "<table border=\"1\" class=\"dataframe\">\n",
       "  <thead>\n",
       "    <tr style=\"text-align: right;\">\n",
       "      <th></th>\n",
       "      <th>line</th>\n",
       "      <th>qsim_mean_theta</th>\n",
       "    </tr>\n",
       "  </thead>\n",
       "  <tbody>\n",
       "    <tr>\n",
       "      <th>0</th>\n",
       "      <td>r324</td>\n",
       "      <td>0.43</td>\n",
       "    </tr>\n",
       "  </tbody>\n",
       "</table>\n",
       "</div>"
      ],
      "text/plain": [
       "   line  qsim_mean_theta\n",
       "0  r324             0.43"
      ]
     },
     "execution_count": 4,
     "metadata": {},
     "output_type": "execute_result"
    }
   ],
   "source": [
    "# Split dataset by sex\n",
    "mated = dat[dat['mating_status'] == 'M'][['line','qsim_mean_theta']]\n",
    "virgin = dat[dat['mating_status'] == 'V'][['line','qsim_mean_theta']]\n",
    "virgin.head(1)"
   ]
  },
  {
   "cell_type": "markdown",
   "metadata": {},
   "source": [
    "### Plot Mated"
   ]
  },
  {
   "cell_type": "code",
   "execution_count": 5,
   "metadata": {
    "collapsed": false
   },
   "outputs": [],
   "source": [
    "# Get group levels\n",
    "mLines = np.array([x for x in set(mated['line'])])\n",
    "mLines.sort()\n",
    "\n",
    "# Create a mask to split into multiple figures of 6x4 plots\n",
    "grp = np.concatenate([np.ones(16), np.ones(16)*2, np.ones(16)*3, np.ones(16)*4, np.ones(4)*5])\n",
    "\n",
    "# Iterate over multi figure groups and plot\n",
    "for g in range(1,6):\n",
    "    curr = mLines[grp == g]\n",
    "    \n",
    "    # Figure out the number of subplots I need\n",
    "    num = int(np.sqrt(curr.shape[0]))\n",
    "    \n",
    "    # Plot figure\n",
    "    fig, axes = plt.subplots(num, num, figsize=(8, 8))\n",
    "    fig.suptitle(u'Distribution of QSIM Thetas\\nMated', fontsize=12)\n",
    "    axs = np.ravel(axes)\n",
    "    for i, line in enumerate(curr):\n",
    "        p = mated[mated['line'] == line]\n",
    "        p.plot(kind='kde', ax=axs[i], fontsize=8, title=line, legend=False, color = 'r')\n",
    "        #axs[i].set_xlabel('Line <------> Tester', fontsize=12)\n",
    "        axs[i].axvline(0.5, lw=1, c='k')\n",
    "        axs[i].get_yaxis().set_visible(False)\n",
    "    \n",
    "    fig.text(0.5, 0.04, 'Line <------------> Tester', ha='center', fontsize=20)\n",
    "    plt.savefig(os.path.join(odir, 'mated_dist_qsim_theta_g{0}.png'.format(str(g))), bbox_inches='tight')\n",
    "    plt.close(fig)"
   ]
  },
  {
   "cell_type": "markdown",
   "metadata": {},
   "source": [
    "### Plot Virgin"
   ]
  },
  {
   "cell_type": "code",
   "execution_count": 6,
   "metadata": {
    "collapsed": false
   },
   "outputs": [],
   "source": [
    "# Get group levels\n",
    "vLines = np.array([x for x in set(virgin['line'])])\n",
    "vLines.sort()\n",
    "                   \n",
    "# Create a mask to split into multiple figures of 6x4 plots\n",
    "grp = np.concatenate([np.ones(16), np.ones(16)*2, np.ones(16)*3, np.ones(16)*4, np.ones(4)*5])\n",
    "\n",
    "# Iterate over multi figure groups and plot\n",
    "for g in range(1,6):\n",
    "    curr = vLines[grp == g]\n",
    "    \n",
    "    # Figure out the number of subplots I need\n",
    "    num = int(np.sqrt(curr.shape[0]))\n",
    "    \n",
    "    # Plot figure\n",
    "    fig, axes = plt.subplots(num, num, figsize=(8,8))\n",
    "    fig.suptitle(u'Distribution of QSIM Thetas\\nVirgin', fontsize=12)\n",
    "\n",
    "    axs = np.ravel(axes)\n",
    "    for i, line in enumerate(curr):\n",
    "        p = virgin[virgin['line'] == line]\n",
    "        p.plot(kind='kde', ax=axs[i], fontsize=8, title=line, legend=False, color = 'r')\n",
    "        #axs[i].set_xlabel('Line <--- AB ---> Tester', fontsize=12)\n",
    "        axs[i].axvline(0.5, lw=1, c='k')\n",
    "        axs[i].get_yaxis().set_visible(False)\n",
    "        \n",
    "    fig.text(0.5, 0.04, 'Line <------------> Tester', ha='center', fontsize=20)\n",
    "    plt.savefig(os.path.join(odir, 'virgin_dist_qsim_theta_g{0}.png'.format(str(g))), bbox_inches='tight')\n",
    "    plt.close(fig)"
   ]
  },
  {
   "cell_type": "code",
   "execution_count": null,
   "metadata": {
    "collapsed": true
   },
   "outputs": [],
   "source": []
  }
 ],
 "metadata": {
  "kernelspec": {
   "display_name": "Python 2",
   "language": "python",
   "name": "python2"
  },
  "language_info": {
   "codemirror_mode": {
    "name": "ipython",
    "version": 2
   },
   "file_extension": ".py",
   "mimetype": "text/x-python",
   "name": "python",
   "nbconvert_exporter": "python",
   "pygments_lexer": "ipython2",
   "version": "2.7.6"
  }
 },
 "nbformat": 4,
 "nbformat_minor": 0
}
