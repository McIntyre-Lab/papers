{
 "cells": [
  {
   "cell_type": "code",
   "execution_count": 2,
   "metadata": {
    "collapsed": true
   },
   "outputs": [],
   "source": [
    "import os\n",
    "import numpy as np\n",
    "import pandas as pd\n",
    "import matplotlib.pyplot as plt\n",
    "import mclib.vcf2 as mcvcf\n",
    "%matplotlib inline"
   ]
  },
  {
   "cell_type": "code",
   "execution_count": 1,
   "metadata": {
    "collapsed": true
   },
   "outputs": [],
   "source": [
    "%qtconsole"
   ]
  },
  {
   "cell_type": "code",
   "execution_count": 3,
   "metadata": {
    "collapsed": true
   },
   "outputs": [],
   "source": [
    "mclab = os.getenv('MCLAB')\n",
    "sandbox = '/home/jfear/sandbox/cegs_ase_paper/ase_lvl2_filtered_vcf_files'"
   ]
  },
  {
   "cell_type": "markdown",
   "metadata": {},
   "source": [
    "## Read in QSIM Table"
   ]
  },
  {
   "cell_type": "code",
   "execution_count": 4,
   "metadata": {
    "collapsed": false
   },
   "outputs": [
    {
     "data": {
      "text/html": [
       "<div style=\"max-height:1000px;max-width:1500px;overflow:auto;\">\n",
       "<table border=\"1\" class=\"dataframe\">\n",
       "  <thead>\n",
       "    <tr style=\"text-align: right;\">\n",
       "      <th></th>\n",
       "      <th>r101</th>\n",
       "      <th>r109</th>\n",
       "      <th>r136</th>\n",
       "      <th>r149</th>\n",
       "      <th>r181</th>\n",
       "      <th>r208</th>\n",
       "      <th>r21</th>\n",
       "      <th>r217</th>\n",
       "      <th>r228</th>\n",
       "      <th>r280</th>\n",
       "      <th>...</th>\n",
       "      <th>w47</th>\n",
       "      <th>w52</th>\n",
       "      <th>w55</th>\n",
       "      <th>w59</th>\n",
       "      <th>w64</th>\n",
       "      <th>w67</th>\n",
       "      <th>w68</th>\n",
       "      <th>w74</th>\n",
       "      <th>w76</th>\n",
       "      <th>w79</th>\n",
       "    </tr>\n",
       "    <tr>\n",
       "      <th>fusion_id</th>\n",
       "      <th></th>\n",
       "      <th></th>\n",
       "      <th></th>\n",
       "      <th></th>\n",
       "      <th></th>\n",
       "      <th></th>\n",
       "      <th></th>\n",
       "      <th></th>\n",
       "      <th></th>\n",
       "      <th></th>\n",
       "      <th></th>\n",
       "      <th></th>\n",
       "      <th></th>\n",
       "      <th></th>\n",
       "      <th></th>\n",
       "      <th></th>\n",
       "      <th></th>\n",
       "      <th></th>\n",
       "      <th></th>\n",
       "      <th></th>\n",
       "      <th></th>\n",
       "    </tr>\n",
       "  </thead>\n",
       "  <tbody>\n",
       "    <tr>\n",
       "      <th>F10001_SI</th>\n",
       "      <td>0.5</td>\n",
       "      <td>0.5</td>\n",
       "      <td>0.5</td>\n",
       "      <td>0.5</td>\n",
       "      <td>0.5</td>\n",
       "      <td>0.5</td>\n",
       "      <td>0.5</td>\n",
       "      <td>0.5</td>\n",
       "      <td>0.500000</td>\n",
       "      <td>0.5</td>\n",
       "      <td>...</td>\n",
       "      <td>0.5</td>\n",
       "      <td>0.5</td>\n",
       "      <td>0.5</td>\n",
       "      <td>0.5</td>\n",
       "      <td>0.5</td>\n",
       "      <td>0.5</td>\n",
       "      <td>0.5</td>\n",
       "      <td>0.5</td>\n",
       "      <td>0.5</td>\n",
       "      <td>0.5</td>\n",
       "    </tr>\n",
       "    <tr>\n",
       "      <th>F10005_SI</th>\n",
       "      <td>0.5</td>\n",
       "      <td>0.5</td>\n",
       "      <td>0.5</td>\n",
       "      <td>0.5</td>\n",
       "      <td>0.5</td>\n",
       "      <td>0.5</td>\n",
       "      <td>0.5</td>\n",
       "      <td>0.5</td>\n",
       "      <td>0.516484</td>\n",
       "      <td>0.5</td>\n",
       "      <td>...</td>\n",
       "      <td>0.5</td>\n",
       "      <td>0.5</td>\n",
       "      <td>0.5</td>\n",
       "      <td>0.5</td>\n",
       "      <td>0.5</td>\n",
       "      <td>0.5</td>\n",
       "      <td>0.5</td>\n",
       "      <td>0.5</td>\n",
       "      <td>0.5</td>\n",
       "      <td>0.5</td>\n",
       "    </tr>\n",
       "  </tbody>\n",
       "</table>\n",
       "<p>2 rows × 68 columns</p>\n",
       "</div>"
      ],
      "text/plain": [
       "           r101  r109  r136  r149  r181  r208  r21  r217      r228  r280 ...   \\\n",
       "fusion_id                                                                ...    \n",
       "F10001_SI   0.5   0.5   0.5   0.5   0.5   0.5  0.5   0.5  0.500000   0.5 ...    \n",
       "F10005_SI   0.5   0.5   0.5   0.5   0.5   0.5  0.5   0.5  0.516484   0.5 ...    \n",
       "\n",
       "           w47  w52  w55  w59  w64  w67  w68  w74  w76  w79  \n",
       "fusion_id                                                    \n",
       "F10001_SI  0.5  0.5  0.5  0.5  0.5  0.5  0.5  0.5  0.5  0.5  \n",
       "F10005_SI  0.5  0.5  0.5  0.5  0.5  0.5  0.5  0.5  0.5  0.5  \n",
       "\n",
       "[2 rows x 68 columns]"
      ]
     },
     "execution_count": 4,
     "metadata": {},
     "output_type": "execute_result"
    }
   ],
   "source": [
    "fname = os.path.join(mclab, 'cegs_ase_paper/pipeline_output/qsim_bayesian/qsim_bias_wide.csv')\n",
    "dat = pd.read_csv(fname, index_col='fusion_id')\n",
    "\n",
    "# Pull only line columns from dat and make qsim\n",
    "qsim = dat.ix[:,1:-1]\n",
    "qsim.convert_objects(convert_numeric=True)\n",
    "qsim.head(2)"
   ]
  },
  {
   "cell_type": "markdown",
   "metadata": {},
   "source": [
    "## Read in polymorphism counts\n",
    "This table can be created by running /mclab/cegs_ase_paper/scripts/count_polymorphisms.py"
   ]
  },
  {
   "cell_type": "code",
   "execution_count": 12,
   "metadata": {
    "collapsed": false
   },
   "outputs": [
    {
     "data": {
      "text/html": [
       "<div style=\"max-height:1000px;max-width:1500px;overflow:auto;\">\n",
       "<table border=\"1\" class=\"dataframe\">\n",
       "  <thead>\n",
       "    <tr style=\"text-align: right;\">\n",
       "      <th></th>\n",
       "      <th>masked</th>\n",
       "      <th>snps</th>\n",
       "      <th>indels</th>\n",
       "      <th>poly</th>\n",
       "      <th>total</th>\n",
       "    </tr>\n",
       "    <tr>\n",
       "      <th>line</th>\n",
       "      <th></th>\n",
       "      <th></th>\n",
       "      <th></th>\n",
       "      <th></th>\n",
       "      <th></th>\n",
       "    </tr>\n",
       "  </thead>\n",
       "  <tbody>\n",
       "    <tr>\n",
       "      <th>r101</th>\n",
       "      <td>83</td>\n",
       "      <td>157238</td>\n",
       "      <td>11123</td>\n",
       "      <td>168361</td>\n",
       "      <td>168444</td>\n",
       "    </tr>\n",
       "    <tr>\n",
       "      <th>r109</th>\n",
       "      <td>62</td>\n",
       "      <td>142774</td>\n",
       "      <td>9057</td>\n",
       "      <td>151831</td>\n",
       "      <td>151893</td>\n",
       "    </tr>\n",
       "  </tbody>\n",
       "</table>\n",
       "</div>"
      ],
      "text/plain": [
       "      masked    snps  indels    poly   total\n",
       "line                                        \n",
       "r101      83  157238   11123  168361  168444\n",
       "r109      62  142774    9057  151831  151893"
      ]
     },
     "execution_count": 12,
     "metadata": {},
     "output_type": "execute_result"
    }
   ],
   "source": [
    "rname = os.path.join(mclab, 'cegs_ase_paper/pipeline_output/polymorphisms_counts.csv')\n",
    "results = pd.read_csv(rname, index_col='line')\n",
    "results.head(2)"
   ]
  },
  {
   "cell_type": "markdown",
   "metadata": {},
   "source": [
    "## Iterate over lines and fill in results table with counts\n",
    "\n",
    "Here I count the number of locations that are permanently masked due to overlapping polymorphisms. I also count the number of SNPs and INDELs."
   ]
  },
  {
   "cell_type": "code",
   "execution_count": 13,
   "metadata": {
    "collapsed": true
   },
   "outputs": [],
   "source": [
    "# Create a blank bias column for filling in\n",
    "results['bias'] = pd.Series()"
   ]
  },
  {
   "cell_type": "code",
   "execution_count": 16,
   "metadata": {
    "collapsed": false
   },
   "outputs": [
    {
     "data": {
      "text/html": [
       "<div style=\"max-height:1000px;max-width:1500px;overflow:auto;\">\n",
       "<table border=\"1\" class=\"dataframe\">\n",
       "  <thead>\n",
       "    <tr style=\"text-align: right;\">\n",
       "      <th></th>\n",
       "      <th>masked</th>\n",
       "      <th>snps</th>\n",
       "      <th>indels</th>\n",
       "      <th>poly</th>\n",
       "      <th>total</th>\n",
       "      <th>bias</th>\n",
       "    </tr>\n",
       "    <tr>\n",
       "      <th>line</th>\n",
       "      <th></th>\n",
       "      <th></th>\n",
       "      <th></th>\n",
       "      <th></th>\n",
       "      <th></th>\n",
       "      <th></th>\n",
       "    </tr>\n",
       "  </thead>\n",
       "  <tbody>\n",
       "    <tr>\n",
       "      <th>r101</th>\n",
       "      <td>83</td>\n",
       "      <td>157238</td>\n",
       "      <td>11123</td>\n",
       "      <td>168361</td>\n",
       "      <td>168444</td>\n",
       "      <td>868</td>\n",
       "    </tr>\n",
       "    <tr>\n",
       "      <th>r109</th>\n",
       "      <td>62</td>\n",
       "      <td>142774</td>\n",
       "      <td>9057</td>\n",
       "      <td>151831</td>\n",
       "      <td>151893</td>\n",
       "      <td>809</td>\n",
       "    </tr>\n",
       "    <tr>\n",
       "      <th>r136</th>\n",
       "      <td>66</td>\n",
       "      <td>147541</td>\n",
       "      <td>10250</td>\n",
       "      <td>157791</td>\n",
       "      <td>157857</td>\n",
       "      <td>789</td>\n",
       "    </tr>\n",
       "  </tbody>\n",
       "</table>\n",
       "</div>"
      ],
      "text/plain": [
       "      masked    snps  indels    poly   total  bias\n",
       "line                                              \n",
       "r101      83  157238   11123  168361  168444   868\n",
       "r109      62  142774    9057  151831  151893   809\n",
       "r136      66  147541   10250  157791  157857   789"
      ]
     },
     "execution_count": 16,
     "metadata": {},
     "output_type": "execute_result"
    }
   ],
   "source": [
    "for line in results.index:\n",
    "    cnts = qsim[line].value_counts()\n",
    "    results.ix[line, 'bias'] = cnts[cnts.index != 0.5].sum()\n",
    "results.head(3)"
   ]
  },
  {
   "cell_type": "code",
   "execution_count": 61,
   "metadata": {
    "collapsed": false
   },
   "outputs": [
    {
     "data": {
      "text/html": [
       "<div style=\"max-height:1000px;max-width:1500px;overflow:auto;\">\n",
       "<table border=\"1\" class=\"dataframe\">\n",
       "  <thead>\n",
       "    <tr style=\"text-align: right;\">\n",
       "      <th></th>\n",
       "      <th>masked</th>\n",
       "      <th>snps</th>\n",
       "      <th>indels</th>\n",
       "      <th>poly</th>\n",
       "      <th>total</th>\n",
       "      <th>bias</th>\n",
       "    </tr>\n",
       "  </thead>\n",
       "  <tbody>\n",
       "    <tr>\n",
       "      <th>min</th>\n",
       "      <td>18</td>\n",
       "      <td>44468</td>\n",
       "      <td>941</td>\n",
       "      <td>45409</td>\n",
       "      <td>45428</td>\n",
       "      <td>573</td>\n",
       "    </tr>\n",
       "    <tr>\n",
       "      <th>mean</th>\n",
       "      <td>76</td>\n",
       "      <td>160218</td>\n",
       "      <td>11295</td>\n",
       "      <td>171514</td>\n",
       "      <td>171590</td>\n",
       "      <td>891</td>\n",
       "    </tr>\n",
       "    <tr>\n",
       "      <th>max</th>\n",
       "      <td>119</td>\n",
       "      <td>198418</td>\n",
       "      <td>17545</td>\n",
       "      <td>214889</td>\n",
       "      <td>214996</td>\n",
       "      <td>1163</td>\n",
       "    </tr>\n",
       "    <tr>\n",
       "      <th>median</th>\n",
       "      <td>76</td>\n",
       "      <td>160218</td>\n",
       "      <td>11295</td>\n",
       "      <td>171514</td>\n",
       "      <td>171590</td>\n",
       "      <td>891</td>\n",
       "    </tr>\n",
       "  </tbody>\n",
       "</table>\n",
       "</div>"
      ],
      "text/plain": [
       "        masked    snps  indels    poly   total  bias\n",
       "min         18   44468     941   45409   45428   573\n",
       "mean        76  160218   11295  171514  171590   891\n",
       "max        119  198418   17545  214889  214996  1163\n",
       "median      76  160218   11295  171514  171590   891"
      ]
     },
     "execution_count": 61,
     "metadata": {},
     "output_type": "execute_result"
    }
   ],
   "source": [
    "summary = results.describe().ix[['min', 'mean', 'max']]\n",
    "summary.convert_objects(convert_numeric=True)\n",
    "summary.ix['median', 'masked'] = summary.masked.median()\n",
    "summary.ix['median', 'snps'] = summary.snps.median()\n",
    "summary.ix['median', 'indels'] = summary.indels.median()\n",
    "summary.ix['median', 'poly'] = summary.poly.median()\n",
    "summary.ix['median', 'total'] = summary.total.median()\n",
    "summary.ix['median', 'bias'] = summary.bias.median()\n",
    "summary.apply(np.round)"
   ]
  },
  {
   "cell_type": "markdown",
   "metadata": {},
   "source": [
    "## Plot Number Polymorphisms vs Bias"
   ]
  },
  {
   "cell_type": "code",
   "execution_count": 22,
   "metadata": {
    "collapsed": false
   },
   "outputs": [
    {
     "data": {
      "image/png": "[encoded data removed]",
      "text/plain": [
       "<matplotlib.figure.Figure at 0x7f6b32685410>"
      ]
     },
     "metadata": {},
     "output_type": "display_data"
    }
   ],
   "source": [
    "fig, (ax1, ax2, ax3) = plt.subplots(3, 1, figsize=(8,8), dpi=100, sharex=True)\n",
    "fig.subplots_adjust(hspace=0.4)\n",
    "results.plot('bias', 'poly', kind='scatter', ax=ax1, fontsize=12)\n",
    "results.plot('bias', 'snps', kind='scatter', ax=ax2, fontsize=12)\n",
    "results.plot('bias', 'indels', kind='scatter', ax=ax3, fontsize=12)\n",
    "ax3.set_xlabel('Number of Biased Exonic Regions', fontsize=12)\n",
    "fig.suptitle(u'Number of Polymorphisms vs Biased Exonic Regions\\nQSIM', fontsize=18, fontweight='medium')\n",
    "ax1.text(-0.2, 1.1, 'A', transform=ax1.transAxes, fontsize=20, fontweight='bold')\n",
    "ax2.text(-0.2, 1.1, 'B', transform=ax2.transAxes, fontsize=20, fontweight='bold')\n",
    "ax3.text(-0.2, 1.1, 'C', transform=ax3.transAxes, fontsize=20, fontweight='bold')\n",
    "\n",
    "plt.savefig(os.path.join(mclab, 'cegs_ase_paper/pipeline_output/qsim_bayesian/num_poly_vs_bias.png'), bbox_inches='tight')"
   ]
  },
  {
   "cell_type": "code",
   "execution_count": null,
   "metadata": {
    "collapsed": true
   },
   "outputs": [],
   "source": []
  }
 ],
 "metadata": {
  "kernelspec": {
   "display_name": "Python 2",
   "language": "python",
   "name": "python2"
  },
  "language_info": {
   "codemirror_mode": {
    "name": "ipython",
    "version": 2
   },
   "file_extension": ".py",
   "mimetype": "text/x-python",
   "name": "python",
   "nbconvert_exporter": "python",
   "pygments_lexer": "ipython2",
   "version": "2.7.6"
  }
 },
 "nbformat": 4,
 "nbformat_minor": 0
}
