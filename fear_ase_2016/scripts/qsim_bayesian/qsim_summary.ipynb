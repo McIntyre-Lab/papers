{
 "cells": [
  {
   "cell_type": "markdown",
   "metadata": {},
   "source": [
    "# qSIM Summary"
   ]
  },
  {
   "cell_type": "code",
   "execution_count": 1,
   "metadata": {
    "collapsed": false
   },
   "outputs": [
    {
     "name": "stdout",
     "output_type": "stream",
     "text": [
      "Importing commonly used libraries: os, sys, numpy as np, scipy as sp, pandas as pd, matplotlib as mp, matplotlib.pyplot as plt, datetime as dt, mclib_Python/flagging as fg\n",
      "Creating project level variables: MCLAB = /home/jfear/mclab, PROJ = /home/jfear/mclab/cegs_ase_paper, TODAY = 20150831\n",
      "Adding ['scripts/mclib_Python', 'scripts/ase_Python'] to PYTHONPATH\n"
     ]
    }
   ],
   "source": [
    "%run '../ipython_startup.py'"
   ]
  },
  {
   "cell_type": "code",
   "execution_count": 2,
   "metadata": {
    "collapsed": true
   },
   "outputs": [],
   "source": [
    "import cPickle as pickle\n",
    "import sas7bdat"
   ]
  },
  {
   "cell_type": "code",
   "execution_count": 3,
   "metadata": {
    "collapsed": false
   },
   "outputs": [
    {
     "name": "stderr",
     "output_type": "stream",
     "text": [
      "\u001b[33m[ase_qsim_tester.sas7bdat] header length 65536 != 8192\u001b[0m\n",
      "WARNING:../../sas_data/ase_qsim_tester.sas7bdat:\u001b[33m[ase_qsim_tester.sas7bdat] header length 65536 != 8192\u001b[0m\n"
     ]
    },
    {
     "data": {
      "text/html": [
       "<div style=\"max-height:1000px;max-width:1500px;overflow:auto;\">\n",
       "<table border=\"1\" class=\"dataframe\">\n",
       "  <thead>\n",
       "    <tr style=\"text-align: right;\">\n",
       "      <th>line</th>\n",
       "      <th>r101</th>\n",
       "      <th>r109</th>\n",
       "      <th>r136</th>\n",
       "      <th>r149</th>\n",
       "      <th>r181</th>\n",
       "      <th>r208</th>\n",
       "      <th>r21</th>\n",
       "      <th>r217</th>\n",
       "      <th>r228</th>\n",
       "      <th>r280</th>\n",
       "      <th>...</th>\n",
       "      <th>w47</th>\n",
       "      <th>w52</th>\n",
       "      <th>w55</th>\n",
       "      <th>w59</th>\n",
       "      <th>w64</th>\n",
       "      <th>w67</th>\n",
       "      <th>w68</th>\n",
       "      <th>w74</th>\n",
       "      <th>w76</th>\n",
       "      <th>w79</th>\n",
       "    </tr>\n",
       "    <tr>\n",
       "      <th>fusion_id</th>\n",
       "      <th></th>\n",
       "      <th></th>\n",
       "      <th></th>\n",
       "      <th></th>\n",
       "      <th></th>\n",
       "      <th></th>\n",
       "      <th></th>\n",
       "      <th></th>\n",
       "      <th></th>\n",
       "      <th></th>\n",
       "      <th></th>\n",
       "      <th></th>\n",
       "      <th></th>\n",
       "      <th></th>\n",
       "      <th></th>\n",
       "      <th></th>\n",
       "      <th></th>\n",
       "      <th></th>\n",
       "      <th></th>\n",
       "      <th></th>\n",
       "      <th></th>\n",
       "    </tr>\n",
       "  </thead>\n",
       "  <tbody>\n",
       "    <tr>\n",
       "      <th>F10001_SI</th>\n",
       "      <td>0</td>\n",
       "      <td>0</td>\n",
       "      <td>0</td>\n",
       "      <td>0</td>\n",
       "      <td>0</td>\n",
       "      <td>0</td>\n",
       "      <td>0</td>\n",
       "      <td>0</td>\n",
       "      <td>0</td>\n",
       "      <td>0</td>\n",
       "      <td>...</td>\n",
       "      <td>0</td>\n",
       "      <td>0</td>\n",
       "      <td>0</td>\n",
       "      <td>0</td>\n",
       "      <td>0</td>\n",
       "      <td>0</td>\n",
       "      <td>0</td>\n",
       "      <td>0</td>\n",
       "      <td>0</td>\n",
       "      <td>0</td>\n",
       "    </tr>\n",
       "    <tr>\n",
       "      <th>F10005_SI</th>\n",
       "      <td>0</td>\n",
       "      <td>0</td>\n",
       "      <td>0</td>\n",
       "      <td>0</td>\n",
       "      <td>0</td>\n",
       "      <td>0</td>\n",
       "      <td>0</td>\n",
       "      <td>0</td>\n",
       "      <td>-1</td>\n",
       "      <td>0</td>\n",
       "      <td>...</td>\n",
       "      <td>0</td>\n",
       "      <td>0</td>\n",
       "      <td>0</td>\n",
       "      <td>0</td>\n",
       "      <td>0</td>\n",
       "      <td>0</td>\n",
       "      <td>0</td>\n",
       "      <td>0</td>\n",
       "      <td>0</td>\n",
       "      <td>0</td>\n",
       "    </tr>\n",
       "    <tr>\n",
       "      <th>F10009_SI</th>\n",
       "      <td>-1</td>\n",
       "      <td>-1</td>\n",
       "      <td>-1</td>\n",
       "      <td>-1</td>\n",
       "      <td>-1</td>\n",
       "      <td>0</td>\n",
       "      <td>-1</td>\n",
       "      <td>0</td>\n",
       "      <td>-1</td>\n",
       "      <td>0</td>\n",
       "      <td>...</td>\n",
       "      <td>-1</td>\n",
       "      <td>-1</td>\n",
       "      <td>-1</td>\n",
       "      <td>-1</td>\n",
       "      <td>-1</td>\n",
       "      <td>-1</td>\n",
       "      <td>-1</td>\n",
       "      <td>-1</td>\n",
       "      <td>-1</td>\n",
       "      <td>-1</td>\n",
       "    </tr>\n",
       "    <tr>\n",
       "      <th>F10012_SI</th>\n",
       "      <td>0</td>\n",
       "      <td>0</td>\n",
       "      <td>0</td>\n",
       "      <td>0</td>\n",
       "      <td>0</td>\n",
       "      <td>0</td>\n",
       "      <td>0</td>\n",
       "      <td>0</td>\n",
       "      <td>0</td>\n",
       "      <td>0</td>\n",
       "      <td>...</td>\n",
       "      <td>0</td>\n",
       "      <td>0</td>\n",
       "      <td>0</td>\n",
       "      <td>0</td>\n",
       "      <td>0</td>\n",
       "      <td>0</td>\n",
       "      <td>0</td>\n",
       "      <td>0</td>\n",
       "      <td>0</td>\n",
       "      <td>0</td>\n",
       "    </tr>\n",
       "    <tr>\n",
       "      <th>F10014_SI</th>\n",
       "      <td>0</td>\n",
       "      <td>0</td>\n",
       "      <td>0</td>\n",
       "      <td>0</td>\n",
       "      <td>0</td>\n",
       "      <td>0</td>\n",
       "      <td>0</td>\n",
       "      <td>0</td>\n",
       "      <td>0</td>\n",
       "      <td>0</td>\n",
       "      <td>...</td>\n",
       "      <td>0</td>\n",
       "      <td>0</td>\n",
       "      <td>0</td>\n",
       "      <td>0</td>\n",
       "      <td>0</td>\n",
       "      <td>0</td>\n",
       "      <td>0</td>\n",
       "      <td>0</td>\n",
       "      <td>0</td>\n",
       "      <td>0</td>\n",
       "    </tr>\n",
       "  </tbody>\n",
       "</table>\n",
       "<p>5 rows × 68 columns</p>\n",
       "</div>"
      ],
      "text/plain": [
       "line       r101  r109  r136  r149  r181  r208  r21  r217  r228  r280 ...   \\\n",
       "fusion_id                                                            ...    \n",
       "F10001_SI     0     0     0     0     0     0    0     0     0     0 ...    \n",
       "F10005_SI     0     0     0     0     0     0    0     0    -1     0 ...    \n",
       "F10009_SI    -1    -1    -1    -1    -1     0   -1     0    -1     0 ...    \n",
       "F10012_SI     0     0     0     0     0     0    0     0     0     0 ...    \n",
       "F10014_SI     0     0     0     0     0     0    0     0     0     0 ...    \n",
       "\n",
       "line       w47  w52  w55  w59  w64  w67  w68  w74  w76  w79  \n",
       "fusion_id                                                    \n",
       "F10001_SI    0    0    0    0    0    0    0    0    0    0  \n",
       "F10005_SI    0    0    0    0    0    0    0    0    0    0  \n",
       "F10009_SI   -1   -1   -1   -1   -1   -1   -1   -1   -1   -1  \n",
       "F10012_SI    0    0    0    0    0    0    0    0    0    0  \n",
       "F10014_SI    0    0    0    0    0    0    0    0    0    0  \n",
       "\n",
       "[5 rows x 68 columns]"
      ]
     },
     "execution_count": 3,
     "metadata": {},
     "output_type": "execute_result"
    }
   ],
   "source": [
    "# Import qSIM\n",
    "fname = '../../sas_data/ase_qsim_tester.sas7bdat'\n",
    "with sas7bdat.SAS7BDAT(fname) as FH:\n",
    "    df = FH.to_data_frame()\n",
    "\n",
    "# Create flag\n",
    "## 0: qsim == 0.5\n",
    "df['flag_qsim'] = int(0)\n",
    "\n",
    "## -1: qsim < 0.5\n",
    "df.loc[(df['qsim_tester'] < 0.5), 'flag_qsim'] = int(-1)\n",
    "\n",
    "## 1: qsim > 0.5\n",
    "df.loc[(df['qsim_tester'] > 0.5), 'flag_qsim'] = int(1)\n",
    "\n",
    "# Pivot to wide\n",
    "dfT = df.pivot_table(values='flag_qsim', columns='line', index='fusion_id')\n",
    "dfT.head()"
   ]
  },
  {
   "cell_type": "markdown",
   "metadata": {},
   "source": [
    "## Drop ambiguous fusion_ids\n",
    "\n",
    "Drop fusion_ids that were always ambiguous in the 100 genome simulation."
   ]
  },
  {
   "cell_type": "code",
   "execution_count": 4,
   "metadata": {
    "collapsed": false
   },
   "outputs": [],
   "source": [
    "# Import drop list from 100 genome simulation\n",
    "toDrop = pickle.load(open(os.path.join(PROJ, 'pipeline_output/100_genome_simulation/exonic_region_drop_list.pkl'), 'rb'))\n",
    "\n",
    "# Drop exonic regions that are always bias in 100 genome sim\n",
    "dfTFilter = dfT.drop(toDrop)"
   ]
  },
  {
   "cell_type": "code",
   "execution_count": 5,
   "metadata": {
    "collapsed": false
   },
   "outputs": [
    {
     "data": {
      "image/png": "[encoded data removed]",
      "text/plain": [
       "<matplotlib.figure.Figure at 0x7f530367ab10>"
      ]
     },
     "metadata": {},
     "output_type": "display_data"
    }
   ],
   "source": [
    "# Plot heatmap\n",
    "fig = plt.figure(figsize=(8, 8))\n",
    "plt.imshow(dfTFilter, aspect='auto', cmap=plt.cm.Spectral)\n",
    "plt.xlabel('lines')\n",
    "plt.ylabel('Exonic Regions')\n",
    "plt.title(u'Exonic regions that showed bias in qSIM.\\nBias towards Tester (=1) and Bias towards Line (=-1)')\n",
    "plt.colorbar()\n",
    "plt.tight_layout()\n",
    "plt.savefig('../../pipeline_output/qsim_bayesian/heatmap_genome_ambiguity_fb551_qsim.png')"
   ]
  },
  {
   "cell_type": "code",
   "execution_count": 6,
   "metadata": {
    "collapsed": false
   },
   "outputs": [
    {
     "name": "stdout",
     "output_type": "stream",
     "text": [
      "flag_exons_no_bias_qsim         53923\n",
      "flag_exons_w_bias_qsim           8451\n",
      "flag_exons_bias_in_half_qsim      252\n",
      "flag_exons_bias_in_all_qsim         0\n",
      "dtype: int64\n",
      "Number of exonic regions: 62374\n"
     ]
    }
   ],
   "source": [
    "# Summarize exonic region bias across lines\n",
    "numLineBias = dfTFilter.apply(lambda x: sum(abs(x)), axis=1)\n",
    "numLine = dfTFilter.count(axis=1)\n",
    "\n",
    "# Create flags DataFrame\n",
    "flags = fg.FlagsDataFrame(index=dfTFilter.index)\n",
    "\n",
    "# Flag exonic regions with no bias\n",
    "flags.addColumn('flag_exons_no_bias_qsim', (numLineBias == 0))\n",
    "\n",
    "# Flag exonic regions with any bias\n",
    "flags.addColumn('flag_exons_w_bias_qsim', (numLineBias > 0))\n",
    "\n",
    "# Flag exonic regions with bias in 50% lines\n",
    "flags.addColumn('flag_exons_bias_in_half_qsim', (numLineBias >= 50))\n",
    "\n",
    "# Flag exonic regions with bias in all 100 lines\n",
    "flags.addColumn('flag_exons_bias_in_all_qsim', (numLineBias == 100))\n",
    "\n",
    "# Output counts\n",
    "print(flags.sum())\n",
    "\n",
    "# Output total number of exonic regions\n",
    "print('Number of exonic regions: {}'.format(flags.shape[0]))"
   ]
  },
  {
   "cell_type": "code",
   "execution_count": 7,
   "metadata": {
    "collapsed": true
   },
   "outputs": [],
   "source": [
    "# Export to excel table to publication\n",
    "flagsI = flags.reset_index()\n",
    "flagsI.to_excel('../../pipeline_output/qsim_bayesian/flag_exonic_region_w_and_wo_bias_qsim.xls', index=None)"
   ]
  },
  {
   "cell_type": "code",
   "execution_count": 8,
   "metadata": {
    "collapsed": false
   },
   "outputs": [
    {
     "data": {
      "text/plain": [
       "4634"
      ]
     },
     "execution_count": 8,
     "metadata": {},
     "output_type": "execute_result"
    }
   ],
   "source": [
    "# Number of exonic regions biased towards tester in at least 1 genotype\n",
    "((dfTFilter == 1).sum(axis=1) > 0).sum()"
   ]
  },
  {
   "cell_type": "code",
   "execution_count": 9,
   "metadata": {
    "collapsed": false
   },
   "outputs": [
    {
     "data": {
      "text/plain": [
       "5709"
      ]
     },
     "execution_count": 9,
     "metadata": {},
     "output_type": "execute_result"
    }
   ],
   "source": [
    "# Number of exonic regions biased towards line in at least 1 genotype\n",
    "((dfTFilter == -1).sum(axis=1) > 0).sum()"
   ]
  },
  {
   "cell_type": "code",
   "execution_count": null,
   "metadata": {
    "collapsed": true
   },
   "outputs": [],
   "source": []
  }
 ],
 "metadata": {
  "kernelspec": {
   "display_name": "Python 2",
   "language": "python",
   "name": "python2"
  },
  "language_info": {
   "codemirror_mode": {
    "name": "ipython",
    "version": 2
   },
   "file_extension": ".py",
   "mimetype": "text/x-python",
   "name": "python",
   "nbconvert_exporter": "python",
   "pygments_lexer": "ipython2",
   "version": "2.7.6"
  }
 },
 "nbformat": 4,
 "nbformat_minor": 0
}
