{
 "cells": [
  {
   "cell_type": "markdown",
   "metadata": {},
   "source": [
    "# Low Coverage Lines\n",
    "\n",
    "Kjong was wanting a list of low coverage lines to see if they are correlated with the eQTL results. Here I make these lists for mated and virgin and together.\n",
    "\n",
    "## Import Raw APN Counts"
   ]
  },
  {
   "cell_type": "code",
   "execution_count": null,
   "metadata": {
    "collapsed": true
   },
   "outputs": [],
   "source": [
    "import numpy as np\n",
    "import pandas as pd\n",
    "import matplotlib.pyplot as plt\n",
    "%matplotlib inline"
   ]
  },
  {
   "cell_type": "code",
   "execution_count": null,
   "metadata": {
    "collapsed": true
   },
   "outputs": [],
   "source": [
    "fname = '../pipeline_output/rawAPN_uqNormCenter_plusFlags_20140518.csv'\n",
    "df = pd.read_csv(fname)"
   ]
  },
  {
   "cell_type": "code",
   "execution_count": null,
   "metadata": {
    "collapsed": true
   },
   "outputs": [],
   "source": [
    "# Sum Region Depth across bio-reps\n",
    "grp = df.groupby(['line', 'mating_status', 'fusion_id'])\n",
    "dfSums = pd.DataFrame(grp['region_depth'].sum())\n",
    "dfSums.reset_index(inplace=True)"
   ]
  },
  {
   "cell_type": "code",
   "execution_count": null,
   "metadata": {
    "collapsed": false
   },
   "outputs": [],
   "source": [
    "# Grab region length for each fusion\n",
    "rlen = df[['fusion_id', 'region_length']].copy()\n",
    "rlen.dropna(inplace=True)\n",
    "rlen.drop_duplicates(subset='fusion_id', inplace=True)"
   ]
  },
  {
   "cell_type": "code",
   "execution_count": null,
   "metadata": {
    "collapsed": false,
    "run_control": {
     "marked": false
    }
   },
   "outputs": [],
   "source": [
    "merged = dfSums.merge(rlen, on='fusion_id', how='left')\n",
    "merged['apn'] = merged['region_depth'] / merged['region_length']\n",
    "merged.drop(['region_depth', 'region_length'], axis=1, inplace=True)"
   ]
  },
  {
   "cell_type": "markdown",
   "metadata": {},
   "source": [
    "## Mated"
   ]
  },
  {
   "cell_type": "code",
   "execution_count": null,
   "metadata": {
    "collapsed": false
   },
   "outputs": [],
   "source": [
    "# Created Mated data set\n",
    "mated = merged[merged['mating_status'] == 'M'].copy()\n",
    "mated.drop('mating_status', axis=1, inplace=True)"
   ]
  },
  {
   "cell_type": "code",
   "execution_count": null,
   "metadata": {
    "collapsed": false
   },
   "outputs": [],
   "source": [
    "# Transpose the data for plotting\n",
    "matedT = mated.pivot_table(values='apn', columns='line', index='fusion_id')\n",
    "matedT.head(3)"
   ]
  },
  {
   "cell_type": "code",
   "execution_count": null,
   "metadata": {
    "collapsed": false
   },
   "outputs": [],
   "source": [
    "# Order by lines mean APN\n",
    "grp = mated.groupby('line')\n",
    "dfMeanM = pd.DataFrame(grp['apn'].mean())\n",
    "dfMeanM.sort(columns='apn', axis=0, inplace=True)\n",
    "dfMeanM['rank'] = dfMeanM.rank()\n",
    "dfMeanM.to_csv('../pipeline_output/mated_mean_apn_rank.csv')"
   ]
  },
  {
   "cell_type": "code",
   "execution_count": null,
   "metadata": {
    "collapsed": false
   },
   "outputs": [],
   "source": [
    "# Plot\n",
    "matedT[dfMeanM.index].plot(kind='box', figsize=(20, 10), rot=90, ylim=(0, 10000))"
   ]
  },
  {
   "cell_type": "markdown",
   "metadata": {},
   "source": [
    "## Virgin"
   ]
  },
  {
   "cell_type": "code",
   "execution_count": null,
   "metadata": {
    "collapsed": true
   },
   "outputs": [],
   "source": [
    "# Created Virgin data set\n",
    "virgin = merged[merged['mating_status'] == 'V'].copy()\n",
    "virgin.drop('mating_status', axis=1, inplace=True)"
   ]
  },
  {
   "cell_type": "code",
   "execution_count": null,
   "metadata": {
    "collapsed": false
   },
   "outputs": [],
   "source": [
    "# Transpose the data for plotting\n",
    "virginT = virgin.pivot_table(values='apn', columns='line', index='fusion_id')\n",
    "virginT.head(3)"
   ]
  },
  {
   "cell_type": "code",
   "execution_count": null,
   "metadata": {
    "collapsed": true
   },
   "outputs": [],
   "source": [
    "# Order by lines mean APN\n",
    "grp = virgin.groupby('line')\n",
    "dfMeanV = pd.DataFrame(grp['apn'].mean())\n",
    "dfMeanV.sort(columns='apn', axis=0, inplace=True)\n",
    "dfMeanV['rank'] = dfMeanV.rank()\n",
    "dfMeanV.to_csv('../pipeline_output/virgin_mean_apn_rank.csv')"
   ]
  },
  {
   "cell_type": "code",
   "execution_count": null,
   "metadata": {
    "collapsed": false
   },
   "outputs": [],
   "source": [
    "# Plot\n",
    "virginT[dfMeanV.index].plot(kind='box', figsize=(20, 10), rot=90, ylim=(0, 10000))"
   ]
  },
  {
   "cell_type": "markdown",
   "metadata": {},
   "source": [
    "## Sum Across Mating Status\n",
    "\n",
    "Here I want to combine mated and virgin and just look at line effects."
   ]
  },
  {
   "cell_type": "code",
   "execution_count": null,
   "metadata": {
    "collapsed": false
   },
   "outputs": [],
   "source": [
    "# Sum APN across bio-reps and mating status\n",
    "grp = df.groupby(['line', 'fusion_id'])\n",
    "dfSumsBoth = pd.DataFrame(grp['region_depth'].sum())\n",
    "dfSumsBoth.reset_index(inplace=True)"
   ]
  },
  {
   "cell_type": "code",
   "execution_count": null,
   "metadata": {
    "collapsed": false
   },
   "outputs": [],
   "source": [
    "# Grab region length for each fusion\n",
    "rlen = df[['fusion_id', 'region_length']].copy()\n",
    "rlen.dropna(inplace=True)\n",
    "rlen.drop_duplicates(subset='fusion_id', inplace=True)"
   ]
  },
  {
   "cell_type": "code",
   "execution_count": null,
   "metadata": {
    "collapsed": true
   },
   "outputs": [],
   "source": [
    "merged = dfSumsBoth.merge(rlen, on='fusion_id', how='left')\n",
    "merged['apn'] = merged['region_depth'] / merged['region_length']\n",
    "merged.drop(['region_depth', 'region_length'], axis=1, inplace=True)"
   ]
  },
  {
   "cell_type": "code",
   "execution_count": null,
   "metadata": {
    "collapsed": false
   },
   "outputs": [],
   "source": [
    "# Transpose the data for plotting\n",
    "bothT = merged.pivot_table(values='apn', columns='line', index='fusion_id')\n",
    "bothT.head(3)"
   ]
  },
  {
   "cell_type": "code",
   "execution_count": null,
   "metadata": {
    "collapsed": true
   },
   "outputs": [],
   "source": [
    "# Order by lines mean APN\n",
    "grp = merged.groupby('line')\n",
    "dfMeanB = pd.DataFrame(grp['apn'].mean())\n",
    "dfMeanB.sort(columns='apn', axis=0, inplace=True)\n",
    "dfMeanB['rank'] = dfMeanB.rank()\n",
    "dfMeanB.to_csv('../pipeline_output/mated_plus_virgin_mean_apn_rank.csv')"
   ]
  },
  {
   "cell_type": "code",
   "execution_count": null,
   "metadata": {
    "collapsed": false
   },
   "outputs": [],
   "source": [
    "# Plot\n",
    "bothT[dfMeanB.index].plot(kind='box', figsize=(20, 10), rot=90, ylim=(0, 10000))"
   ]
  },
  {
   "cell_type": "code",
   "execution_count": null,
   "metadata": {
    "collapsed": true
   },
   "outputs": [],
   "source": []
  }
 ],
 "metadata": {
  "kernelspec": {
   "display_name": "Python 2",
   "language": "python",
   "name": "python2"
  },
  "language_info": {
   "codemirror_mode": {
    "name": "ipython",
    "version": 2
   },
   "file_extension": ".py",
   "mimetype": "text/x-python",
   "name": "python",
   "nbconvert_exporter": "python",
   "pygments_lexer": "ipython2",
   "version": "2.7.6"
  }
 },
 "nbformat": 4,
 "nbformat_minor": 0
}
